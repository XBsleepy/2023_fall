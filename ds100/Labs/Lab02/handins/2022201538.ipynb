{
 "cells": [
  {
   "cell_type": "markdown",
   "id": "d523d067",
   "metadata": {},
   "source": [
    "## 导入所需要的Pakage"
   ]
  },
  {
   "cell_type": "code",
   "execution_count": 121,
   "id": "a518f879",
   "metadata": {},
   "outputs": [],
   "source": [
    "import pandas as pd\n",
    "import numpy as np\n",
    "import matplotlib.pyplot as plt \n",
    "import seaborn as sns\n",
    "sns.set_theme(style=\"whitegrid\")"
   ]
  },
  {
   "cell_type": "markdown",
   "id": "c8346a06",
   "metadata": {},
   "source": [
    "## 数据读取和数据清洗"
   ]
  },
  {
   "cell_type": "markdown",
   "id": "e87d6b5a",
   "metadata": {},
   "source": [
    "### 数据准备"
   ]
  },
  {
   "cell_type": "code",
   "execution_count": 122,
   "id": "80d39f79",
   "metadata": {},
   "outputs": [
    {
     "data": {
      "text/html": [
       "<div>\n",
       "<style scoped>\n",
       "    .dataframe tbody tr th:only-of-type {\n",
       "        vertical-align: middle;\n",
       "    }\n",
       "\n",
       "    .dataframe tbody tr th {\n",
       "        vertical-align: top;\n",
       "    }\n",
       "\n",
       "    .dataframe thead th {\n",
       "        text-align: right;\n",
       "    }\n",
       "</style>\n",
       "<table border=\"1\" class=\"dataframe\">\n",
       "  <thead>\n",
       "    <tr style=\"text-align: right;\">\n",
       "      <th></th>\n",
       "      <th>iso_code</th>\n",
       "      <th>country</th>\n",
       "      <th>year</th>\n",
       "      <th>co2</th>\n",
       "      <th>consumption_co2</th>\n",
       "      <th>co2_growth_prct</th>\n",
       "      <th>co2_growth_abs</th>\n",
       "      <th>trade_co2</th>\n",
       "      <th>co2_per_capita</th>\n",
       "      <th>consumption_co2_per_capita</th>\n",
       "      <th>...</th>\n",
       "      <th>ghg_per_capita</th>\n",
       "      <th>methane</th>\n",
       "      <th>methane_per_capita</th>\n",
       "      <th>nitrous_oxide</th>\n",
       "      <th>nitrous_oxide_per_capita</th>\n",
       "      <th>population</th>\n",
       "      <th>gdp</th>\n",
       "      <th>primary_energy_consumption</th>\n",
       "      <th>energy_per_capita</th>\n",
       "      <th>energy_per_gdp</th>\n",
       "    </tr>\n",
       "  </thead>\n",
       "  <tbody>\n",
       "    <tr>\n",
       "      <th>0</th>\n",
       "      <td>AFG</td>\n",
       "      <td>Afghanistan</td>\n",
       "      <td>2020</td>\n",
       "      <td>12.160</td>\n",
       "      <td>NaN</td>\n",
       "      <td>0.11</td>\n",
       "      <td>0.014</td>\n",
       "      <td>NaN</td>\n",
       "      <td>0.312</td>\n",
       "      <td>NaN</td>\n",
       "      <td>...</td>\n",
       "      <td>NaN</td>\n",
       "      <td>NaN</td>\n",
       "      <td>NaN</td>\n",
       "      <td>NaN</td>\n",
       "      <td>NaN</td>\n",
       "      <td>3.892834e+07</td>\n",
       "      <td>NaN</td>\n",
       "      <td>NaN</td>\n",
       "      <td>NaN</td>\n",
       "      <td>NaN</td>\n",
       "    </tr>\n",
       "    <tr>\n",
       "      <th>1</th>\n",
       "      <td>NaN</td>\n",
       "      <td>Africa</td>\n",
       "      <td>2020</td>\n",
       "      <td>1326.044</td>\n",
       "      <td>NaN</td>\n",
       "      <td>-5.85</td>\n",
       "      <td>-82.435</td>\n",
       "      <td>NaN</td>\n",
       "      <td>0.990</td>\n",
       "      <td>NaN</td>\n",
       "      <td>...</td>\n",
       "      <td>NaN</td>\n",
       "      <td>NaN</td>\n",
       "      <td>NaN</td>\n",
       "      <td>NaN</td>\n",
       "      <td>NaN</td>\n",
       "      <td>1.340598e+09</td>\n",
       "      <td>NaN</td>\n",
       "      <td>NaN</td>\n",
       "      <td>NaN</td>\n",
       "      <td>NaN</td>\n",
       "    </tr>\n",
       "    <tr>\n",
       "      <th>2</th>\n",
       "      <td>ALB</td>\n",
       "      <td>Albania</td>\n",
       "      <td>2020</td>\n",
       "      <td>4.535</td>\n",
       "      <td>NaN</td>\n",
       "      <td>-6.76</td>\n",
       "      <td>-0.329</td>\n",
       "      <td>NaN</td>\n",
       "      <td>1.576</td>\n",
       "      <td>NaN</td>\n",
       "      <td>...</td>\n",
       "      <td>NaN</td>\n",
       "      <td>NaN</td>\n",
       "      <td>NaN</td>\n",
       "      <td>NaN</td>\n",
       "      <td>NaN</td>\n",
       "      <td>2.877800e+06</td>\n",
       "      <td>NaN</td>\n",
       "      <td>NaN</td>\n",
       "      <td>NaN</td>\n",
       "      <td>NaN</td>\n",
       "    </tr>\n",
       "    <tr>\n",
       "      <th>3</th>\n",
       "      <td>DZA</td>\n",
       "      <td>Algeria</td>\n",
       "      <td>2020</td>\n",
       "      <td>154.995</td>\n",
       "      <td>NaN</td>\n",
       "      <td>-6.99</td>\n",
       "      <td>-11.646</td>\n",
       "      <td>NaN</td>\n",
       "      <td>3.535</td>\n",
       "      <td>NaN</td>\n",
       "      <td>...</td>\n",
       "      <td>NaN</td>\n",
       "      <td>NaN</td>\n",
       "      <td>NaN</td>\n",
       "      <td>NaN</td>\n",
       "      <td>NaN</td>\n",
       "      <td>4.385104e+07</td>\n",
       "      <td>NaN</td>\n",
       "      <td>NaN</td>\n",
       "      <td>NaN</td>\n",
       "      <td>NaN</td>\n",
       "    </tr>\n",
       "    <tr>\n",
       "      <th>4</th>\n",
       "      <td>AND</td>\n",
       "      <td>Andorra</td>\n",
       "      <td>2020</td>\n",
       "      <td>0.466</td>\n",
       "      <td>NaN</td>\n",
       "      <td>-7.08</td>\n",
       "      <td>-0.036</td>\n",
       "      <td>NaN</td>\n",
       "      <td>6.035</td>\n",
       "      <td>NaN</td>\n",
       "      <td>...</td>\n",
       "      <td>NaN</td>\n",
       "      <td>NaN</td>\n",
       "      <td>NaN</td>\n",
       "      <td>NaN</td>\n",
       "      <td>NaN</td>\n",
       "      <td>7.726500e+04</td>\n",
       "      <td>NaN</td>\n",
       "      <td>NaN</td>\n",
       "      <td>NaN</td>\n",
       "      <td>NaN</td>\n",
       "    </tr>\n",
       "    <tr>\n",
       "      <th>...</th>\n",
       "      <td>...</td>\n",
       "      <td>...</td>\n",
       "      <td>...</td>\n",
       "      <td>...</td>\n",
       "      <td>...</td>\n",
       "      <td>...</td>\n",
       "      <td>...</td>\n",
       "      <td>...</td>\n",
       "      <td>...</td>\n",
       "      <td>...</td>\n",
       "      <td>...</td>\n",
       "      <td>...</td>\n",
       "      <td>...</td>\n",
       "      <td>...</td>\n",
       "      <td>...</td>\n",
       "      <td>...</td>\n",
       "      <td>...</td>\n",
       "      <td>...</td>\n",
       "      <td>...</td>\n",
       "      <td>...</td>\n",
       "      <td>...</td>\n",
       "    </tr>\n",
       "    <tr>\n",
       "      <th>25199</th>\n",
       "      <td>NaN</td>\n",
       "      <td>EU-28</td>\n",
       "      <td>1750</td>\n",
       "      <td>9.351</td>\n",
       "      <td>NaN</td>\n",
       "      <td>NaN</td>\n",
       "      <td>NaN</td>\n",
       "      <td>NaN</td>\n",
       "      <td>1.007</td>\n",
       "      <td>NaN</td>\n",
       "      <td>...</td>\n",
       "      <td>NaN</td>\n",
       "      <td>NaN</td>\n",
       "      <td>NaN</td>\n",
       "      <td>NaN</td>\n",
       "      <td>NaN</td>\n",
       "      <td>NaN</td>\n",
       "      <td>NaN</td>\n",
       "      <td>NaN</td>\n",
       "      <td>NaN</td>\n",
       "      <td>NaN</td>\n",
       "    </tr>\n",
       "    <tr>\n",
       "      <th>25200</th>\n",
       "      <td>NaN</td>\n",
       "      <td>Europe</td>\n",
       "      <td>1750</td>\n",
       "      <td>9.351</td>\n",
       "      <td>NaN</td>\n",
       "      <td>NaN</td>\n",
       "      <td>NaN</td>\n",
       "      <td>NaN</td>\n",
       "      <td>1.007</td>\n",
       "      <td>NaN</td>\n",
       "      <td>...</td>\n",
       "      <td>NaN</td>\n",
       "      <td>NaN</td>\n",
       "      <td>NaN</td>\n",
       "      <td>NaN</td>\n",
       "      <td>NaN</td>\n",
       "      <td>1.503060e+08</td>\n",
       "      <td>NaN</td>\n",
       "      <td>NaN</td>\n",
       "      <td>NaN</td>\n",
       "      <td>NaN</td>\n",
       "    </tr>\n",
       "    <tr>\n",
       "      <th>25201</th>\n",
       "      <td>NaN</td>\n",
       "      <td>Europe (excl. EU-27)</td>\n",
       "      <td>1750</td>\n",
       "      <td>9.351</td>\n",
       "      <td>NaN</td>\n",
       "      <td>NaN</td>\n",
       "      <td>NaN</td>\n",
       "      <td>NaN</td>\n",
       "      <td>1.007</td>\n",
       "      <td>NaN</td>\n",
       "      <td>...</td>\n",
       "      <td>NaN</td>\n",
       "      <td>NaN</td>\n",
       "      <td>NaN</td>\n",
       "      <td>NaN</td>\n",
       "      <td>NaN</td>\n",
       "      <td>NaN</td>\n",
       "      <td>NaN</td>\n",
       "      <td>NaN</td>\n",
       "      <td>NaN</td>\n",
       "      <td>NaN</td>\n",
       "    </tr>\n",
       "    <tr>\n",
       "      <th>25202</th>\n",
       "      <td>GBR</td>\n",
       "      <td>United Kingdom</td>\n",
       "      <td>1750</td>\n",
       "      <td>9.351</td>\n",
       "      <td>NaN</td>\n",
       "      <td>NaN</td>\n",
       "      <td>NaN</td>\n",
       "      <td>NaN</td>\n",
       "      <td>1.007</td>\n",
       "      <td>NaN</td>\n",
       "      <td>...</td>\n",
       "      <td>NaN</td>\n",
       "      <td>NaN</td>\n",
       "      <td>NaN</td>\n",
       "      <td>NaN</td>\n",
       "      <td>NaN</td>\n",
       "      <td>9.288174e+06</td>\n",
       "      <td>NaN</td>\n",
       "      <td>NaN</td>\n",
       "      <td>NaN</td>\n",
       "      <td>NaN</td>\n",
       "    </tr>\n",
       "    <tr>\n",
       "      <th>25203</th>\n",
       "      <td>OWID_WRL</td>\n",
       "      <td>World</td>\n",
       "      <td>1750</td>\n",
       "      <td>9.351</td>\n",
       "      <td>NaN</td>\n",
       "      <td>NaN</td>\n",
       "      <td>NaN</td>\n",
       "      <td>NaN</td>\n",
       "      <td>0.012</td>\n",
       "      <td>NaN</td>\n",
       "      <td>...</td>\n",
       "      <td>NaN</td>\n",
       "      <td>NaN</td>\n",
       "      <td>NaN</td>\n",
       "      <td>NaN</td>\n",
       "      <td>NaN</td>\n",
       "      <td>7.456644e+08</td>\n",
       "      <td>NaN</td>\n",
       "      <td>NaN</td>\n",
       "      <td>NaN</td>\n",
       "      <td>NaN</td>\n",
       "    </tr>\n",
       "  </tbody>\n",
       "</table>\n",
       "<p>25204 rows × 58 columns</p>\n",
       "</div>"
      ],
      "text/plain": [
       "       iso_code               country  year       co2  consumption_co2  \\\n",
       "0           AFG           Afghanistan  2020    12.160              NaN   \n",
       "1           NaN                Africa  2020  1326.044              NaN   \n",
       "2           ALB               Albania  2020     4.535              NaN   \n",
       "3           DZA               Algeria  2020   154.995              NaN   \n",
       "4           AND               Andorra  2020     0.466              NaN   \n",
       "...         ...                   ...   ...       ...              ...   \n",
       "25199       NaN                 EU-28  1750     9.351              NaN   \n",
       "25200       NaN                Europe  1750     9.351              NaN   \n",
       "25201       NaN  Europe (excl. EU-27)  1750     9.351              NaN   \n",
       "25202       GBR        United Kingdom  1750     9.351              NaN   \n",
       "25203  OWID_WRL                 World  1750     9.351              NaN   \n",
       "\n",
       "       co2_growth_prct  co2_growth_abs  trade_co2  co2_per_capita  \\\n",
       "0                 0.11           0.014        NaN           0.312   \n",
       "1                -5.85         -82.435        NaN           0.990   \n",
       "2                -6.76          -0.329        NaN           1.576   \n",
       "3                -6.99         -11.646        NaN           3.535   \n",
       "4                -7.08          -0.036        NaN           6.035   \n",
       "...                ...             ...        ...             ...   \n",
       "25199              NaN             NaN        NaN           1.007   \n",
       "25200              NaN             NaN        NaN           1.007   \n",
       "25201              NaN             NaN        NaN           1.007   \n",
       "25202              NaN             NaN        NaN           1.007   \n",
       "25203              NaN             NaN        NaN           0.012   \n",
       "\n",
       "       consumption_co2_per_capita  ...  ghg_per_capita  methane  \\\n",
       "0                             NaN  ...             NaN      NaN   \n",
       "1                             NaN  ...             NaN      NaN   \n",
       "2                             NaN  ...             NaN      NaN   \n",
       "3                             NaN  ...             NaN      NaN   \n",
       "4                             NaN  ...             NaN      NaN   \n",
       "...                           ...  ...             ...      ...   \n",
       "25199                         NaN  ...             NaN      NaN   \n",
       "25200                         NaN  ...             NaN      NaN   \n",
       "25201                         NaN  ...             NaN      NaN   \n",
       "25202                         NaN  ...             NaN      NaN   \n",
       "25203                         NaN  ...             NaN      NaN   \n",
       "\n",
       "       methane_per_capita  nitrous_oxide  nitrous_oxide_per_capita  \\\n",
       "0                     NaN            NaN                       NaN   \n",
       "1                     NaN            NaN                       NaN   \n",
       "2                     NaN            NaN                       NaN   \n",
       "3                     NaN            NaN                       NaN   \n",
       "4                     NaN            NaN                       NaN   \n",
       "...                   ...            ...                       ...   \n",
       "25199                 NaN            NaN                       NaN   \n",
       "25200                 NaN            NaN                       NaN   \n",
       "25201                 NaN            NaN                       NaN   \n",
       "25202                 NaN            NaN                       NaN   \n",
       "25203                 NaN            NaN                       NaN   \n",
       "\n",
       "         population  gdp  primary_energy_consumption  energy_per_capita  \\\n",
       "0      3.892834e+07  NaN                         NaN                NaN   \n",
       "1      1.340598e+09  NaN                         NaN                NaN   \n",
       "2      2.877800e+06  NaN                         NaN                NaN   \n",
       "3      4.385104e+07  NaN                         NaN                NaN   \n",
       "4      7.726500e+04  NaN                         NaN                NaN   \n",
       "...             ...  ...                         ...                ...   \n",
       "25199           NaN  NaN                         NaN                NaN   \n",
       "25200  1.503060e+08  NaN                         NaN                NaN   \n",
       "25201           NaN  NaN                         NaN                NaN   \n",
       "25202  9.288174e+06  NaN                         NaN                NaN   \n",
       "25203  7.456644e+08  NaN                         NaN                NaN   \n",
       "\n",
       "       energy_per_gdp  \n",
       "0                 NaN  \n",
       "1                 NaN  \n",
       "2                 NaN  \n",
       "3                 NaN  \n",
       "4                 NaN  \n",
       "...               ...  \n",
       "25199             NaN  \n",
       "25200             NaN  \n",
       "25201             NaN  \n",
       "25202             NaN  \n",
       "25203             NaN  \n",
       "\n",
       "[25204 rows x 58 columns]"
      ]
     },
     "execution_count": 122,
     "metadata": {},
     "output_type": "execute_result"
    }
   ],
   "source": [
    "df = pd.read_csv('./co2-data/co2-data/owid-co2-data.csv')\n",
    "df"
   ]
  },
  {
   "cell_type": "markdown",
   "id": "86cf6225",
   "metadata": {},
   "source": [
    "iso_code：国家代码，country：国家，year：年份，co2：碳排放量，co2_per_capita：人均碳排放量"
   ]
  },
  {
   "cell_type": "markdown",
   "id": "c84cd0a6",
   "metadata": {},
   "source": [
    "### 数据清洗"
   ]
  },
  {
   "cell_type": "code",
   "execution_count": 123,
   "id": "209b524c",
   "metadata": {},
   "outputs": [
    {
     "data": {
      "text/html": [
       "<div>\n",
       "<style scoped>\n",
       "    .dataframe tbody tr th:only-of-type {\n",
       "        vertical-align: middle;\n",
       "    }\n",
       "\n",
       "    .dataframe tbody tr th {\n",
       "        vertical-align: top;\n",
       "    }\n",
       "\n",
       "    .dataframe thead th {\n",
       "        text-align: right;\n",
       "    }\n",
       "</style>\n",
       "<table border=\"1\" class=\"dataframe\">\n",
       "  <thead>\n",
       "    <tr style=\"text-align: right;\">\n",
       "      <th></th>\n",
       "      <th>iso_code</th>\n",
       "      <th>country</th>\n",
       "      <th>year</th>\n",
       "      <th>co2</th>\n",
       "      <th>consumption_co2</th>\n",
       "      <th>co2_growth_prct</th>\n",
       "      <th>co2_growth_abs</th>\n",
       "      <th>trade_co2</th>\n",
       "      <th>co2_per_capita</th>\n",
       "      <th>consumption_co2_per_capita</th>\n",
       "      <th>...</th>\n",
       "      <th>ghg_per_capita</th>\n",
       "      <th>methane</th>\n",
       "      <th>methane_per_capita</th>\n",
       "      <th>nitrous_oxide</th>\n",
       "      <th>nitrous_oxide_per_capita</th>\n",
       "      <th>population</th>\n",
       "      <th>gdp</th>\n",
       "      <th>primary_energy_consumption</th>\n",
       "      <th>energy_per_capita</th>\n",
       "      <th>energy_per_gdp</th>\n",
       "    </tr>\n",
       "  </thead>\n",
       "  <tbody>\n",
       "    <tr>\n",
       "      <th>0</th>\n",
       "      <td>AFG</td>\n",
       "      <td>Afghanistan</td>\n",
       "      <td>2020</td>\n",
       "      <td>12.160</td>\n",
       "      <td>NaN</td>\n",
       "      <td>0.11</td>\n",
       "      <td>0.014</td>\n",
       "      <td>NaN</td>\n",
       "      <td>0.312</td>\n",
       "      <td>NaN</td>\n",
       "      <td>...</td>\n",
       "      <td>NaN</td>\n",
       "      <td>NaN</td>\n",
       "      <td>NaN</td>\n",
       "      <td>NaN</td>\n",
       "      <td>NaN</td>\n",
       "      <td>38928341.0</td>\n",
       "      <td>NaN</td>\n",
       "      <td>NaN</td>\n",
       "      <td>NaN</td>\n",
       "      <td>NaN</td>\n",
       "    </tr>\n",
       "    <tr>\n",
       "      <th>2</th>\n",
       "      <td>ALB</td>\n",
       "      <td>Albania</td>\n",
       "      <td>2020</td>\n",
       "      <td>4.535</td>\n",
       "      <td>NaN</td>\n",
       "      <td>-6.76</td>\n",
       "      <td>-0.329</td>\n",
       "      <td>NaN</td>\n",
       "      <td>1.576</td>\n",
       "      <td>NaN</td>\n",
       "      <td>...</td>\n",
       "      <td>NaN</td>\n",
       "      <td>NaN</td>\n",
       "      <td>NaN</td>\n",
       "      <td>NaN</td>\n",
       "      <td>NaN</td>\n",
       "      <td>2877800.0</td>\n",
       "      <td>NaN</td>\n",
       "      <td>NaN</td>\n",
       "      <td>NaN</td>\n",
       "      <td>NaN</td>\n",
       "    </tr>\n",
       "    <tr>\n",
       "      <th>3</th>\n",
       "      <td>DZA</td>\n",
       "      <td>Algeria</td>\n",
       "      <td>2020</td>\n",
       "      <td>154.995</td>\n",
       "      <td>NaN</td>\n",
       "      <td>-6.99</td>\n",
       "      <td>-11.646</td>\n",
       "      <td>NaN</td>\n",
       "      <td>3.535</td>\n",
       "      <td>NaN</td>\n",
       "      <td>...</td>\n",
       "      <td>NaN</td>\n",
       "      <td>NaN</td>\n",
       "      <td>NaN</td>\n",
       "      <td>NaN</td>\n",
       "      <td>NaN</td>\n",
       "      <td>43851043.0</td>\n",
       "      <td>NaN</td>\n",
       "      <td>NaN</td>\n",
       "      <td>NaN</td>\n",
       "      <td>NaN</td>\n",
       "    </tr>\n",
       "    <tr>\n",
       "      <th>4</th>\n",
       "      <td>AND</td>\n",
       "      <td>Andorra</td>\n",
       "      <td>2020</td>\n",
       "      <td>0.466</td>\n",
       "      <td>NaN</td>\n",
       "      <td>-7.08</td>\n",
       "      <td>-0.036</td>\n",
       "      <td>NaN</td>\n",
       "      <td>6.035</td>\n",
       "      <td>NaN</td>\n",
       "      <td>...</td>\n",
       "      <td>NaN</td>\n",
       "      <td>NaN</td>\n",
       "      <td>NaN</td>\n",
       "      <td>NaN</td>\n",
       "      <td>NaN</td>\n",
       "      <td>77265.0</td>\n",
       "      <td>NaN</td>\n",
       "      <td>NaN</td>\n",
       "      <td>NaN</td>\n",
       "      <td>NaN</td>\n",
       "    </tr>\n",
       "    <tr>\n",
       "      <th>5</th>\n",
       "      <td>AGO</td>\n",
       "      <td>Angola</td>\n",
       "      <td>2020</td>\n",
       "      <td>22.198</td>\n",
       "      <td>NaN</td>\n",
       "      <td>-5.49</td>\n",
       "      <td>-1.289</td>\n",
       "      <td>NaN</td>\n",
       "      <td>0.675</td>\n",
       "      <td>NaN</td>\n",
       "      <td>...</td>\n",
       "      <td>NaN</td>\n",
       "      <td>NaN</td>\n",
       "      <td>NaN</td>\n",
       "      <td>NaN</td>\n",
       "      <td>NaN</td>\n",
       "      <td>32866267.0</td>\n",
       "      <td>NaN</td>\n",
       "      <td>NaN</td>\n",
       "      <td>NaN</td>\n",
       "      <td>NaN</td>\n",
       "    </tr>\n",
       "    <tr>\n",
       "      <th>...</th>\n",
       "      <td>...</td>\n",
       "      <td>...</td>\n",
       "      <td>...</td>\n",
       "      <td>...</td>\n",
       "      <td>...</td>\n",
       "      <td>...</td>\n",
       "      <td>...</td>\n",
       "      <td>...</td>\n",
       "      <td>...</td>\n",
       "      <td>...</td>\n",
       "      <td>...</td>\n",
       "      <td>...</td>\n",
       "      <td>...</td>\n",
       "      <td>...</td>\n",
       "      <td>...</td>\n",
       "      <td>...</td>\n",
       "      <td>...</td>\n",
       "      <td>...</td>\n",
       "      <td>...</td>\n",
       "      <td>...</td>\n",
       "      <td>...</td>\n",
       "    </tr>\n",
       "    <tr>\n",
       "      <th>25193</th>\n",
       "      <td>OWID_WRL</td>\n",
       "      <td>World</td>\n",
       "      <td>1752</td>\n",
       "      <td>9.354</td>\n",
       "      <td>NaN</td>\n",
       "      <td>0.04</td>\n",
       "      <td>0.004</td>\n",
       "      <td>NaN</td>\n",
       "      <td>NaN</td>\n",
       "      <td>NaN</td>\n",
       "      <td>...</td>\n",
       "      <td>NaN</td>\n",
       "      <td>NaN</td>\n",
       "      <td>NaN</td>\n",
       "      <td>NaN</td>\n",
       "      <td>NaN</td>\n",
       "      <td>NaN</td>\n",
       "      <td>NaN</td>\n",
       "      <td>NaN</td>\n",
       "      <td>NaN</td>\n",
       "      <td>NaN</td>\n",
       "    </tr>\n",
       "    <tr>\n",
       "      <th>25197</th>\n",
       "      <td>GBR</td>\n",
       "      <td>United Kingdom</td>\n",
       "      <td>1751</td>\n",
       "      <td>9.351</td>\n",
       "      <td>NaN</td>\n",
       "      <td>0.00</td>\n",
       "      <td>0.000</td>\n",
       "      <td>NaN</td>\n",
       "      <td>NaN</td>\n",
       "      <td>NaN</td>\n",
       "      <td>...</td>\n",
       "      <td>NaN</td>\n",
       "      <td>NaN</td>\n",
       "      <td>NaN</td>\n",
       "      <td>NaN</td>\n",
       "      <td>NaN</td>\n",
       "      <td>NaN</td>\n",
       "      <td>NaN</td>\n",
       "      <td>NaN</td>\n",
       "      <td>NaN</td>\n",
       "      <td>NaN</td>\n",
       "    </tr>\n",
       "    <tr>\n",
       "      <th>25198</th>\n",
       "      <td>OWID_WRL</td>\n",
       "      <td>World</td>\n",
       "      <td>1751</td>\n",
       "      <td>9.351</td>\n",
       "      <td>NaN</td>\n",
       "      <td>0.00</td>\n",
       "      <td>0.000</td>\n",
       "      <td>NaN</td>\n",
       "      <td>NaN</td>\n",
       "      <td>NaN</td>\n",
       "      <td>...</td>\n",
       "      <td>NaN</td>\n",
       "      <td>NaN</td>\n",
       "      <td>NaN</td>\n",
       "      <td>NaN</td>\n",
       "      <td>NaN</td>\n",
       "      <td>NaN</td>\n",
       "      <td>NaN</td>\n",
       "      <td>NaN</td>\n",
       "      <td>NaN</td>\n",
       "      <td>NaN</td>\n",
       "    </tr>\n",
       "    <tr>\n",
       "      <th>25202</th>\n",
       "      <td>GBR</td>\n",
       "      <td>United Kingdom</td>\n",
       "      <td>1750</td>\n",
       "      <td>9.351</td>\n",
       "      <td>NaN</td>\n",
       "      <td>NaN</td>\n",
       "      <td>NaN</td>\n",
       "      <td>NaN</td>\n",
       "      <td>1.007</td>\n",
       "      <td>NaN</td>\n",
       "      <td>...</td>\n",
       "      <td>NaN</td>\n",
       "      <td>NaN</td>\n",
       "      <td>NaN</td>\n",
       "      <td>NaN</td>\n",
       "      <td>NaN</td>\n",
       "      <td>9288174.0</td>\n",
       "      <td>NaN</td>\n",
       "      <td>NaN</td>\n",
       "      <td>NaN</td>\n",
       "      <td>NaN</td>\n",
       "    </tr>\n",
       "    <tr>\n",
       "      <th>25203</th>\n",
       "      <td>OWID_WRL</td>\n",
       "      <td>World</td>\n",
       "      <td>1750</td>\n",
       "      <td>9.351</td>\n",
       "      <td>NaN</td>\n",
       "      <td>NaN</td>\n",
       "      <td>NaN</td>\n",
       "      <td>NaN</td>\n",
       "      <td>0.012</td>\n",
       "      <td>NaN</td>\n",
       "      <td>...</td>\n",
       "      <td>NaN</td>\n",
       "      <td>NaN</td>\n",
       "      <td>NaN</td>\n",
       "      <td>NaN</td>\n",
       "      <td>NaN</td>\n",
       "      <td>745664445.0</td>\n",
       "      <td>NaN</td>\n",
       "      <td>NaN</td>\n",
       "      <td>NaN</td>\n",
       "      <td>NaN</td>\n",
       "    </tr>\n",
       "  </tbody>\n",
       "</table>\n",
       "<p>21948 rows × 58 columns</p>\n",
       "</div>"
      ],
      "text/plain": [
       "       iso_code         country  year      co2  consumption_co2  \\\n",
       "0           AFG     Afghanistan  2020   12.160              NaN   \n",
       "2           ALB         Albania  2020    4.535              NaN   \n",
       "3           DZA         Algeria  2020  154.995              NaN   \n",
       "4           AND         Andorra  2020    0.466              NaN   \n",
       "5           AGO          Angola  2020   22.198              NaN   \n",
       "...         ...             ...   ...      ...              ...   \n",
       "25193  OWID_WRL           World  1752    9.354              NaN   \n",
       "25197       GBR  United Kingdom  1751    9.351              NaN   \n",
       "25198  OWID_WRL           World  1751    9.351              NaN   \n",
       "25202       GBR  United Kingdom  1750    9.351              NaN   \n",
       "25203  OWID_WRL           World  1750    9.351              NaN   \n",
       "\n",
       "       co2_growth_prct  co2_growth_abs  trade_co2  co2_per_capita  \\\n",
       "0                 0.11           0.014        NaN           0.312   \n",
       "2                -6.76          -0.329        NaN           1.576   \n",
       "3                -6.99         -11.646        NaN           3.535   \n",
       "4                -7.08          -0.036        NaN           6.035   \n",
       "5                -5.49          -1.289        NaN           0.675   \n",
       "...                ...             ...        ...             ...   \n",
       "25193             0.04           0.004        NaN             NaN   \n",
       "25197             0.00           0.000        NaN             NaN   \n",
       "25198             0.00           0.000        NaN             NaN   \n",
       "25202              NaN             NaN        NaN           1.007   \n",
       "25203              NaN             NaN        NaN           0.012   \n",
       "\n",
       "       consumption_co2_per_capita  ...  ghg_per_capita  methane  \\\n",
       "0                             NaN  ...             NaN      NaN   \n",
       "2                             NaN  ...             NaN      NaN   \n",
       "3                             NaN  ...             NaN      NaN   \n",
       "4                             NaN  ...             NaN      NaN   \n",
       "5                             NaN  ...             NaN      NaN   \n",
       "...                           ...  ...             ...      ...   \n",
       "25193                         NaN  ...             NaN      NaN   \n",
       "25197                         NaN  ...             NaN      NaN   \n",
       "25198                         NaN  ...             NaN      NaN   \n",
       "25202                         NaN  ...             NaN      NaN   \n",
       "25203                         NaN  ...             NaN      NaN   \n",
       "\n",
       "       methane_per_capita  nitrous_oxide  nitrous_oxide_per_capita  \\\n",
       "0                     NaN            NaN                       NaN   \n",
       "2                     NaN            NaN                       NaN   \n",
       "3                     NaN            NaN                       NaN   \n",
       "4                     NaN            NaN                       NaN   \n",
       "5                     NaN            NaN                       NaN   \n",
       "...                   ...            ...                       ...   \n",
       "25193                 NaN            NaN                       NaN   \n",
       "25197                 NaN            NaN                       NaN   \n",
       "25198                 NaN            NaN                       NaN   \n",
       "25202                 NaN            NaN                       NaN   \n",
       "25203                 NaN            NaN                       NaN   \n",
       "\n",
       "        population  gdp  primary_energy_consumption  energy_per_capita  \\\n",
       "0       38928341.0  NaN                         NaN                NaN   \n",
       "2        2877800.0  NaN                         NaN                NaN   \n",
       "3       43851043.0  NaN                         NaN                NaN   \n",
       "4          77265.0  NaN                         NaN                NaN   \n",
       "5       32866267.0  NaN                         NaN                NaN   \n",
       "...            ...  ...                         ...                ...   \n",
       "25193          NaN  NaN                         NaN                NaN   \n",
       "25197          NaN  NaN                         NaN                NaN   \n",
       "25198          NaN  NaN                         NaN                NaN   \n",
       "25202    9288174.0  NaN                         NaN                NaN   \n",
       "25203  745664445.0  NaN                         NaN                NaN   \n",
       "\n",
       "       energy_per_gdp  \n",
       "0                 NaN  \n",
       "2                 NaN  \n",
       "3                 NaN  \n",
       "4                 NaN  \n",
       "5                 NaN  \n",
       "...               ...  \n",
       "25193             NaN  \n",
       "25197             NaN  \n",
       "25198             NaN  \n",
       "25202             NaN  \n",
       "25203             NaN  \n",
       "\n",
       "[21948 rows x 58 columns]"
      ]
     },
     "execution_count": 123,
     "metadata": {},
     "output_type": "execute_result"
    }
   ],
   "source": [
    "# 清洗掉iso_code为空值的行（提示：得到的结果应为21948 rows × 58 columns\n",
    "df = df.dropna(subset='iso_code') #请在括号里填入恰当的内容\n",
    "df"
   ]
  },
  {
   "cell_type": "markdown",
   "id": "9906dd0a",
   "metadata": {},
   "source": [
    "## 探索任务一：从现在来看，哪个国家排放了最多的二氧化碳？"
   ]
  },
  {
   "cell_type": "code",
   "execution_count": 124,
   "id": "4f784af9",
   "metadata": {},
   "outputs": [
    {
     "data": {
      "text/html": [
       "<div>\n",
       "<style scoped>\n",
       "    .dataframe tbody tr th:only-of-type {\n",
       "        vertical-align: middle;\n",
       "    }\n",
       "\n",
       "    .dataframe tbody tr th {\n",
       "        vertical-align: top;\n",
       "    }\n",
       "\n",
       "    .dataframe thead th {\n",
       "        text-align: right;\n",
       "    }\n",
       "</style>\n",
       "<table border=\"1\" class=\"dataframe\">\n",
       "  <thead>\n",
       "    <tr style=\"text-align: right;\">\n",
       "      <th></th>\n",
       "      <th>iso_code</th>\n",
       "      <th>country</th>\n",
       "      <th>year</th>\n",
       "      <th>co2</th>\n",
       "      <th>consumption_co2</th>\n",
       "      <th>co2_growth_prct</th>\n",
       "      <th>co2_growth_abs</th>\n",
       "      <th>trade_co2</th>\n",
       "      <th>co2_per_capita</th>\n",
       "      <th>consumption_co2_per_capita</th>\n",
       "      <th>...</th>\n",
       "      <th>ghg_per_capita</th>\n",
       "      <th>methane</th>\n",
       "      <th>methane_per_capita</th>\n",
       "      <th>nitrous_oxide</th>\n",
       "      <th>nitrous_oxide_per_capita</th>\n",
       "      <th>population</th>\n",
       "      <th>gdp</th>\n",
       "      <th>primary_energy_consumption</th>\n",
       "      <th>energy_per_capita</th>\n",
       "      <th>energy_per_gdp</th>\n",
       "    </tr>\n",
       "  </thead>\n",
       "  <tbody>\n",
       "    <tr>\n",
       "      <th>0</th>\n",
       "      <td>AFG</td>\n",
       "      <td>Afghanistan</td>\n",
       "      <td>2020</td>\n",
       "      <td>12.160</td>\n",
       "      <td>NaN</td>\n",
       "      <td>0.11</td>\n",
       "      <td>0.014</td>\n",
       "      <td>NaN</td>\n",
       "      <td>0.312</td>\n",
       "      <td>NaN</td>\n",
       "      <td>...</td>\n",
       "      <td>NaN</td>\n",
       "      <td>NaN</td>\n",
       "      <td>NaN</td>\n",
       "      <td>NaN</td>\n",
       "      <td>NaN</td>\n",
       "      <td>38928341.0</td>\n",
       "      <td>NaN</td>\n",
       "      <td>NaN</td>\n",
       "      <td>NaN</td>\n",
       "      <td>NaN</td>\n",
       "    </tr>\n",
       "    <tr>\n",
       "      <th>2</th>\n",
       "      <td>ALB</td>\n",
       "      <td>Albania</td>\n",
       "      <td>2020</td>\n",
       "      <td>4.535</td>\n",
       "      <td>NaN</td>\n",
       "      <td>-6.76</td>\n",
       "      <td>-0.329</td>\n",
       "      <td>NaN</td>\n",
       "      <td>1.576</td>\n",
       "      <td>NaN</td>\n",
       "      <td>...</td>\n",
       "      <td>NaN</td>\n",
       "      <td>NaN</td>\n",
       "      <td>NaN</td>\n",
       "      <td>NaN</td>\n",
       "      <td>NaN</td>\n",
       "      <td>2877800.0</td>\n",
       "      <td>NaN</td>\n",
       "      <td>NaN</td>\n",
       "      <td>NaN</td>\n",
       "      <td>NaN</td>\n",
       "    </tr>\n",
       "    <tr>\n",
       "      <th>3</th>\n",
       "      <td>DZA</td>\n",
       "      <td>Algeria</td>\n",
       "      <td>2020</td>\n",
       "      <td>154.995</td>\n",
       "      <td>NaN</td>\n",
       "      <td>-6.99</td>\n",
       "      <td>-11.646</td>\n",
       "      <td>NaN</td>\n",
       "      <td>3.535</td>\n",
       "      <td>NaN</td>\n",
       "      <td>...</td>\n",
       "      <td>NaN</td>\n",
       "      <td>NaN</td>\n",
       "      <td>NaN</td>\n",
       "      <td>NaN</td>\n",
       "      <td>NaN</td>\n",
       "      <td>43851043.0</td>\n",
       "      <td>NaN</td>\n",
       "      <td>NaN</td>\n",
       "      <td>NaN</td>\n",
       "      <td>NaN</td>\n",
       "    </tr>\n",
       "    <tr>\n",
       "      <th>4</th>\n",
       "      <td>AND</td>\n",
       "      <td>Andorra</td>\n",
       "      <td>2020</td>\n",
       "      <td>0.466</td>\n",
       "      <td>NaN</td>\n",
       "      <td>-7.08</td>\n",
       "      <td>-0.036</td>\n",
       "      <td>NaN</td>\n",
       "      <td>6.035</td>\n",
       "      <td>NaN</td>\n",
       "      <td>...</td>\n",
       "      <td>NaN</td>\n",
       "      <td>NaN</td>\n",
       "      <td>NaN</td>\n",
       "      <td>NaN</td>\n",
       "      <td>NaN</td>\n",
       "      <td>77265.0</td>\n",
       "      <td>NaN</td>\n",
       "      <td>NaN</td>\n",
       "      <td>NaN</td>\n",
       "      <td>NaN</td>\n",
       "    </tr>\n",
       "    <tr>\n",
       "      <th>5</th>\n",
       "      <td>AGO</td>\n",
       "      <td>Angola</td>\n",
       "      <td>2020</td>\n",
       "      <td>22.198</td>\n",
       "      <td>NaN</td>\n",
       "      <td>-5.49</td>\n",
       "      <td>-1.289</td>\n",
       "      <td>NaN</td>\n",
       "      <td>0.675</td>\n",
       "      <td>NaN</td>\n",
       "      <td>...</td>\n",
       "      <td>NaN</td>\n",
       "      <td>NaN</td>\n",
       "      <td>NaN</td>\n",
       "      <td>NaN</td>\n",
       "      <td>NaN</td>\n",
       "      <td>32866267.0</td>\n",
       "      <td>NaN</td>\n",
       "      <td>NaN</td>\n",
       "      <td>NaN</td>\n",
       "      <td>NaN</td>\n",
       "    </tr>\n",
       "    <tr>\n",
       "      <th>...</th>\n",
       "      <td>...</td>\n",
       "      <td>...</td>\n",
       "      <td>...</td>\n",
       "      <td>...</td>\n",
       "      <td>...</td>\n",
       "      <td>...</td>\n",
       "      <td>...</td>\n",
       "      <td>...</td>\n",
       "      <td>...</td>\n",
       "      <td>...</td>\n",
       "      <td>...</td>\n",
       "      <td>...</td>\n",
       "      <td>...</td>\n",
       "      <td>...</td>\n",
       "      <td>...</td>\n",
       "      <td>...</td>\n",
       "      <td>...</td>\n",
       "      <td>...</td>\n",
       "      <td>...</td>\n",
       "      <td>...</td>\n",
       "      <td>...</td>\n",
       "    </tr>\n",
       "    <tr>\n",
       "      <th>236</th>\n",
       "      <td>VEN</td>\n",
       "      <td>Venezuela</td>\n",
       "      <td>2020</td>\n",
       "      <td>84.609</td>\n",
       "      <td>NaN</td>\n",
       "      <td>-14.69</td>\n",
       "      <td>-14.566</td>\n",
       "      <td>NaN</td>\n",
       "      <td>2.975</td>\n",
       "      <td>NaN</td>\n",
       "      <td>...</td>\n",
       "      <td>NaN</td>\n",
       "      <td>NaN</td>\n",
       "      <td>NaN</td>\n",
       "      <td>NaN</td>\n",
       "      <td>NaN</td>\n",
       "      <td>28435943.0</td>\n",
       "      <td>NaN</td>\n",
       "      <td>NaN</td>\n",
       "      <td>NaN</td>\n",
       "      <td>NaN</td>\n",
       "    </tr>\n",
       "    <tr>\n",
       "      <th>237</th>\n",
       "      <td>VNM</td>\n",
       "      <td>Vietnam</td>\n",
       "      <td>2020</td>\n",
       "      <td>254.303</td>\n",
       "      <td>NaN</td>\n",
       "      <td>-2.31</td>\n",
       "      <td>-6.009</td>\n",
       "      <td>NaN</td>\n",
       "      <td>2.613</td>\n",
       "      <td>NaN</td>\n",
       "      <td>...</td>\n",
       "      <td>NaN</td>\n",
       "      <td>NaN</td>\n",
       "      <td>NaN</td>\n",
       "      <td>NaN</td>\n",
       "      <td>NaN</td>\n",
       "      <td>97338583.0</td>\n",
       "      <td>NaN</td>\n",
       "      <td>NaN</td>\n",
       "      <td>NaN</td>\n",
       "      <td>NaN</td>\n",
       "    </tr>\n",
       "    <tr>\n",
       "      <th>240</th>\n",
       "      <td>YEM</td>\n",
       "      <td>Yemen</td>\n",
       "      <td>2020</td>\n",
       "      <td>9.768</td>\n",
       "      <td>NaN</td>\n",
       "      <td>-2.52</td>\n",
       "      <td>-0.252</td>\n",
       "      <td>NaN</td>\n",
       "      <td>0.328</td>\n",
       "      <td>NaN</td>\n",
       "      <td>...</td>\n",
       "      <td>NaN</td>\n",
       "      <td>NaN</td>\n",
       "      <td>NaN</td>\n",
       "      <td>NaN</td>\n",
       "      <td>NaN</td>\n",
       "      <td>29825968.0</td>\n",
       "      <td>NaN</td>\n",
       "      <td>NaN</td>\n",
       "      <td>NaN</td>\n",
       "      <td>NaN</td>\n",
       "    </tr>\n",
       "    <tr>\n",
       "      <th>241</th>\n",
       "      <td>ZMB</td>\n",
       "      <td>Zambia</td>\n",
       "      <td>2020</td>\n",
       "      <td>6.573</td>\n",
       "      <td>NaN</td>\n",
       "      <td>-6.73</td>\n",
       "      <td>-0.474</td>\n",
       "      <td>NaN</td>\n",
       "      <td>0.358</td>\n",
       "      <td>NaN</td>\n",
       "      <td>...</td>\n",
       "      <td>NaN</td>\n",
       "      <td>NaN</td>\n",
       "      <td>NaN</td>\n",
       "      <td>NaN</td>\n",
       "      <td>NaN</td>\n",
       "      <td>18383956.0</td>\n",
       "      <td>NaN</td>\n",
       "      <td>NaN</td>\n",
       "      <td>NaN</td>\n",
       "      <td>NaN</td>\n",
       "    </tr>\n",
       "    <tr>\n",
       "      <th>242</th>\n",
       "      <td>ZWE</td>\n",
       "      <td>Zimbabwe</td>\n",
       "      <td>2020</td>\n",
       "      <td>10.531</td>\n",
       "      <td>NaN</td>\n",
       "      <td>-3.82</td>\n",
       "      <td>-0.418</td>\n",
       "      <td>NaN</td>\n",
       "      <td>0.709</td>\n",
       "      <td>NaN</td>\n",
       "      <td>...</td>\n",
       "      <td>NaN</td>\n",
       "      <td>NaN</td>\n",
       "      <td>NaN</td>\n",
       "      <td>NaN</td>\n",
       "      <td>NaN</td>\n",
       "      <td>14862927.0</td>\n",
       "      <td>NaN</td>\n",
       "      <td>NaN</td>\n",
       "      <td>NaN</td>\n",
       "      <td>NaN</td>\n",
       "    </tr>\n",
       "  </tbody>\n",
       "</table>\n",
       "<p>218 rows × 58 columns</p>\n",
       "</div>"
      ],
      "text/plain": [
       "    iso_code      country  year      co2  consumption_co2  co2_growth_prct  \\\n",
       "0        AFG  Afghanistan  2020   12.160              NaN             0.11   \n",
       "2        ALB      Albania  2020    4.535              NaN            -6.76   \n",
       "3        DZA      Algeria  2020  154.995              NaN            -6.99   \n",
       "4        AND      Andorra  2020    0.466              NaN            -7.08   \n",
       "5        AGO       Angola  2020   22.198              NaN            -5.49   \n",
       "..       ...          ...   ...      ...              ...              ...   \n",
       "236      VEN    Venezuela  2020   84.609              NaN           -14.69   \n",
       "237      VNM      Vietnam  2020  254.303              NaN            -2.31   \n",
       "240      YEM        Yemen  2020    9.768              NaN            -2.52   \n",
       "241      ZMB       Zambia  2020    6.573              NaN            -6.73   \n",
       "242      ZWE     Zimbabwe  2020   10.531              NaN            -3.82   \n",
       "\n",
       "     co2_growth_abs  trade_co2  co2_per_capita  consumption_co2_per_capita  \\\n",
       "0             0.014        NaN           0.312                         NaN   \n",
       "2            -0.329        NaN           1.576                         NaN   \n",
       "3           -11.646        NaN           3.535                         NaN   \n",
       "4            -0.036        NaN           6.035                         NaN   \n",
       "5            -1.289        NaN           0.675                         NaN   \n",
       "..              ...        ...             ...                         ...   \n",
       "236         -14.566        NaN           2.975                         NaN   \n",
       "237          -6.009        NaN           2.613                         NaN   \n",
       "240          -0.252        NaN           0.328                         NaN   \n",
       "241          -0.474        NaN           0.358                         NaN   \n",
       "242          -0.418        NaN           0.709                         NaN   \n",
       "\n",
       "     ...  ghg_per_capita  methane  methane_per_capita  nitrous_oxide  \\\n",
       "0    ...             NaN      NaN                 NaN            NaN   \n",
       "2    ...             NaN      NaN                 NaN            NaN   \n",
       "3    ...             NaN      NaN                 NaN            NaN   \n",
       "4    ...             NaN      NaN                 NaN            NaN   \n",
       "5    ...             NaN      NaN                 NaN            NaN   \n",
       "..   ...             ...      ...                 ...            ...   \n",
       "236  ...             NaN      NaN                 NaN            NaN   \n",
       "237  ...             NaN      NaN                 NaN            NaN   \n",
       "240  ...             NaN      NaN                 NaN            NaN   \n",
       "241  ...             NaN      NaN                 NaN            NaN   \n",
       "242  ...             NaN      NaN                 NaN            NaN   \n",
       "\n",
       "     nitrous_oxide_per_capita  population  gdp  primary_energy_consumption  \\\n",
       "0                         NaN  38928341.0  NaN                         NaN   \n",
       "2                         NaN   2877800.0  NaN                         NaN   \n",
       "3                         NaN  43851043.0  NaN                         NaN   \n",
       "4                         NaN     77265.0  NaN                         NaN   \n",
       "5                         NaN  32866267.0  NaN                         NaN   \n",
       "..                        ...         ...  ...                         ...   \n",
       "236                       NaN  28435943.0  NaN                         NaN   \n",
       "237                       NaN  97338583.0  NaN                         NaN   \n",
       "240                       NaN  29825968.0  NaN                         NaN   \n",
       "241                       NaN  18383956.0  NaN                         NaN   \n",
       "242                       NaN  14862927.0  NaN                         NaN   \n",
       "\n",
       "     energy_per_capita  energy_per_gdp  \n",
       "0                  NaN             NaN  \n",
       "2                  NaN             NaN  \n",
       "3                  NaN             NaN  \n",
       "4                  NaN             NaN  \n",
       "5                  NaN             NaN  \n",
       "..                 ...             ...  \n",
       "236                NaN             NaN  \n",
       "237                NaN             NaN  \n",
       "240                NaN             NaN  \n",
       "241                NaN             NaN  \n",
       "242                NaN             NaN  \n",
       "\n",
       "[218 rows x 58 columns]"
      ]
     },
     "execution_count": 124,
     "metadata": {},
     "output_type": "execute_result"
    }
   ],
   "source": [
    "# 从前面得到的df中筛选出2020年度的数据\n",
    "#提示：得到的结果应为218 rows × 58 columns\n",
    "co2_year = df[df.year==2020]\n",
    "co2_year = co2_year[co2_year.iso_code != 'OWID_WRL'] # 去除全世界统计数据\n",
    "co2_year"
   ]
  },
  {
   "cell_type": "code",
   "execution_count": 125,
   "id": "26025a2f",
   "metadata": {},
   "outputs": [
    {
     "name": "stderr",
     "output_type": "stream",
     "text": [
      "d:\\anaconda\\Lib\\site-packages\\seaborn\\_oldcore.py:1498: FutureWarning:\n",
      "\n",
      "is_categorical_dtype is deprecated and will be removed in a future version. Use isinstance(dtype, CategoricalDtype) instead\n",
      "\n",
      "d:\\anaconda\\Lib\\site-packages\\seaborn\\_oldcore.py:1498: FutureWarning:\n",
      "\n",
      "is_categorical_dtype is deprecated and will be removed in a future version. Use isinstance(dtype, CategoricalDtype) instead\n",
      "\n",
      "d:\\anaconda\\Lib\\site-packages\\seaborn\\_oldcore.py:1498: FutureWarning:\n",
      "\n",
      "is_categorical_dtype is deprecated and will be removed in a future version. Use isinstance(dtype, CategoricalDtype) instead\n",
      "\n"
     ]
    },
    {
     "data": {
      "text/plain": [
       "<Axes: xlabel='iso_code', ylabel='co2'>"
      ]
     },
     "execution_count": 125,
     "metadata": {},
     "output_type": "execute_result"
    },
    {
     "data": {
      "image/png": "[encoded data removed]",
      "text/plain": [
       "<Figure size 640x480 with 1 Axes>"
      ]
     },
     "metadata": {},
     "output_type": "display_data"
    }
   ],
   "source": [
    "#用seaborn绘制条形图，展示2020年碳排放量前15的数据\n",
    "#横坐标为国家的iso_code 纵坐标为碳排放量\n",
    "co2_year_sort = co2_year.sort_values('co2', ascending=False)\n",
    "co2_year_sort = co2_year_sort.head(15)\n",
    "co2_year_sort\n",
    "sns.barplot(data=co2_year_sort[['iso_code','co2']],x='iso_code',y='co2' )#请在括号内填入恰当的内容，用条形图展示2020年碳排放量前15的数据"
   ]
  },
  {
   "cell_type": "code",
   "execution_count": 126,
   "id": "923dc682",
   "metadata": {},
   "outputs": [
    {
     "data": {
      "text/plain": [
       "['CHN',\n",
       " 'USA',\n",
       " 'IND',\n",
       " 'RUS',\n",
       " 'JPN',\n",
       " 'IRN',\n",
       " 'DEU',\n",
       " 'SAU',\n",
       " 'KOR',\n",
       " 'IDN',\n",
       " 'CAN',\n",
       " 'BRA',\n",
       " 'ZAF',\n",
       " 'TUR',\n",
       " 'AUS']"
      ]
     },
     "execution_count": 126,
     "metadata": {},
     "output_type": "execute_result"
    }
   ],
   "source": [
    "#请用列表输出碳排放量前15国家的iso_code\n",
    "co2_year_sort['iso_code'].tolist()"
   ]
  },
  {
   "cell_type": "markdown",
   "id": "7b8009ff",
   "metadata": {},
   "source": [
    "## 任务二：到目前为止，哪个国家排放了最多的二氧化碳总量？"
   ]
  },
  {
   "cell_type": "code",
   "execution_count": 127,
   "id": "60dc0c19",
   "metadata": {},
   "outputs": [
    {
     "data": {
      "text/plain": [
       "iso_code\n",
       "USA    416723.088\n",
       "CHN    235564.016\n",
       "RUS    115344.148\n",
       "DEU     92635.618\n",
       "GBR     78161.148\n",
       "Name: co2, dtype: float64"
      ]
     },
     "execution_count": 127,
     "metadata": {},
     "output_type": "execute_result"
    }
   ],
   "source": [
    "#按国家编号进行分组，并计算二氧化碳总量，输出碳排放总量前5的国家\n",
    "#注意去除全世界统计数据 提示：世界数据的iso_code为'OWID_WRL'\n",
    "co2_df = df[ df['iso_code']!='OWID_WRL'] #请填入适当内容\n",
    "co2_sum = co2_df.groupby(by='iso_code')[ 'co2' ].sum()#请填入恰当的内容 提示：根据iso_code进行分组，并求co2属性的和\n",
    "co2_sum = co2_sum.sort_values(ascending=False)\n",
    "co2_sum = co2_sum.head(5)\n",
    "co2_sum"
   ]
  },
  {
   "cell_type": "code",
   "execution_count": 128,
   "id": "c7b9d57b",
   "metadata": {},
   "outputs": [
    {
     "data": {
      "text/html": [
       "<div>\n",
       "<style scoped>\n",
       "    .dataframe tbody tr th:only-of-type {\n",
       "        vertical-align: middle;\n",
       "    }\n",
       "\n",
       "    .dataframe tbody tr th {\n",
       "        vertical-align: top;\n",
       "    }\n",
       "\n",
       "    .dataframe thead th {\n",
       "        text-align: right;\n",
       "    }\n",
       "</style>\n",
       "<table border=\"1\" class=\"dataframe\">\n",
       "  <thead>\n",
       "    <tr style=\"text-align: right;\">\n",
       "      <th></th>\n",
       "      <th>iso_code</th>\n",
       "      <th>co2</th>\n",
       "    </tr>\n",
       "  </thead>\n",
       "  <tbody>\n",
       "    <tr>\n",
       "      <th>0</th>\n",
       "      <td>USA</td>\n",
       "      <td>416723.088</td>\n",
       "    </tr>\n",
       "    <tr>\n",
       "      <th>1</th>\n",
       "      <td>CHN</td>\n",
       "      <td>235564.016</td>\n",
       "    </tr>\n",
       "    <tr>\n",
       "      <th>2</th>\n",
       "      <td>RUS</td>\n",
       "      <td>115344.148</td>\n",
       "    </tr>\n",
       "    <tr>\n",
       "      <th>3</th>\n",
       "      <td>DEU</td>\n",
       "      <td>92635.618</td>\n",
       "    </tr>\n",
       "    <tr>\n",
       "      <th>4</th>\n",
       "      <td>GBR</td>\n",
       "      <td>78161.148</td>\n",
       "    </tr>\n",
       "  </tbody>\n",
       "</table>\n",
       "</div>"
      ],
      "text/plain": [
       "  iso_code         co2\n",
       "0      USA  416723.088\n",
       "1      CHN  235564.016\n",
       "2      RUS  115344.148\n",
       "3      DEU   92635.618\n",
       "4      GBR   78161.148"
      ]
     },
     "execution_count": 128,
     "metadata": {},
     "output_type": "execute_result"
    }
   ],
   "source": [
    "#将得到的结果转换成dataframe格式并输出\n",
    "co2_sum_dict = {\"iso_code\" : list(co2_sum.index),\"co2\": list(co2_sum.values)}\n",
    "co2_sum_df = pd.DataFrame(co2_sum_dict)\n",
    "co2_sum_df"
   ]
  },
  {
   "cell_type": "code",
   "execution_count": 129,
   "id": "463590d1",
   "metadata": {},
   "outputs": [
    {
     "name": "stderr",
     "output_type": "stream",
     "text": [
      "d:\\anaconda\\Lib\\site-packages\\seaborn\\_oldcore.py:1498: FutureWarning:\n",
      "\n",
      "is_categorical_dtype is deprecated and will be removed in a future version. Use isinstance(dtype, CategoricalDtype) instead\n",
      "\n",
      "d:\\anaconda\\Lib\\site-packages\\seaborn\\_oldcore.py:1498: FutureWarning:\n",
      "\n",
      "is_categorical_dtype is deprecated and will be removed in a future version. Use isinstance(dtype, CategoricalDtype) instead\n",
      "\n",
      "d:\\anaconda\\Lib\\site-packages\\seaborn\\_oldcore.py:1498: FutureWarning:\n",
      "\n",
      "is_categorical_dtype is deprecated and will be removed in a future version. Use isinstance(dtype, CategoricalDtype) instead\n",
      "\n"
     ]
    },
    {
     "data": {
      "text/plain": [
       "<Axes: xlabel='iso_code', ylabel='co2'>"
      ]
     },
     "execution_count": 129,
     "metadata": {},
     "output_type": "execute_result"
    },
    {
     "data": {
      "image/png": "[encoded data removed]",
      "text/plain": [
       "<Figure size 640x480 with 1 Axes>"
      ]
     },
     "metadata": {},
     "output_type": "display_data"
    }
   ],
   "source": [
    "#用条形图展示以上结果，横坐标为iso_code，纵坐标为co2\n",
    "sns.barplot(data=co2_sum_df,x='iso_code',y='co2' )#请在括号内填入恰当的内容"
   ]
  },
  {
   "cell_type": "code",
   "execution_count": 130,
   "id": "ca9e3eee",
   "metadata": {},
   "outputs": [
    {
     "data": {
      "text/plain": [
       "['USA', 'CHN', 'RUS', 'DEU', 'GBR']"
      ]
     },
     "execution_count": 130,
     "metadata": {},
     "output_type": "execute_result"
    }
   ],
   "source": [
    "#请用列表输出碳排放总量前5国家的iso_code\n",
    "co2_sum_df['iso_code'].head(5).tolist()"
   ]
  },
  {
   "cell_type": "markdown",
   "id": "2dbc5c38",
   "metadata": {},
   "source": [
    "从总量上看，美国最多，中国排在第二，仅占其的一半"
   ]
  },
  {
   "cell_type": "markdown",
   "id": "863f92e2",
   "metadata": {},
   "source": [
    "## 任务三：哪个国家的人均排放量最多？"
   ]
  },
  {
   "cell_type": "markdown",
   "id": "138acc39",
   "metadata": {},
   "source": [
    "将人均碳排放量排序后进行可视化，发现前十五名中有如下规律：\n",
    "前9名中除了澳大利亚，都是大量石油开采国或者资源依赖型国家，较高的人均碳排放量无可避免。\n",
    "除去这8个国家后，再次排名的国家和地区中大多数为发达国家/地区，表明较为发达的国家/地区一般来说人均碳排放量较高。"
   ]
  },
  {
   "cell_type": "code",
   "execution_count": 131,
   "id": "85ccdc84",
   "metadata": {},
   "outputs": [
    {
     "data": {
      "text/html": [
       "<div>\n",
       "<style scoped>\n",
       "    .dataframe tbody tr th:only-of-type {\n",
       "        vertical-align: middle;\n",
       "    }\n",
       "\n",
       "    .dataframe tbody tr th {\n",
       "        vertical-align: top;\n",
       "    }\n",
       "\n",
       "    .dataframe thead th {\n",
       "        text-align: right;\n",
       "    }\n",
       "</style>\n",
       "<table border=\"1\" class=\"dataframe\">\n",
       "  <thead>\n",
       "    <tr style=\"text-align: right;\">\n",
       "      <th></th>\n",
       "      <th>iso_code</th>\n",
       "      <th>country</th>\n",
       "      <th>year</th>\n",
       "      <th>co2</th>\n",
       "      <th>consumption_co2</th>\n",
       "      <th>co2_growth_prct</th>\n",
       "      <th>co2_growth_abs</th>\n",
       "      <th>trade_co2</th>\n",
       "      <th>co2_per_capita</th>\n",
       "      <th>consumption_co2_per_capita</th>\n",
       "      <th>...</th>\n",
       "      <th>ghg_per_capita</th>\n",
       "      <th>methane</th>\n",
       "      <th>methane_per_capita</th>\n",
       "      <th>nitrous_oxide</th>\n",
       "      <th>nitrous_oxide_per_capita</th>\n",
       "      <th>population</th>\n",
       "      <th>gdp</th>\n",
       "      <th>primary_energy_consumption</th>\n",
       "      <th>energy_per_capita</th>\n",
       "      <th>energy_per_gdp</th>\n",
       "    </tr>\n",
       "  </thead>\n",
       "  <tbody>\n",
       "    <tr>\n",
       "      <th>192</th>\n",
       "      <td>SAU</td>\n",
       "      <td>Saudi Arabia</td>\n",
       "      <td>2020</td>\n",
       "      <td>625.508</td>\n",
       "      <td>NaN</td>\n",
       "      <td>0.50</td>\n",
       "      <td>3.095</td>\n",
       "      <td>NaN</td>\n",
       "      <td>17.967</td>\n",
       "      <td>NaN</td>\n",
       "      <td>...</td>\n",
       "      <td>NaN</td>\n",
       "      <td>NaN</td>\n",
       "      <td>NaN</td>\n",
       "      <td>NaN</td>\n",
       "      <td>NaN</td>\n",
       "      <td>3.481387e+07</td>\n",
       "      <td>NaN</td>\n",
       "      <td>NaN</td>\n",
       "      <td>NaN</td>\n",
       "      <td>NaN</td>\n",
       "    </tr>\n",
       "    <tr>\n",
       "      <th>14</th>\n",
       "      <td>AUS</td>\n",
       "      <td>Australia</td>\n",
       "      <td>2020</td>\n",
       "      <td>391.892</td>\n",
       "      <td>NaN</td>\n",
       "      <td>-5.46</td>\n",
       "      <td>-22.625</td>\n",
       "      <td>NaN</td>\n",
       "      <td>15.368</td>\n",
       "      <td>NaN</td>\n",
       "      <td>...</td>\n",
       "      <td>NaN</td>\n",
       "      <td>NaN</td>\n",
       "      <td>NaN</td>\n",
       "      <td>NaN</td>\n",
       "      <td>NaN</td>\n",
       "      <td>2.549988e+07</td>\n",
       "      <td>NaN</td>\n",
       "      <td>NaN</td>\n",
       "      <td>NaN</td>\n",
       "      <td>NaN</td>\n",
       "    </tr>\n",
       "    <tr>\n",
       "      <th>232</th>\n",
       "      <td>USA</td>\n",
       "      <td>United States</td>\n",
       "      <td>2020</td>\n",
       "      <td>4712.771</td>\n",
       "      <td>NaN</td>\n",
       "      <td>-10.33</td>\n",
       "      <td>-543.046</td>\n",
       "      <td>NaN</td>\n",
       "      <td>14.238</td>\n",
       "      <td>NaN</td>\n",
       "      <td>...</td>\n",
       "      <td>NaN</td>\n",
       "      <td>NaN</td>\n",
       "      <td>NaN</td>\n",
       "      <td>NaN</td>\n",
       "      <td>NaN</td>\n",
       "      <td>3.310026e+08</td>\n",
       "      <td>NaN</td>\n",
       "      <td>NaN</td>\n",
       "      <td>NaN</td>\n",
       "      <td>NaN</td>\n",
       "    </tr>\n",
       "    <tr>\n",
       "      <th>39</th>\n",
       "      <td>CAN</td>\n",
       "      <td>Canada</td>\n",
       "      <td>2020</td>\n",
       "      <td>535.823</td>\n",
       "      <td>NaN</td>\n",
       "      <td>-8.00</td>\n",
       "      <td>-46.567</td>\n",
       "      <td>NaN</td>\n",
       "      <td>14.197</td>\n",
       "      <td>NaN</td>\n",
       "      <td>...</td>\n",
       "      <td>NaN</td>\n",
       "      <td>NaN</td>\n",
       "      <td>NaN</td>\n",
       "      <td>NaN</td>\n",
       "      <td>NaN</td>\n",
       "      <td>3.774216e+07</td>\n",
       "      <td>NaN</td>\n",
       "      <td>NaN</td>\n",
       "      <td>NaN</td>\n",
       "      <td>NaN</td>\n",
       "    </tr>\n",
       "    <tr>\n",
       "      <th>205</th>\n",
       "      <td>KOR</td>\n",
       "      <td>South Korea</td>\n",
       "      <td>2020</td>\n",
       "      <td>597.605</td>\n",
       "      <td>NaN</td>\n",
       "      <td>-7.78</td>\n",
       "      <td>-50.420</td>\n",
       "      <td>NaN</td>\n",
       "      <td>11.656</td>\n",
       "      <td>NaN</td>\n",
       "      <td>...</td>\n",
       "      <td>NaN</td>\n",
       "      <td>NaN</td>\n",
       "      <td>NaN</td>\n",
       "      <td>NaN</td>\n",
       "      <td>NaN</td>\n",
       "      <td>5.126918e+07</td>\n",
       "      <td>NaN</td>\n",
       "      <td>NaN</td>\n",
       "      <td>NaN</td>\n",
       "      <td>NaN</td>\n",
       "    </tr>\n",
       "    <tr>\n",
       "      <th>182</th>\n",
       "      <td>RUS</td>\n",
       "      <td>Russia</td>\n",
       "      <td>2020</td>\n",
       "      <td>1577.136</td>\n",
       "      <td>NaN</td>\n",
       "      <td>-6.09</td>\n",
       "      <td>-102.313</td>\n",
       "      <td>NaN</td>\n",
       "      <td>10.807</td>\n",
       "      <td>NaN</td>\n",
       "      <td>...</td>\n",
       "      <td>NaN</td>\n",
       "      <td>NaN</td>\n",
       "      <td>NaN</td>\n",
       "      <td>NaN</td>\n",
       "      <td>NaN</td>\n",
       "      <td>1.459345e+08</td>\n",
       "      <td>NaN</td>\n",
       "      <td>NaN</td>\n",
       "      <td>NaN</td>\n",
       "      <td>NaN</td>\n",
       "    </tr>\n",
       "    <tr>\n",
       "      <th>104</th>\n",
       "      <td>IRN</td>\n",
       "      <td>Iran</td>\n",
       "      <td>2020</td>\n",
       "      <td>745.035</td>\n",
       "      <td>NaN</td>\n",
       "      <td>1.59</td>\n",
       "      <td>11.669</td>\n",
       "      <td>NaN</td>\n",
       "      <td>8.870</td>\n",
       "      <td>NaN</td>\n",
       "      <td>...</td>\n",
       "      <td>NaN</td>\n",
       "      <td>NaN</td>\n",
       "      <td>NaN</td>\n",
       "      <td>NaN</td>\n",
       "      <td>NaN</td>\n",
       "      <td>8.399295e+07</td>\n",
       "      <td>NaN</td>\n",
       "      <td>NaN</td>\n",
       "      <td>NaN</td>\n",
       "      <td>NaN</td>\n",
       "    </tr>\n",
       "    <tr>\n",
       "      <th>110</th>\n",
       "      <td>JPN</td>\n",
       "      <td>Japan</td>\n",
       "      <td>2020</td>\n",
       "      <td>1030.775</td>\n",
       "      <td>NaN</td>\n",
       "      <td>-6.80</td>\n",
       "      <td>-75.154</td>\n",
       "      <td>NaN</td>\n",
       "      <td>8.150</td>\n",
       "      <td>NaN</td>\n",
       "      <td>...</td>\n",
       "      <td>NaN</td>\n",
       "      <td>NaN</td>\n",
       "      <td>NaN</td>\n",
       "      <td>NaN</td>\n",
       "      <td>NaN</td>\n",
       "      <td>1.264765e+08</td>\n",
       "      <td>NaN</td>\n",
       "      <td>NaN</td>\n",
       "      <td>NaN</td>\n",
       "      <td>NaN</td>\n",
       "    </tr>\n",
       "    <tr>\n",
       "      <th>86</th>\n",
       "      <td>DEU</td>\n",
       "      <td>Germany</td>\n",
       "      <td>2020</td>\n",
       "      <td>644.310</td>\n",
       "      <td>NaN</td>\n",
       "      <td>-9.43</td>\n",
       "      <td>-67.117</td>\n",
       "      <td>NaN</td>\n",
       "      <td>7.690</td>\n",
       "      <td>NaN</td>\n",
       "      <td>...</td>\n",
       "      <td>NaN</td>\n",
       "      <td>NaN</td>\n",
       "      <td>NaN</td>\n",
       "      <td>NaN</td>\n",
       "      <td>NaN</td>\n",
       "      <td>8.378394e+07</td>\n",
       "      <td>NaN</td>\n",
       "      <td>NaN</td>\n",
       "      <td>NaN</td>\n",
       "      <td>NaN</td>\n",
       "    </tr>\n",
       "    <tr>\n",
       "      <th>203</th>\n",
       "      <td>ZAF</td>\n",
       "      <td>South Africa</td>\n",
       "      <td>2020</td>\n",
       "      <td>451.957</td>\n",
       "      <td>NaN</td>\n",
       "      <td>-5.04</td>\n",
       "      <td>-23.966</td>\n",
       "      <td>NaN</td>\n",
       "      <td>7.620</td>\n",
       "      <td>NaN</td>\n",
       "      <td>...</td>\n",
       "      <td>NaN</td>\n",
       "      <td>NaN</td>\n",
       "      <td>NaN</td>\n",
       "      <td>NaN</td>\n",
       "      <td>NaN</td>\n",
       "      <td>5.930869e+07</td>\n",
       "      <td>NaN</td>\n",
       "      <td>NaN</td>\n",
       "      <td>NaN</td>\n",
       "      <td>NaN</td>\n",
       "    </tr>\n",
       "    <tr>\n",
       "      <th>44</th>\n",
       "      <td>CHN</td>\n",
       "      <td>China</td>\n",
       "      <td>2020</td>\n",
       "      <td>10667.887</td>\n",
       "      <td>NaN</td>\n",
       "      <td>1.70</td>\n",
       "      <td>177.899</td>\n",
       "      <td>NaN</td>\n",
       "      <td>7.412</td>\n",
       "      <td>NaN</td>\n",
       "      <td>...</td>\n",
       "      <td>NaN</td>\n",
       "      <td>NaN</td>\n",
       "      <td>NaN</td>\n",
       "      <td>NaN</td>\n",
       "      <td>NaN</td>\n",
       "      <td>1.439324e+09</td>\n",
       "      <td>NaN</td>\n",
       "      <td>NaN</td>\n",
       "      <td>NaN</td>\n",
       "      <td>NaN</td>\n",
       "    </tr>\n",
       "    <tr>\n",
       "      <th>224</th>\n",
       "      <td>TUR</td>\n",
       "      <td>Turkey</td>\n",
       "      <td>2020</td>\n",
       "      <td>392.794</td>\n",
       "      <td>NaN</td>\n",
       "      <td>-1.64</td>\n",
       "      <td>-6.551</td>\n",
       "      <td>NaN</td>\n",
       "      <td>4.657</td>\n",
       "      <td>NaN</td>\n",
       "      <td>...</td>\n",
       "      <td>NaN</td>\n",
       "      <td>NaN</td>\n",
       "      <td>NaN</td>\n",
       "      <td>NaN</td>\n",
       "      <td>NaN</td>\n",
       "      <td>8.433907e+07</td>\n",
       "      <td>NaN</td>\n",
       "      <td>NaN</td>\n",
       "      <td>NaN</td>\n",
       "      <td>NaN</td>\n",
       "    </tr>\n",
       "    <tr>\n",
       "      <th>31</th>\n",
       "      <td>BRA</td>\n",
       "      <td>Brazil</td>\n",
       "      <td>2020</td>\n",
       "      <td>467.384</td>\n",
       "      <td>NaN</td>\n",
       "      <td>-3.79</td>\n",
       "      <td>-18.410</td>\n",
       "      <td>NaN</td>\n",
       "      <td>2.199</td>\n",
       "      <td>NaN</td>\n",
       "      <td>...</td>\n",
       "      <td>NaN</td>\n",
       "      <td>NaN</td>\n",
       "      <td>NaN</td>\n",
       "      <td>NaN</td>\n",
       "      <td>NaN</td>\n",
       "      <td>2.125594e+08</td>\n",
       "      <td>NaN</td>\n",
       "      <td>NaN</td>\n",
       "      <td>NaN</td>\n",
       "      <td>NaN</td>\n",
       "    </tr>\n",
       "    <tr>\n",
       "      <th>102</th>\n",
       "      <td>IDN</td>\n",
       "      <td>Indonesia</td>\n",
       "      <td>2020</td>\n",
       "      <td>589.500</td>\n",
       "      <td>NaN</td>\n",
       "      <td>-10.76</td>\n",
       "      <td>-71.094</td>\n",
       "      <td>NaN</td>\n",
       "      <td>2.155</td>\n",
       "      <td>NaN</td>\n",
       "      <td>...</td>\n",
       "      <td>NaN</td>\n",
       "      <td>NaN</td>\n",
       "      <td>NaN</td>\n",
       "      <td>NaN</td>\n",
       "      <td>NaN</td>\n",
       "      <td>2.735236e+08</td>\n",
       "      <td>NaN</td>\n",
       "      <td>NaN</td>\n",
       "      <td>NaN</td>\n",
       "      <td>NaN</td>\n",
       "    </tr>\n",
       "    <tr>\n",
       "      <th>101</th>\n",
       "      <td>IND</td>\n",
       "      <td>India</td>\n",
       "      <td>2020</td>\n",
       "      <td>2441.792</td>\n",
       "      <td>NaN</td>\n",
       "      <td>-7.01</td>\n",
       "      <td>-184.176</td>\n",
       "      <td>NaN</td>\n",
       "      <td>1.769</td>\n",
       "      <td>NaN</td>\n",
       "      <td>...</td>\n",
       "      <td>NaN</td>\n",
       "      <td>NaN</td>\n",
       "      <td>NaN</td>\n",
       "      <td>NaN</td>\n",
       "      <td>NaN</td>\n",
       "      <td>1.380004e+09</td>\n",
       "      <td>NaN</td>\n",
       "      <td>NaN</td>\n",
       "      <td>NaN</td>\n",
       "      <td>NaN</td>\n",
       "    </tr>\n",
       "  </tbody>\n",
       "</table>\n",
       "<p>15 rows × 58 columns</p>\n",
       "</div>"
      ],
      "text/plain": [
       "    iso_code        country  year        co2  consumption_co2  \\\n",
       "192      SAU   Saudi Arabia  2020    625.508              NaN   \n",
       "14       AUS      Australia  2020    391.892              NaN   \n",
       "232      USA  United States  2020   4712.771              NaN   \n",
       "39       CAN         Canada  2020    535.823              NaN   \n",
       "205      KOR    South Korea  2020    597.605              NaN   \n",
       "182      RUS         Russia  2020   1577.136              NaN   \n",
       "104      IRN           Iran  2020    745.035              NaN   \n",
       "110      JPN          Japan  2020   1030.775              NaN   \n",
       "86       DEU        Germany  2020    644.310              NaN   \n",
       "203      ZAF   South Africa  2020    451.957              NaN   \n",
       "44       CHN          China  2020  10667.887              NaN   \n",
       "224      TUR         Turkey  2020    392.794              NaN   \n",
       "31       BRA         Brazil  2020    467.384              NaN   \n",
       "102      IDN      Indonesia  2020    589.500              NaN   \n",
       "101      IND          India  2020   2441.792              NaN   \n",
       "\n",
       "     co2_growth_prct  co2_growth_abs  trade_co2  co2_per_capita  \\\n",
       "192             0.50           3.095        NaN          17.967   \n",
       "14             -5.46         -22.625        NaN          15.368   \n",
       "232           -10.33        -543.046        NaN          14.238   \n",
       "39             -8.00         -46.567        NaN          14.197   \n",
       "205            -7.78         -50.420        NaN          11.656   \n",
       "182            -6.09        -102.313        NaN          10.807   \n",
       "104             1.59          11.669        NaN           8.870   \n",
       "110            -6.80         -75.154        NaN           8.150   \n",
       "86             -9.43         -67.117        NaN           7.690   \n",
       "203            -5.04         -23.966        NaN           7.620   \n",
       "44              1.70         177.899        NaN           7.412   \n",
       "224            -1.64          -6.551        NaN           4.657   \n",
       "31             -3.79         -18.410        NaN           2.199   \n",
       "102           -10.76         -71.094        NaN           2.155   \n",
       "101            -7.01        -184.176        NaN           1.769   \n",
       "\n",
       "     consumption_co2_per_capita  ...  ghg_per_capita  methane  \\\n",
       "192                         NaN  ...             NaN      NaN   \n",
       "14                          NaN  ...             NaN      NaN   \n",
       "232                         NaN  ...             NaN      NaN   \n",
       "39                          NaN  ...             NaN      NaN   \n",
       "205                         NaN  ...             NaN      NaN   \n",
       "182                         NaN  ...             NaN      NaN   \n",
       "104                         NaN  ...             NaN      NaN   \n",
       "110                         NaN  ...             NaN      NaN   \n",
       "86                          NaN  ...             NaN      NaN   \n",
       "203                         NaN  ...             NaN      NaN   \n",
       "44                          NaN  ...             NaN      NaN   \n",
       "224                         NaN  ...             NaN      NaN   \n",
       "31                          NaN  ...             NaN      NaN   \n",
       "102                         NaN  ...             NaN      NaN   \n",
       "101                         NaN  ...             NaN      NaN   \n",
       "\n",
       "     methane_per_capita  nitrous_oxide  nitrous_oxide_per_capita  \\\n",
       "192                 NaN            NaN                       NaN   \n",
       "14                  NaN            NaN                       NaN   \n",
       "232                 NaN            NaN                       NaN   \n",
       "39                  NaN            NaN                       NaN   \n",
       "205                 NaN            NaN                       NaN   \n",
       "182                 NaN            NaN                       NaN   \n",
       "104                 NaN            NaN                       NaN   \n",
       "110                 NaN            NaN                       NaN   \n",
       "86                  NaN            NaN                       NaN   \n",
       "203                 NaN            NaN                       NaN   \n",
       "44                  NaN            NaN                       NaN   \n",
       "224                 NaN            NaN                       NaN   \n",
       "31                  NaN            NaN                       NaN   \n",
       "102                 NaN            NaN                       NaN   \n",
       "101                 NaN            NaN                       NaN   \n",
       "\n",
       "       population  gdp  primary_energy_consumption  energy_per_capita  \\\n",
       "192  3.481387e+07  NaN                         NaN                NaN   \n",
       "14   2.549988e+07  NaN                         NaN                NaN   \n",
       "232  3.310026e+08  NaN                         NaN                NaN   \n",
       "39   3.774216e+07  NaN                         NaN                NaN   \n",
       "205  5.126918e+07  NaN                         NaN                NaN   \n",
       "182  1.459345e+08  NaN                         NaN                NaN   \n",
       "104  8.399295e+07  NaN                         NaN                NaN   \n",
       "110  1.264765e+08  NaN                         NaN                NaN   \n",
       "86   8.378394e+07  NaN                         NaN                NaN   \n",
       "203  5.930869e+07  NaN                         NaN                NaN   \n",
       "44   1.439324e+09  NaN                         NaN                NaN   \n",
       "224  8.433907e+07  NaN                         NaN                NaN   \n",
       "31   2.125594e+08  NaN                         NaN                NaN   \n",
       "102  2.735236e+08  NaN                         NaN                NaN   \n",
       "101  1.380004e+09  NaN                         NaN                NaN   \n",
       "\n",
       "     energy_per_gdp  \n",
       "192             NaN  \n",
       "14              NaN  \n",
       "232             NaN  \n",
       "39              NaN  \n",
       "205             NaN  \n",
       "182             NaN  \n",
       "104             NaN  \n",
       "110             NaN  \n",
       "86              NaN  \n",
       "203             NaN  \n",
       "44              NaN  \n",
       "224             NaN  \n",
       "31              NaN  \n",
       "102             NaN  \n",
       "101             NaN  \n",
       "\n",
       "[15 rows x 58 columns]"
      ]
     },
     "execution_count": 131,
     "metadata": {},
     "output_type": "execute_result"
    }
   ],
   "source": [
    "#计算2020年人均碳排放量前15的国家\n",
    "df_co2_per_capita = co2_year_sort.sort_values('co2_per_capita', ascending=False)\n",
    "df_co2_per_capita = df_co2_per_capita.head(15)\n",
    "df_co2_per_capita"
   ]
  },
  {
   "cell_type": "code",
   "execution_count": 132,
   "id": "cb08a931",
   "metadata": {},
   "outputs": [
    {
     "name": "stderr",
     "output_type": "stream",
     "text": [
      "d:\\anaconda\\Lib\\site-packages\\seaborn\\_oldcore.py:1498: FutureWarning:\n",
      "\n",
      "is_categorical_dtype is deprecated and will be removed in a future version. Use isinstance(dtype, CategoricalDtype) instead\n",
      "\n",
      "d:\\anaconda\\Lib\\site-packages\\seaborn\\_oldcore.py:1498: FutureWarning:\n",
      "\n",
      "is_categorical_dtype is deprecated and will be removed in a future version. Use isinstance(dtype, CategoricalDtype) instead\n",
      "\n",
      "d:\\anaconda\\Lib\\site-packages\\seaborn\\_oldcore.py:1498: FutureWarning:\n",
      "\n",
      "is_categorical_dtype is deprecated and will be removed in a future version. Use isinstance(dtype, CategoricalDtype) instead\n",
      "\n"
     ]
    },
    {
     "data": {
      "text/plain": [
       "<Axes: xlabel='iso_code', ylabel='co2_per_capita'>"
      ]
     },
     "execution_count": 132,
     "metadata": {},
     "output_type": "execute_result"
    },
    {
     "data": {
      "image/png": "[encoded data removed]",
      "text/plain": [
       "<Figure size 1200x800 with 1 Axes>"
      ]
     },
     "metadata": {},
     "output_type": "display_data"
    }
   ],
   "source": [
    "#绘制条形图展示以上数据，横坐标为国家iso_code，纵坐标为人均碳排放量\n",
    "plt.figure(figsize=(12, 8))\n",
    "sns.barplot(data=df_co2_per_capita,x='iso_code',y='co2_per_capita' )#请在括号内填入恰当的内容"
   ]
  },
  {
   "cell_type": "code",
   "execution_count": 133,
   "id": "966ab875",
   "metadata": {},
   "outputs": [
    {
     "data": {
      "text/plain": [
       "['SAU',\n",
       " 'AUS',\n",
       " 'USA',\n",
       " 'CAN',\n",
       " 'KOR',\n",
       " 'RUS',\n",
       " 'IRN',\n",
       " 'JPN',\n",
       " 'DEU',\n",
       " 'ZAF',\n",
       " 'CHN',\n",
       " 'TUR',\n",
       " 'BRA',\n",
       " 'IDN',\n",
       " 'IND']"
      ]
     },
     "execution_count": 133,
     "metadata": {},
     "output_type": "execute_result"
    }
   ],
   "source": [
    "#请用列表输出2020年人均碳排放总量前15国家的iso_code\n",
    "df_co2_per_capita['iso_code'].tolist()"
   ]
  },
  {
   "cell_type": "markdown",
   "id": "2655232e",
   "metadata": {},
   "source": [
    "中国虽然是现在最大的碳排放国家，但人均上仅仅比国际平均水平高一点点"
   ]
  },
  {
   "cell_type": "code",
   "execution_count": 135,
   "id": "0c27410c",
   "metadata": {},
   "outputs": [
    {
     "name": "stderr",
     "output_type": "stream",
     "text": [
      "d:\\anaconda\\Lib\\site-packages\\seaborn\\_oldcore.py:1498: FutureWarning:\n",
      "\n",
      "is_categorical_dtype is deprecated and will be removed in a future version. Use isinstance(dtype, CategoricalDtype) instead\n",
      "\n",
      "d:\\anaconda\\Lib\\site-packages\\seaborn\\_oldcore.py:1498: FutureWarning:\n",
      "\n",
      "is_categorical_dtype is deprecated and will be removed in a future version. Use isinstance(dtype, CategoricalDtype) instead\n",
      "\n",
      "d:\\anaconda\\Lib\\site-packages\\seaborn\\_oldcore.py:1498: FutureWarning:\n",
      "\n",
      "is_categorical_dtype is deprecated and will be removed in a future version. Use isinstance(dtype, CategoricalDtype) instead\n",
      "\n"
     ]
    },
    {
     "data": {
      "text/plain": [
       "<Axes: xlabel='iso_code', ylabel='co2_per_capita'>"
      ]
     },
     "execution_count": 135,
     "metadata": {},
     "output_type": "execute_result"
    },
    {
     "data": {
      "image/png": "[encoded data removed]",
      "text/plain": [
       "<Figure size 1200x800 with 1 Axes>"
      ]
     },
     "metadata": {},
     "output_type": "display_data"
    }
   ],
   "source": [
    "#用条形图展示中国和世界在2020年的人均碳排放量\n",
    "df_co2_per_capita_CHN =  df[ (df['iso_code']=='CHN')&(df['year']==2020)]#请填入恰当内容，筛选出中国2020年的数据\n",
    "\n",
    "df_co2_per_capita_WRL =  df[ (df['iso_code']=='OWID_WRL')&(df['year']==2020)]#请填入恰当内容，筛选出世界2020年的数据\n",
    "df_co2_per_capita_CHN_WORLD = pd.concat([df_co2_per_capita_CHN, df_co2_per_capita_WRL])\n",
    "plt.figure(figsize=(12, 8))\n",
    "sns.barplot( data=df_co2_per_capita_CHN_WORLD,x='iso_code',y='co2_per_capita')#请在括号内填入恰当的内容"
   ]
  },
  {
   "cell_type": "code",
   "execution_count": 136,
   "id": "7e34c3b0",
   "metadata": {},
   "outputs": [
    {
     "name": "stderr",
     "output_type": "stream",
     "text": [
      "d:\\anaconda\\Lib\\site-packages\\seaborn\\_oldcore.py:1498: FutureWarning:\n",
      "\n",
      "is_categorical_dtype is deprecated and will be removed in a future version. Use isinstance(dtype, CategoricalDtype) instead\n",
      "\n",
      "d:\\anaconda\\Lib\\site-packages\\seaborn\\_oldcore.py:1498: FutureWarning:\n",
      "\n",
      "is_categorical_dtype is deprecated and will be removed in a future version. Use isinstance(dtype, CategoricalDtype) instead\n",
      "\n"
     ]
    },
    {
     "data": {
      "image/png": "[encoded data removed]",
      "text/plain": [
       "<Figure size 640x480 with 1 Axes>"
      ]
     },
     "metadata": {},
     "output_type": "display_data"
    }
   ],
   "source": [
    "#画出2018年除全世界以外所有国家或地区gdp和co2关系的散点图 提示：用log处理数据\n",
    "sns.scatterplot( df[(df['iso_code']!='OWID_WRL')&(df['year']==2018)][['co2','gdp']],x='gdp',y='co2')#请在括号内填入恰当的内容\n",
    "   #请填入代码，对横坐标做log处理\n",
    "plt.xscale('log')\n",
    "plt.yscale('log')"
   ]
  },
  {
   "cell_type": "markdown",
   "id": "0348bb23",
   "metadata": {},
   "source": [
    "## 任务四：各个国家的碳排放量是如何变化的？"
   ]
  },
  {
   "cell_type": "code",
   "execution_count": 137,
   "id": "d7b4cba5",
   "metadata": {},
   "outputs": [
    {
     "name": "stderr",
     "output_type": "stream",
     "text": [
      "d:\\anaconda\\Lib\\site-packages\\seaborn\\_oldcore.py:1498: FutureWarning:\n",
      "\n",
      "is_categorical_dtype is deprecated and will be removed in a future version. Use isinstance(dtype, CategoricalDtype) instead\n",
      "\n",
      "d:\\anaconda\\Lib\\site-packages\\seaborn\\_oldcore.py:1498: FutureWarning:\n",
      "\n",
      "is_categorical_dtype is deprecated and will be removed in a future version. Use isinstance(dtype, CategoricalDtype) instead\n",
      "\n",
      "d:\\anaconda\\Lib\\site-packages\\seaborn\\_oldcore.py:1498: FutureWarning:\n",
      "\n",
      "is_categorical_dtype is deprecated and will be removed in a future version. Use isinstance(dtype, CategoricalDtype) instead\n",
      "\n",
      "d:\\anaconda\\Lib\\site-packages\\seaborn\\_oldcore.py:1498: FutureWarning:\n",
      "\n",
      "is_categorical_dtype is deprecated and will be removed in a future version. Use isinstance(dtype, CategoricalDtype) instead\n",
      "\n",
      "d:\\anaconda\\Lib\\site-packages\\seaborn\\_oldcore.py:1498: FutureWarning:\n",
      "\n",
      "is_categorical_dtype is deprecated and will be removed in a future version. Use isinstance(dtype, CategoricalDtype) instead\n",
      "\n",
      "d:\\anaconda\\Lib\\site-packages\\seaborn\\_oldcore.py:1119: FutureWarning:\n",
      "\n",
      "use_inf_as_na option is deprecated and will be removed in a future version. Convert inf values to NaN before operating instead.\n",
      "\n",
      "d:\\anaconda\\Lib\\site-packages\\seaborn\\_oldcore.py:1119: FutureWarning:\n",
      "\n",
      "use_inf_as_na option is deprecated and will be removed in a future version. Convert inf values to NaN before operating instead.\n",
      "\n"
     ]
    },
    {
     "data": {
      "text/plain": [
       "<Axes: xlabel='year', ylabel='co2'>"
      ]
     },
     "execution_count": 137,
     "metadata": {},
     "output_type": "execute_result"
    },
    {
     "data": {
      "image/png": "[encoded data removed]",
      "text/plain": [
       "<Figure size 640x480 with 1 Axes>"
      ]
     },
     "metadata": {},
     "output_type": "display_data"
    }
   ],
   "source": [
    "co2_growth = df[df.iso_code.isin(['CHN','USA','IND','RUS','JPN'])]\n",
    "sns.lineplot(data=co2_growth,x='year',y='co2',hue='iso_code' )#请在括号内填入恰当的内容"
   ]
  },
  {
   "cell_type": "markdown",
   "id": "e9c3cae0",
   "metadata": {},
   "source": [
    "中国的碳排放量开始较晚，但增速很快；而美国开始很早，但最近碳排放量有下降趋势；印度的碳排放量虽然较少，但也有较快的上升趋势"
   ]
  },
  {
   "cell_type": "markdown",
   "id": "fb1f702e",
   "metadata": {},
   "source": [
    "# 选做题（任务五、任务六任选其一）"
   ]
  },
  {
   "cell_type": "markdown",
   "id": "ef2f1b88",
   "metadata": {},
   "source": [
    "## 任务五："
   ]
  },
  {
   "cell_type": "markdown",
   "id": "ebf72b20",
   "metadata": {},
   "source": [
    "2000年的全世界二氧化碳排放量为25234.207吨，超过了1900年全世界二氧化碳排放量的25倍。若从2020年开始，碳排放量每年以3%的速度继续增长，请画出2020年到2050年的回归图"
   ]
  },
  {
   "cell_type": "code",
   "execution_count": 138,
   "id": "6110981e",
   "metadata": {},
   "outputs": [
    {
     "data": {
      "text/html": [
       "<div>\n",
       "<style scoped>\n",
       "    .dataframe tbody tr th:only-of-type {\n",
       "        vertical-align: middle;\n",
       "    }\n",
       "\n",
       "    .dataframe tbody tr th {\n",
       "        vertical-align: top;\n",
       "    }\n",
       "\n",
       "    .dataframe thead th {\n",
       "        text-align: right;\n",
       "    }\n",
       "</style>\n",
       "<table border=\"1\" class=\"dataframe\">\n",
       "  <thead>\n",
       "    <tr style=\"text-align: right;\">\n",
       "      <th></th>\n",
       "      <th>iso_code</th>\n",
       "      <th>country</th>\n",
       "      <th>year</th>\n",
       "      <th>co2</th>\n",
       "      <th>consumption_co2</th>\n",
       "      <th>co2_growth_prct</th>\n",
       "      <th>co2_growth_abs</th>\n",
       "      <th>trade_co2</th>\n",
       "      <th>co2_per_capita</th>\n",
       "      <th>consumption_co2_per_capita</th>\n",
       "      <th>...</th>\n",
       "      <th>ghg_per_capita</th>\n",
       "      <th>methane</th>\n",
       "      <th>methane_per_capita</th>\n",
       "      <th>nitrous_oxide</th>\n",
       "      <th>nitrous_oxide_per_capita</th>\n",
       "      <th>population</th>\n",
       "      <th>gdp</th>\n",
       "      <th>primary_energy_consumption</th>\n",
       "      <th>energy_per_capita</th>\n",
       "      <th>energy_per_gdp</th>\n",
       "    </tr>\n",
       "  </thead>\n",
       "  <tbody>\n",
       "    <tr>\n",
       "      <th>215</th>\n",
       "      <td>OWID_WRL</td>\n",
       "      <td>World</td>\n",
       "      <td>2020</td>\n",
       "      <td>34807.259000</td>\n",
       "      <td>34807.259</td>\n",
       "      <td>-5.16</td>\n",
       "      <td>-1895.244</td>\n",
       "      <td>0.0</td>\n",
       "      <td>4.465</td>\n",
       "      <td>4.465</td>\n",
       "      <td>...</td>\n",
       "      <td>NaN</td>\n",
       "      <td>NaN</td>\n",
       "      <td>NaN</td>\n",
       "      <td>NaN</td>\n",
       "      <td>NaN</td>\n",
       "      <td>7.794799e+09</td>\n",
       "      <td>NaN</td>\n",
       "      <td>NaN</td>\n",
       "      <td>NaN</td>\n",
       "      <td>NaN</td>\n",
       "    </tr>\n",
       "    <tr>\n",
       "      <th>21948</th>\n",
       "      <td>OWID_WRL</td>\n",
       "      <td>World</td>\n",
       "      <td>2021</td>\n",
       "      <td>35851.476770</td>\n",
       "      <td>NaN</td>\n",
       "      <td>NaN</td>\n",
       "      <td>NaN</td>\n",
       "      <td>NaN</td>\n",
       "      <td>NaN</td>\n",
       "      <td>NaN</td>\n",
       "      <td>...</td>\n",
       "      <td>NaN</td>\n",
       "      <td>NaN</td>\n",
       "      <td>NaN</td>\n",
       "      <td>NaN</td>\n",
       "      <td>NaN</td>\n",
       "      <td>NaN</td>\n",
       "      <td>NaN</td>\n",
       "      <td>NaN</td>\n",
       "      <td>NaN</td>\n",
       "      <td>NaN</td>\n",
       "    </tr>\n",
       "    <tr>\n",
       "      <th>21949</th>\n",
       "      <td>OWID_WRL</td>\n",
       "      <td>World</td>\n",
       "      <td>2022</td>\n",
       "      <td>36927.021073</td>\n",
       "      <td>NaN</td>\n",
       "      <td>NaN</td>\n",
       "      <td>NaN</td>\n",
       "      <td>NaN</td>\n",
       "      <td>NaN</td>\n",
       "      <td>NaN</td>\n",
       "      <td>...</td>\n",
       "      <td>NaN</td>\n",
       "      <td>NaN</td>\n",
       "      <td>NaN</td>\n",
       "      <td>NaN</td>\n",
       "      <td>NaN</td>\n",
       "      <td>NaN</td>\n",
       "      <td>NaN</td>\n",
       "      <td>NaN</td>\n",
       "      <td>NaN</td>\n",
       "      <td>NaN</td>\n",
       "    </tr>\n",
       "    <tr>\n",
       "      <th>21950</th>\n",
       "      <td>OWID_WRL</td>\n",
       "      <td>World</td>\n",
       "      <td>2023</td>\n",
       "      <td>38034.831705</td>\n",
       "      <td>NaN</td>\n",
       "      <td>NaN</td>\n",
       "      <td>NaN</td>\n",
       "      <td>NaN</td>\n",
       "      <td>NaN</td>\n",
       "      <td>NaN</td>\n",
       "      <td>...</td>\n",
       "      <td>NaN</td>\n",
       "      <td>NaN</td>\n",
       "      <td>NaN</td>\n",
       "      <td>NaN</td>\n",
       "      <td>NaN</td>\n",
       "      <td>NaN</td>\n",
       "      <td>NaN</td>\n",
       "      <td>NaN</td>\n",
       "      <td>NaN</td>\n",
       "      <td>NaN</td>\n",
       "    </tr>\n",
       "    <tr>\n",
       "      <th>21951</th>\n",
       "      <td>OWID_WRL</td>\n",
       "      <td>World</td>\n",
       "      <td>2024</td>\n",
       "      <td>39175.876656</td>\n",
       "      <td>NaN</td>\n",
       "      <td>NaN</td>\n",
       "      <td>NaN</td>\n",
       "      <td>NaN</td>\n",
       "      <td>NaN</td>\n",
       "      <td>NaN</td>\n",
       "      <td>...</td>\n",
       "      <td>NaN</td>\n",
       "      <td>NaN</td>\n",
       "      <td>NaN</td>\n",
       "      <td>NaN</td>\n",
       "      <td>NaN</td>\n",
       "      <td>NaN</td>\n",
       "      <td>NaN</td>\n",
       "      <td>NaN</td>\n",
       "      <td>NaN</td>\n",
       "      <td>NaN</td>\n",
       "    </tr>\n",
       "    <tr>\n",
       "      <th>21952</th>\n",
       "      <td>OWID_WRL</td>\n",
       "      <td>World</td>\n",
       "      <td>2025</td>\n",
       "      <td>40351.152956</td>\n",
       "      <td>NaN</td>\n",
       "      <td>NaN</td>\n",
       "      <td>NaN</td>\n",
       "      <td>NaN</td>\n",
       "      <td>NaN</td>\n",
       "      <td>NaN</td>\n",
       "      <td>...</td>\n",
       "      <td>NaN</td>\n",
       "      <td>NaN</td>\n",
       "      <td>NaN</td>\n",
       "      <td>NaN</td>\n",
       "      <td>NaN</td>\n",
       "      <td>NaN</td>\n",
       "      <td>NaN</td>\n",
       "      <td>NaN</td>\n",
       "      <td>NaN</td>\n",
       "      <td>NaN</td>\n",
       "    </tr>\n",
       "    <tr>\n",
       "      <th>21953</th>\n",
       "      <td>OWID_WRL</td>\n",
       "      <td>World</td>\n",
       "      <td>2026</td>\n",
       "      <td>41561.687545</td>\n",
       "      <td>NaN</td>\n",
       "      <td>NaN</td>\n",
       "      <td>NaN</td>\n",
       "      <td>NaN</td>\n",
       "      <td>NaN</td>\n",
       "      <td>NaN</td>\n",
       "      <td>...</td>\n",
       "      <td>NaN</td>\n",
       "      <td>NaN</td>\n",
       "      <td>NaN</td>\n",
       "      <td>NaN</td>\n",
       "      <td>NaN</td>\n",
       "      <td>NaN</td>\n",
       "      <td>NaN</td>\n",
       "      <td>NaN</td>\n",
       "      <td>NaN</td>\n",
       "      <td>NaN</td>\n",
       "    </tr>\n",
       "    <tr>\n",
       "      <th>21954</th>\n",
       "      <td>OWID_WRL</td>\n",
       "      <td>World</td>\n",
       "      <td>2027</td>\n",
       "      <td>42808.538171</td>\n",
       "      <td>NaN</td>\n",
       "      <td>NaN</td>\n",
       "      <td>NaN</td>\n",
       "      <td>NaN</td>\n",
       "      <td>NaN</td>\n",
       "      <td>NaN</td>\n",
       "      <td>...</td>\n",
       "      <td>NaN</td>\n",
       "      <td>NaN</td>\n",
       "      <td>NaN</td>\n",
       "      <td>NaN</td>\n",
       "      <td>NaN</td>\n",
       "      <td>NaN</td>\n",
       "      <td>NaN</td>\n",
       "      <td>NaN</td>\n",
       "      <td>NaN</td>\n",
       "      <td>NaN</td>\n",
       "    </tr>\n",
       "    <tr>\n",
       "      <th>21955</th>\n",
       "      <td>OWID_WRL</td>\n",
       "      <td>World</td>\n",
       "      <td>2028</td>\n",
       "      <td>44092.794316</td>\n",
       "      <td>NaN</td>\n",
       "      <td>NaN</td>\n",
       "      <td>NaN</td>\n",
       "      <td>NaN</td>\n",
       "      <td>NaN</td>\n",
       "      <td>NaN</td>\n",
       "      <td>...</td>\n",
       "      <td>NaN</td>\n",
       "      <td>NaN</td>\n",
       "      <td>NaN</td>\n",
       "      <td>NaN</td>\n",
       "      <td>NaN</td>\n",
       "      <td>NaN</td>\n",
       "      <td>NaN</td>\n",
       "      <td>NaN</td>\n",
       "      <td>NaN</td>\n",
       "      <td>NaN</td>\n",
       "    </tr>\n",
       "    <tr>\n",
       "      <th>21956</th>\n",
       "      <td>OWID_WRL</td>\n",
       "      <td>World</td>\n",
       "      <td>2029</td>\n",
       "      <td>45415.578146</td>\n",
       "      <td>NaN</td>\n",
       "      <td>NaN</td>\n",
       "      <td>NaN</td>\n",
       "      <td>NaN</td>\n",
       "      <td>NaN</td>\n",
       "      <td>NaN</td>\n",
       "      <td>...</td>\n",
       "      <td>NaN</td>\n",
       "      <td>NaN</td>\n",
       "      <td>NaN</td>\n",
       "      <td>NaN</td>\n",
       "      <td>NaN</td>\n",
       "      <td>NaN</td>\n",
       "      <td>NaN</td>\n",
       "      <td>NaN</td>\n",
       "      <td>NaN</td>\n",
       "      <td>NaN</td>\n",
       "    </tr>\n",
       "    <tr>\n",
       "      <th>21957</th>\n",
       "      <td>OWID_WRL</td>\n",
       "      <td>World</td>\n",
       "      <td>2030</td>\n",
       "      <td>46778.045490</td>\n",
       "      <td>NaN</td>\n",
       "      <td>NaN</td>\n",
       "      <td>NaN</td>\n",
       "      <td>NaN</td>\n",
       "      <td>NaN</td>\n",
       "      <td>NaN</td>\n",
       "      <td>...</td>\n",
       "      <td>NaN</td>\n",
       "      <td>NaN</td>\n",
       "      <td>NaN</td>\n",
       "      <td>NaN</td>\n",
       "      <td>NaN</td>\n",
       "      <td>NaN</td>\n",
       "      <td>NaN</td>\n",
       "      <td>NaN</td>\n",
       "      <td>NaN</td>\n",
       "      <td>NaN</td>\n",
       "    </tr>\n",
       "    <tr>\n",
       "      <th>21958</th>\n",
       "      <td>OWID_WRL</td>\n",
       "      <td>World</td>\n",
       "      <td>2031</td>\n",
       "      <td>48181.386855</td>\n",
       "      <td>NaN</td>\n",
       "      <td>NaN</td>\n",
       "      <td>NaN</td>\n",
       "      <td>NaN</td>\n",
       "      <td>NaN</td>\n",
       "      <td>NaN</td>\n",
       "      <td>...</td>\n",
       "      <td>NaN</td>\n",
       "      <td>NaN</td>\n",
       "      <td>NaN</td>\n",
       "      <td>NaN</td>\n",
       "      <td>NaN</td>\n",
       "      <td>NaN</td>\n",
       "      <td>NaN</td>\n",
       "      <td>NaN</td>\n",
       "      <td>NaN</td>\n",
       "      <td>NaN</td>\n",
       "    </tr>\n",
       "    <tr>\n",
       "      <th>21959</th>\n",
       "      <td>OWID_WRL</td>\n",
       "      <td>World</td>\n",
       "      <td>2032</td>\n",
       "      <td>49626.828461</td>\n",
       "      <td>NaN</td>\n",
       "      <td>NaN</td>\n",
       "      <td>NaN</td>\n",
       "      <td>NaN</td>\n",
       "      <td>NaN</td>\n",
       "      <td>NaN</td>\n",
       "      <td>...</td>\n",
       "      <td>NaN</td>\n",
       "      <td>NaN</td>\n",
       "      <td>NaN</td>\n",
       "      <td>NaN</td>\n",
       "      <td>NaN</td>\n",
       "      <td>NaN</td>\n",
       "      <td>NaN</td>\n",
       "      <td>NaN</td>\n",
       "      <td>NaN</td>\n",
       "      <td>NaN</td>\n",
       "    </tr>\n",
       "    <tr>\n",
       "      <th>21960</th>\n",
       "      <td>OWID_WRL</td>\n",
       "      <td>World</td>\n",
       "      <td>2033</td>\n",
       "      <td>51115.633314</td>\n",
       "      <td>NaN</td>\n",
       "      <td>NaN</td>\n",
       "      <td>NaN</td>\n",
       "      <td>NaN</td>\n",
       "      <td>NaN</td>\n",
       "      <td>NaN</td>\n",
       "      <td>...</td>\n",
       "      <td>NaN</td>\n",
       "      <td>NaN</td>\n",
       "      <td>NaN</td>\n",
       "      <td>NaN</td>\n",
       "      <td>NaN</td>\n",
       "      <td>NaN</td>\n",
       "      <td>NaN</td>\n",
       "      <td>NaN</td>\n",
       "      <td>NaN</td>\n",
       "      <td>NaN</td>\n",
       "    </tr>\n",
       "    <tr>\n",
       "      <th>21961</th>\n",
       "      <td>OWID_WRL</td>\n",
       "      <td>World</td>\n",
       "      <td>2034</td>\n",
       "      <td>52649.102314</td>\n",
       "      <td>NaN</td>\n",
       "      <td>NaN</td>\n",
       "      <td>NaN</td>\n",
       "      <td>NaN</td>\n",
       "      <td>NaN</td>\n",
       "      <td>NaN</td>\n",
       "      <td>...</td>\n",
       "      <td>NaN</td>\n",
       "      <td>NaN</td>\n",
       "      <td>NaN</td>\n",
       "      <td>NaN</td>\n",
       "      <td>NaN</td>\n",
       "      <td>NaN</td>\n",
       "      <td>NaN</td>\n",
       "      <td>NaN</td>\n",
       "      <td>NaN</td>\n",
       "      <td>NaN</td>\n",
       "    </tr>\n",
       "    <tr>\n",
       "      <th>21962</th>\n",
       "      <td>OWID_WRL</td>\n",
       "      <td>World</td>\n",
       "      <td>2035</td>\n",
       "      <td>54228.575383</td>\n",
       "      <td>NaN</td>\n",
       "      <td>NaN</td>\n",
       "      <td>NaN</td>\n",
       "      <td>NaN</td>\n",
       "      <td>NaN</td>\n",
       "      <td>NaN</td>\n",
       "      <td>...</td>\n",
       "      <td>NaN</td>\n",
       "      <td>NaN</td>\n",
       "      <td>NaN</td>\n",
       "      <td>NaN</td>\n",
       "      <td>NaN</td>\n",
       "      <td>NaN</td>\n",
       "      <td>NaN</td>\n",
       "      <td>NaN</td>\n",
       "      <td>NaN</td>\n",
       "      <td>NaN</td>\n",
       "    </tr>\n",
       "    <tr>\n",
       "      <th>21963</th>\n",
       "      <td>OWID_WRL</td>\n",
       "      <td>World</td>\n",
       "      <td>2036</td>\n",
       "      <td>55855.432645</td>\n",
       "      <td>NaN</td>\n",
       "      <td>NaN</td>\n",
       "      <td>NaN</td>\n",
       "      <td>NaN</td>\n",
       "      <td>NaN</td>\n",
       "      <td>NaN</td>\n",
       "      <td>...</td>\n",
       "      <td>NaN</td>\n",
       "      <td>NaN</td>\n",
       "      <td>NaN</td>\n",
       "      <td>NaN</td>\n",
       "      <td>NaN</td>\n",
       "      <td>NaN</td>\n",
       "      <td>NaN</td>\n",
       "      <td>NaN</td>\n",
       "      <td>NaN</td>\n",
       "      <td>NaN</td>\n",
       "    </tr>\n",
       "    <tr>\n",
       "      <th>21964</th>\n",
       "      <td>OWID_WRL</td>\n",
       "      <td>World</td>\n",
       "      <td>2037</td>\n",
       "      <td>57531.095624</td>\n",
       "      <td>NaN</td>\n",
       "      <td>NaN</td>\n",
       "      <td>NaN</td>\n",
       "      <td>NaN</td>\n",
       "      <td>NaN</td>\n",
       "      <td>NaN</td>\n",
       "      <td>...</td>\n",
       "      <td>NaN</td>\n",
       "      <td>NaN</td>\n",
       "      <td>NaN</td>\n",
       "      <td>NaN</td>\n",
       "      <td>NaN</td>\n",
       "      <td>NaN</td>\n",
       "      <td>NaN</td>\n",
       "      <td>NaN</td>\n",
       "      <td>NaN</td>\n",
       "      <td>NaN</td>\n",
       "    </tr>\n",
       "    <tr>\n",
       "      <th>21965</th>\n",
       "      <td>OWID_WRL</td>\n",
       "      <td>World</td>\n",
       "      <td>2038</td>\n",
       "      <td>59257.028493</td>\n",
       "      <td>NaN</td>\n",
       "      <td>NaN</td>\n",
       "      <td>NaN</td>\n",
       "      <td>NaN</td>\n",
       "      <td>NaN</td>\n",
       "      <td>NaN</td>\n",
       "      <td>...</td>\n",
       "      <td>NaN</td>\n",
       "      <td>NaN</td>\n",
       "      <td>NaN</td>\n",
       "      <td>NaN</td>\n",
       "      <td>NaN</td>\n",
       "      <td>NaN</td>\n",
       "      <td>NaN</td>\n",
       "      <td>NaN</td>\n",
       "      <td>NaN</td>\n",
       "      <td>NaN</td>\n",
       "    </tr>\n",
       "    <tr>\n",
       "      <th>21966</th>\n",
       "      <td>OWID_WRL</td>\n",
       "      <td>World</td>\n",
       "      <td>2039</td>\n",
       "      <td>61034.739348</td>\n",
       "      <td>NaN</td>\n",
       "      <td>NaN</td>\n",
       "      <td>NaN</td>\n",
       "      <td>NaN</td>\n",
       "      <td>NaN</td>\n",
       "      <td>NaN</td>\n",
       "      <td>...</td>\n",
       "      <td>NaN</td>\n",
       "      <td>NaN</td>\n",
       "      <td>NaN</td>\n",
       "      <td>NaN</td>\n",
       "      <td>NaN</td>\n",
       "      <td>NaN</td>\n",
       "      <td>NaN</td>\n",
       "      <td>NaN</td>\n",
       "      <td>NaN</td>\n",
       "      <td>NaN</td>\n",
       "    </tr>\n",
       "    <tr>\n",
       "      <th>21967</th>\n",
       "      <td>OWID_WRL</td>\n",
       "      <td>World</td>\n",
       "      <td>2040</td>\n",
       "      <td>62865.781528</td>\n",
       "      <td>NaN</td>\n",
       "      <td>NaN</td>\n",
       "      <td>NaN</td>\n",
       "      <td>NaN</td>\n",
       "      <td>NaN</td>\n",
       "      <td>NaN</td>\n",
       "      <td>...</td>\n",
       "      <td>NaN</td>\n",
       "      <td>NaN</td>\n",
       "      <td>NaN</td>\n",
       "      <td>NaN</td>\n",
       "      <td>NaN</td>\n",
       "      <td>NaN</td>\n",
       "      <td>NaN</td>\n",
       "      <td>NaN</td>\n",
       "      <td>NaN</td>\n",
       "      <td>NaN</td>\n",
       "    </tr>\n",
       "    <tr>\n",
       "      <th>21968</th>\n",
       "      <td>OWID_WRL</td>\n",
       "      <td>World</td>\n",
       "      <td>2041</td>\n",
       "      <td>64751.754974</td>\n",
       "      <td>NaN</td>\n",
       "      <td>NaN</td>\n",
       "      <td>NaN</td>\n",
       "      <td>NaN</td>\n",
       "      <td>NaN</td>\n",
       "      <td>NaN</td>\n",
       "      <td>...</td>\n",
       "      <td>NaN</td>\n",
       "      <td>NaN</td>\n",
       "      <td>NaN</td>\n",
       "      <td>NaN</td>\n",
       "      <td>NaN</td>\n",
       "      <td>NaN</td>\n",
       "      <td>NaN</td>\n",
       "      <td>NaN</td>\n",
       "      <td>NaN</td>\n",
       "      <td>NaN</td>\n",
       "    </tr>\n",
       "    <tr>\n",
       "      <th>21969</th>\n",
       "      <td>OWID_WRL</td>\n",
       "      <td>World</td>\n",
       "      <td>2042</td>\n",
       "      <td>66694.307623</td>\n",
       "      <td>NaN</td>\n",
       "      <td>NaN</td>\n",
       "      <td>NaN</td>\n",
       "      <td>NaN</td>\n",
       "      <td>NaN</td>\n",
       "      <td>NaN</td>\n",
       "      <td>...</td>\n",
       "      <td>NaN</td>\n",
       "      <td>NaN</td>\n",
       "      <td>NaN</td>\n",
       "      <td>NaN</td>\n",
       "      <td>NaN</td>\n",
       "      <td>NaN</td>\n",
       "      <td>NaN</td>\n",
       "      <td>NaN</td>\n",
       "      <td>NaN</td>\n",
       "      <td>NaN</td>\n",
       "    </tr>\n",
       "    <tr>\n",
       "      <th>21970</th>\n",
       "      <td>OWID_WRL</td>\n",
       "      <td>World</td>\n",
       "      <td>2043</td>\n",
       "      <td>68695.136852</td>\n",
       "      <td>NaN</td>\n",
       "      <td>NaN</td>\n",
       "      <td>NaN</td>\n",
       "      <td>NaN</td>\n",
       "      <td>NaN</td>\n",
       "      <td>NaN</td>\n",
       "      <td>...</td>\n",
       "      <td>NaN</td>\n",
       "      <td>NaN</td>\n",
       "      <td>NaN</td>\n",
       "      <td>NaN</td>\n",
       "      <td>NaN</td>\n",
       "      <td>NaN</td>\n",
       "      <td>NaN</td>\n",
       "      <td>NaN</td>\n",
       "      <td>NaN</td>\n",
       "      <td>NaN</td>\n",
       "    </tr>\n",
       "    <tr>\n",
       "      <th>21971</th>\n",
       "      <td>OWID_WRL</td>\n",
       "      <td>World</td>\n",
       "      <td>2044</td>\n",
       "      <td>70755.990957</td>\n",
       "      <td>NaN</td>\n",
       "      <td>NaN</td>\n",
       "      <td>NaN</td>\n",
       "      <td>NaN</td>\n",
       "      <td>NaN</td>\n",
       "      <td>NaN</td>\n",
       "      <td>...</td>\n",
       "      <td>NaN</td>\n",
       "      <td>NaN</td>\n",
       "      <td>NaN</td>\n",
       "      <td>NaN</td>\n",
       "      <td>NaN</td>\n",
       "      <td>NaN</td>\n",
       "      <td>NaN</td>\n",
       "      <td>NaN</td>\n",
       "      <td>NaN</td>\n",
       "      <td>NaN</td>\n",
       "    </tr>\n",
       "    <tr>\n",
       "      <th>21972</th>\n",
       "      <td>OWID_WRL</td>\n",
       "      <td>World</td>\n",
       "      <td>2045</td>\n",
       "      <td>72878.670686</td>\n",
       "      <td>NaN</td>\n",
       "      <td>NaN</td>\n",
       "      <td>NaN</td>\n",
       "      <td>NaN</td>\n",
       "      <td>NaN</td>\n",
       "      <td>NaN</td>\n",
       "      <td>...</td>\n",
       "      <td>NaN</td>\n",
       "      <td>NaN</td>\n",
       "      <td>NaN</td>\n",
       "      <td>NaN</td>\n",
       "      <td>NaN</td>\n",
       "      <td>NaN</td>\n",
       "      <td>NaN</td>\n",
       "      <td>NaN</td>\n",
       "      <td>NaN</td>\n",
       "      <td>NaN</td>\n",
       "    </tr>\n",
       "    <tr>\n",
       "      <th>21973</th>\n",
       "      <td>OWID_WRL</td>\n",
       "      <td>World</td>\n",
       "      <td>2046</td>\n",
       "      <td>75065.030807</td>\n",
       "      <td>NaN</td>\n",
       "      <td>NaN</td>\n",
       "      <td>NaN</td>\n",
       "      <td>NaN</td>\n",
       "      <td>NaN</td>\n",
       "      <td>NaN</td>\n",
       "      <td>...</td>\n",
       "      <td>NaN</td>\n",
       "      <td>NaN</td>\n",
       "      <td>NaN</td>\n",
       "      <td>NaN</td>\n",
       "      <td>NaN</td>\n",
       "      <td>NaN</td>\n",
       "      <td>NaN</td>\n",
       "      <td>NaN</td>\n",
       "      <td>NaN</td>\n",
       "      <td>NaN</td>\n",
       "    </tr>\n",
       "    <tr>\n",
       "      <th>21974</th>\n",
       "      <td>OWID_WRL</td>\n",
       "      <td>World</td>\n",
       "      <td>2047</td>\n",
       "      <td>77316.981731</td>\n",
       "      <td>NaN</td>\n",
       "      <td>NaN</td>\n",
       "      <td>NaN</td>\n",
       "      <td>NaN</td>\n",
       "      <td>NaN</td>\n",
       "      <td>NaN</td>\n",
       "      <td>...</td>\n",
       "      <td>NaN</td>\n",
       "      <td>NaN</td>\n",
       "      <td>NaN</td>\n",
       "      <td>NaN</td>\n",
       "      <td>NaN</td>\n",
       "      <td>NaN</td>\n",
       "      <td>NaN</td>\n",
       "      <td>NaN</td>\n",
       "      <td>NaN</td>\n",
       "      <td>NaN</td>\n",
       "    </tr>\n",
       "    <tr>\n",
       "      <th>21975</th>\n",
       "      <td>OWID_WRL</td>\n",
       "      <td>World</td>\n",
       "      <td>2048</td>\n",
       "      <td>79636.491183</td>\n",
       "      <td>NaN</td>\n",
       "      <td>NaN</td>\n",
       "      <td>NaN</td>\n",
       "      <td>NaN</td>\n",
       "      <td>NaN</td>\n",
       "      <td>NaN</td>\n",
       "      <td>...</td>\n",
       "      <td>NaN</td>\n",
       "      <td>NaN</td>\n",
       "      <td>NaN</td>\n",
       "      <td>NaN</td>\n",
       "      <td>NaN</td>\n",
       "      <td>NaN</td>\n",
       "      <td>NaN</td>\n",
       "      <td>NaN</td>\n",
       "      <td>NaN</td>\n",
       "      <td>NaN</td>\n",
       "    </tr>\n",
       "    <tr>\n",
       "      <th>21976</th>\n",
       "      <td>OWID_WRL</td>\n",
       "      <td>World</td>\n",
       "      <td>2049</td>\n",
       "      <td>82025.585918</td>\n",
       "      <td>NaN</td>\n",
       "      <td>NaN</td>\n",
       "      <td>NaN</td>\n",
       "      <td>NaN</td>\n",
       "      <td>NaN</td>\n",
       "      <td>NaN</td>\n",
       "      <td>...</td>\n",
       "      <td>NaN</td>\n",
       "      <td>NaN</td>\n",
       "      <td>NaN</td>\n",
       "      <td>NaN</td>\n",
       "      <td>NaN</td>\n",
       "      <td>NaN</td>\n",
       "      <td>NaN</td>\n",
       "      <td>NaN</td>\n",
       "      <td>NaN</td>\n",
       "      <td>NaN</td>\n",
       "    </tr>\n",
       "    <tr>\n",
       "      <th>21977</th>\n",
       "      <td>OWID_WRL</td>\n",
       "      <td>World</td>\n",
       "      <td>2050</td>\n",
       "      <td>84486.353496</td>\n",
       "      <td>NaN</td>\n",
       "      <td>NaN</td>\n",
       "      <td>NaN</td>\n",
       "      <td>NaN</td>\n",
       "      <td>NaN</td>\n",
       "      <td>NaN</td>\n",
       "      <td>...</td>\n",
       "      <td>NaN</td>\n",
       "      <td>NaN</td>\n",
       "      <td>NaN</td>\n",
       "      <td>NaN</td>\n",
       "      <td>NaN</td>\n",
       "      <td>NaN</td>\n",
       "      <td>NaN</td>\n",
       "      <td>NaN</td>\n",
       "      <td>NaN</td>\n",
       "      <td>NaN</td>\n",
       "    </tr>\n",
       "  </tbody>\n",
       "</table>\n",
       "<p>31 rows × 58 columns</p>\n",
       "</div>"
      ],
      "text/plain": [
       "       iso_code country  year           co2  consumption_co2  co2_growth_prct  \\\n",
       "215    OWID_WRL   World  2020  34807.259000        34807.259            -5.16   \n",
       "21948  OWID_WRL   World  2021  35851.476770              NaN              NaN   \n",
       "21949  OWID_WRL   World  2022  36927.021073              NaN              NaN   \n",
       "21950  OWID_WRL   World  2023  38034.831705              NaN              NaN   \n",
       "21951  OWID_WRL   World  2024  39175.876656              NaN              NaN   \n",
       "21952  OWID_WRL   World  2025  40351.152956              NaN              NaN   \n",
       "21953  OWID_WRL   World  2026  41561.687545              NaN              NaN   \n",
       "21954  OWID_WRL   World  2027  42808.538171              NaN              NaN   \n",
       "21955  OWID_WRL   World  2028  44092.794316              NaN              NaN   \n",
       "21956  OWID_WRL   World  2029  45415.578146              NaN              NaN   \n",
       "21957  OWID_WRL   World  2030  46778.045490              NaN              NaN   \n",
       "21958  OWID_WRL   World  2031  48181.386855              NaN              NaN   \n",
       "21959  OWID_WRL   World  2032  49626.828461              NaN              NaN   \n",
       "21960  OWID_WRL   World  2033  51115.633314              NaN              NaN   \n",
       "21961  OWID_WRL   World  2034  52649.102314              NaN              NaN   \n",
       "21962  OWID_WRL   World  2035  54228.575383              NaN              NaN   \n",
       "21963  OWID_WRL   World  2036  55855.432645              NaN              NaN   \n",
       "21964  OWID_WRL   World  2037  57531.095624              NaN              NaN   \n",
       "21965  OWID_WRL   World  2038  59257.028493              NaN              NaN   \n",
       "21966  OWID_WRL   World  2039  61034.739348              NaN              NaN   \n",
       "21967  OWID_WRL   World  2040  62865.781528              NaN              NaN   \n",
       "21968  OWID_WRL   World  2041  64751.754974              NaN              NaN   \n",
       "21969  OWID_WRL   World  2042  66694.307623              NaN              NaN   \n",
       "21970  OWID_WRL   World  2043  68695.136852              NaN              NaN   \n",
       "21971  OWID_WRL   World  2044  70755.990957              NaN              NaN   \n",
       "21972  OWID_WRL   World  2045  72878.670686              NaN              NaN   \n",
       "21973  OWID_WRL   World  2046  75065.030807              NaN              NaN   \n",
       "21974  OWID_WRL   World  2047  77316.981731              NaN              NaN   \n",
       "21975  OWID_WRL   World  2048  79636.491183              NaN              NaN   \n",
       "21976  OWID_WRL   World  2049  82025.585918              NaN              NaN   \n",
       "21977  OWID_WRL   World  2050  84486.353496              NaN              NaN   \n",
       "\n",
       "       co2_growth_abs  trade_co2  co2_per_capita  consumption_co2_per_capita  \\\n",
       "215         -1895.244        0.0           4.465                       4.465   \n",
       "21948             NaN        NaN             NaN                         NaN   \n",
       "21949             NaN        NaN             NaN                         NaN   \n",
       "21950             NaN        NaN             NaN                         NaN   \n",
       "21951             NaN        NaN             NaN                         NaN   \n",
       "21952             NaN        NaN             NaN                         NaN   \n",
       "21953             NaN        NaN             NaN                         NaN   \n",
       "21954             NaN        NaN             NaN                         NaN   \n",
       "21955             NaN        NaN             NaN                         NaN   \n",
       "21956             NaN        NaN             NaN                         NaN   \n",
       "21957             NaN        NaN             NaN                         NaN   \n",
       "21958             NaN        NaN             NaN                         NaN   \n",
       "21959             NaN        NaN             NaN                         NaN   \n",
       "21960             NaN        NaN             NaN                         NaN   \n",
       "21961             NaN        NaN             NaN                         NaN   \n",
       "21962             NaN        NaN             NaN                         NaN   \n",
       "21963             NaN        NaN             NaN                         NaN   \n",
       "21964             NaN        NaN             NaN                         NaN   \n",
       "21965             NaN        NaN             NaN                         NaN   \n",
       "21966             NaN        NaN             NaN                         NaN   \n",
       "21967             NaN        NaN             NaN                         NaN   \n",
       "21968             NaN        NaN             NaN                         NaN   \n",
       "21969             NaN        NaN             NaN                         NaN   \n",
       "21970             NaN        NaN             NaN                         NaN   \n",
       "21971             NaN        NaN             NaN                         NaN   \n",
       "21972             NaN        NaN             NaN                         NaN   \n",
       "21973             NaN        NaN             NaN                         NaN   \n",
       "21974             NaN        NaN             NaN                         NaN   \n",
       "21975             NaN        NaN             NaN                         NaN   \n",
       "21976             NaN        NaN             NaN                         NaN   \n",
       "21977             NaN        NaN             NaN                         NaN   \n",
       "\n",
       "       ...  ghg_per_capita  methane  methane_per_capita  nitrous_oxide  \\\n",
       "215    ...             NaN      NaN                 NaN            NaN   \n",
       "21948  ...             NaN      NaN                 NaN            NaN   \n",
       "21949  ...             NaN      NaN                 NaN            NaN   \n",
       "21950  ...             NaN      NaN                 NaN            NaN   \n",
       "21951  ...             NaN      NaN                 NaN            NaN   \n",
       "21952  ...             NaN      NaN                 NaN            NaN   \n",
       "21953  ...             NaN      NaN                 NaN            NaN   \n",
       "21954  ...             NaN      NaN                 NaN            NaN   \n",
       "21955  ...             NaN      NaN                 NaN            NaN   \n",
       "21956  ...             NaN      NaN                 NaN            NaN   \n",
       "21957  ...             NaN      NaN                 NaN            NaN   \n",
       "21958  ...             NaN      NaN                 NaN            NaN   \n",
       "21959  ...             NaN      NaN                 NaN            NaN   \n",
       "21960  ...             NaN      NaN                 NaN            NaN   \n",
       "21961  ...             NaN      NaN                 NaN            NaN   \n",
       "21962  ...             NaN      NaN                 NaN            NaN   \n",
       "21963  ...             NaN      NaN                 NaN            NaN   \n",
       "21964  ...             NaN      NaN                 NaN            NaN   \n",
       "21965  ...             NaN      NaN                 NaN            NaN   \n",
       "21966  ...             NaN      NaN                 NaN            NaN   \n",
       "21967  ...             NaN      NaN                 NaN            NaN   \n",
       "21968  ...             NaN      NaN                 NaN            NaN   \n",
       "21969  ...             NaN      NaN                 NaN            NaN   \n",
       "21970  ...             NaN      NaN                 NaN            NaN   \n",
       "21971  ...             NaN      NaN                 NaN            NaN   \n",
       "21972  ...             NaN      NaN                 NaN            NaN   \n",
       "21973  ...             NaN      NaN                 NaN            NaN   \n",
       "21974  ...             NaN      NaN                 NaN            NaN   \n",
       "21975  ...             NaN      NaN                 NaN            NaN   \n",
       "21976  ...             NaN      NaN                 NaN            NaN   \n",
       "21977  ...             NaN      NaN                 NaN            NaN   \n",
       "\n",
       "       nitrous_oxide_per_capita    population  gdp  \\\n",
       "215                         NaN  7.794799e+09  NaN   \n",
       "21948                       NaN           NaN  NaN   \n",
       "21949                       NaN           NaN  NaN   \n",
       "21950                       NaN           NaN  NaN   \n",
       "21951                       NaN           NaN  NaN   \n",
       "21952                       NaN           NaN  NaN   \n",
       "21953                       NaN           NaN  NaN   \n",
       "21954                       NaN           NaN  NaN   \n",
       "21955                       NaN           NaN  NaN   \n",
       "21956                       NaN           NaN  NaN   \n",
       "21957                       NaN           NaN  NaN   \n",
       "21958                       NaN           NaN  NaN   \n",
       "21959                       NaN           NaN  NaN   \n",
       "21960                       NaN           NaN  NaN   \n",
       "21961                       NaN           NaN  NaN   \n",
       "21962                       NaN           NaN  NaN   \n",
       "21963                       NaN           NaN  NaN   \n",
       "21964                       NaN           NaN  NaN   \n",
       "21965                       NaN           NaN  NaN   \n",
       "21966                       NaN           NaN  NaN   \n",
       "21967                       NaN           NaN  NaN   \n",
       "21968                       NaN           NaN  NaN   \n",
       "21969                       NaN           NaN  NaN   \n",
       "21970                       NaN           NaN  NaN   \n",
       "21971                       NaN           NaN  NaN   \n",
       "21972                       NaN           NaN  NaN   \n",
       "21973                       NaN           NaN  NaN   \n",
       "21974                       NaN           NaN  NaN   \n",
       "21975                       NaN           NaN  NaN   \n",
       "21976                       NaN           NaN  NaN   \n",
       "21977                       NaN           NaN  NaN   \n",
       "\n",
       "       primary_energy_consumption  energy_per_capita  energy_per_gdp  \n",
       "215                           NaN                NaN             NaN  \n",
       "21948                         NaN                NaN             NaN  \n",
       "21949                         NaN                NaN             NaN  \n",
       "21950                         NaN                NaN             NaN  \n",
       "21951                         NaN                NaN             NaN  \n",
       "21952                         NaN                NaN             NaN  \n",
       "21953                         NaN                NaN             NaN  \n",
       "21954                         NaN                NaN             NaN  \n",
       "21955                         NaN                NaN             NaN  \n",
       "21956                         NaN                NaN             NaN  \n",
       "21957                         NaN                NaN             NaN  \n",
       "21958                         NaN                NaN             NaN  \n",
       "21959                         NaN                NaN             NaN  \n",
       "21960                         NaN                NaN             NaN  \n",
       "21961                         NaN                NaN             NaN  \n",
       "21962                         NaN                NaN             NaN  \n",
       "21963                         NaN                NaN             NaN  \n",
       "21964                         NaN                NaN             NaN  \n",
       "21965                         NaN                NaN             NaN  \n",
       "21966                         NaN                NaN             NaN  \n",
       "21967                         NaN                NaN             NaN  \n",
       "21968                         NaN                NaN             NaN  \n",
       "21969                         NaN                NaN             NaN  \n",
       "21970                         NaN                NaN             NaN  \n",
       "21971                         NaN                NaN             NaN  \n",
       "21972                         NaN                NaN             NaN  \n",
       "21973                         NaN                NaN             NaN  \n",
       "21974                         NaN                NaN             NaN  \n",
       "21975                         NaN                NaN             NaN  \n",
       "21976                         NaN                NaN             NaN  \n",
       "21977                         NaN                NaN             NaN  \n",
       "\n",
       "[31 rows x 58 columns]"
      ]
     },
     "execution_count": 138,
     "metadata": {},
     "output_type": "execute_result"
    }
   ],
   "source": [
    "#根据要求计算、并筛选出2020-2050年的数据\n",
    "#提示：结果应当为31 rows × 58 columns\n",
    "new_df=df.copy()\n",
    "for i in range(30):\n",
    "    s=new_df[(new_df['year']==(i+2020))&(new_df['country']=='World')].copy()\n",
    "    s['year']=s['year']+1\n",
    "    s['co2']=s['co2']*1.03\n",
    "    s.iloc[:,4:]=np.nan\n",
    "    new_df=pd.concat([new_df,s],ignore_index=True)\n",
    "new_df=new_df[(new_df['country']=='World')&(new_df['year']>2019)].copy()\n",
    "new_df"
   ]
  },
  {
   "cell_type": "code",
   "execution_count": 139,
   "id": "77f9601d",
   "metadata": {},
   "outputs": [
    {
     "data": {
      "text/plain": [
       "<Axes: xlabel='year', ylabel='co2'>"
      ]
     },
     "execution_count": 139,
     "metadata": {},
     "output_type": "execute_result"
    },
    {
     "data": {
      "image/png": "[encoded data removed]",
      "text/plain": [
       "<Figure size 640x480 with 1 Axes>"
      ]
     },
     "metadata": {},
     "output_type": "display_data"
    }
   ],
   "source": [
    "#绘制回归图 注意输入数据应该是2020-2050年间全世界的这31条数据\n",
    "x=new_df['year']\n",
    "y=new_df['co2']\n",
    "sns.regplot (x=x, y=y, data=new_df)"
   ]
  },
  {
   "cell_type": "code",
   "execution_count": 140,
   "id": "071240c3",
   "metadata": {},
   "outputs": [],
   "source": [
    "#绘制回归图 注意输入数据应该是2020-2050年间全世界的这31条数据\n",
    " "
   ]
  },
  {
   "cell_type": "markdown",
   "id": "d6305f88",
   "metadata": {},
   "source": [
    "你能得出什么结论？你能得出什么结论？请根据得到的图表给出你的分析"
   ]
  },
  {
   "cell_type": "markdown",
   "id": "c12ec989",
   "metadata": {},
   "source": [
    "如果不加以控制的话，按照目前的增长速度发展下去，到2050年的时候世界co2排放量会增长到目前的2.4倍以上。"
   ]
  },
  {
   "cell_type": "markdown",
   "id": "33140201",
   "metadata": {},
   "source": [
    "## 任务六：绘制提琴图"
   ]
  },
  {
   "cell_type": "code",
   "execution_count": 141,
   "id": "3d8fe3ca",
   "metadata": {},
   "outputs": [],
   "source": [
    "#筛选1960、1980、2000和2020年的数据\n",
    "#提示：得到的结果应为832 rows × 58 columns\n",
    " "
   ]
  },
  {
   "cell_type": "code",
   "execution_count": 142,
   "id": "7e19259c",
   "metadata": {},
   "outputs": [],
   "source": [
    "#绘制年份与人均碳排放量之间的提琴图，选择1960、1980、2000和2020四个年份\n",
    "\n"
   ]
  },
  {
   "cell_type": "markdown",
   "id": "98da0842",
   "metadata": {},
   "source": [
    "你能得出什么结论？请根据得到的图表给出你的分析"
   ]
  },
  {
   "cell_type": "code",
   "execution_count": null,
   "id": "a043e2f3",
   "metadata": {},
   "outputs": [],
   "source": []
  },
  {
   "cell_type": "markdown",
   "id": "d77a92a4",
   "metadata": {},
   "source": [
    "## 任务七：谁该对碳排放负更多责任？"
   ]
  },
  {
   "cell_type": "markdown",
   "id": "b5868a5a",
   "metadata": {},
   "source": [
    "### 题目：发展中国家/发达国家应更多地承担气候变化和减排的责任"
   ]
  },
  {
   "cell_type": "markdown",
   "id": "0ad70a74",
   "metadata": {},
   "source": [
    "你选择的题目是：发达国家应更多地承担气候变化额减排的责任"
   ]
  },
  {
   "cell_type": "markdown",
   "id": "83047c1f",
   "metadata": {},
   "source": [
    "请根据你的角度和提供的数据集进行数据分析，并绘制相关图表，来支持你的观点。除了图表外，也请根据结果给出文字分析。"
   ]
  },
  {
   "cell_type": "markdown",
   "id": "452cf868",
   "metadata": {},
   "source": [
    "## 观点一：能力越大责任越大\n",
    "谁更有能力处理好温室气体排放问题呢？  \n",
    "拥有更多财富与更高科技水平的国家显然更有能力。   \n",
    "基于此，我们进行分析，用人均GDP表征富裕水平。  \n",
    "单位能量对应的排放量可以一定程度上反应对co2排放的控制能力，以及清洁能源使用占比，所以用之表征科技水平来进行分析。   \n",
    "由图1可知，发达国家显著具有较高的人均GDP，理应有更多的钱用于环保当中。   \n",
    "由图2可知，发达国家的平均科技水平较高，理应能更好地应对减排需求。  "
   ]
  },
  {
   "cell_type": "code",
   "execution_count": 150,
   "id": "4406eba2",
   "metadata": {},
   "outputs": [],
   "source": [
    "developed_country = [\n",
    "    \"Australia\", \"Austria\", \"Belgium\", \"Canada\", \"Chile\", \"Colombia\", \n",
    "    \"Czech Republic\", \"Denmark\", \"Estonia\", \"Finland\", \"France\", \"Germany\", \n",
    "    \"Greece\", \"Hungary\", \"Iceland\", \"Ireland\", \"Israel\", \"Italy\", \"Japan\", \n",
    "    \"Korea\", \"Latvia\", \"Lithuania\", \"Luxembourg\", \"Mexico\", \"Netherlands\", \n",
    "    \"New Zealand\", \"Norway\", \"Poland\", \"Portugal\", \"Slovak Republic\", \n",
    "    \"Slovenia\", \"Spain\", \"Sweden\", \"Switzerland\", \"Turkey\", \"United Kingdom\", \n",
    "    \"United States\"\n",
    "]\n",
    "df_new=df.copy()\n",
    "df_new['gdp_capita']=df_new['gdp']/df_new['population']\n",
    "df_new['status'] = [1 if country in developed_country else 0 for country in df_new['country']]\n",
    "\n"
   ]
  },
  {
   "cell_type": "code",
   "execution_count": 151,
   "id": "fead5e79",
   "metadata": {},
   "outputs": [
    {
     "data": {
      "application/vnd.plotly.v1+json": {
       "config": {
        "plotlyServerURL": "https://plot.ly"
       },
       "data": [
        {
         "coloraxis": "coloraxis",
         "geo": "geo",
         "hovertemplate": "<b>%{hovertext}</b><br><br>iso_code=%{location}<br>gdp_capita=%{z}<extra></extra>",
         "hovertext": [
          "Afghanistan",
          "Albania",
          "Algeria",
          "Angola",
          "Argentina",
          "Armenia",
          "Australia",
          "Austria",
          "Azerbaijan",
          "Bahrain",
          "Bangladesh",
          "Barbados",
          "Belarus",
          "Belgium",
          "Benin",
          "Bolivia",
          "Bosnia and Herzegovina",
          "Botswana",
          "Brazil",
          "Bulgaria",
          "Burkina Faso",
          "Burundi",
          "Cambodia",
          "Cameroon",
          "Canada",
          "Cape Verde",
          "Central African Republic",
          "Chad",
          "Chile",
          "China",
          "Colombia",
          "Comoros",
          "Congo",
          "Costa Rica",
          "Cote d'Ivoire",
          "Croatia",
          "Cuba",
          "Cyprus",
          "Czechia",
          "Democratic Republic of Congo",
          "Denmark",
          "Djibouti",
          "Dominica",
          "Dominican Republic",
          "Ecuador",
          "Egypt",
          "El Salvador",
          "Equatorial Guinea",
          "Estonia",
          "Eswatini",
          "Ethiopia",
          "Finland",
          "France",
          "Gabon",
          "Gambia",
          "Georgia",
          "Germany",
          "Ghana",
          "Greece",
          "Guatemala",
          "Guinea",
          "Guinea-Bissau",
          "Haiti",
          "Honduras",
          "Hong Kong",
          "Hungary",
          "Iceland",
          "India",
          "Indonesia",
          "Iran",
          "Iraq",
          "Ireland",
          "Israel",
          "Italy",
          "Jamaica",
          "Japan",
          "Jordan",
          "Kazakhstan",
          "Kenya",
          "Kuwait",
          "Kyrgyzstan",
          "Laos",
          "Latvia",
          "Lebanon",
          "Lesotho",
          "Liberia",
          "Libya",
          "Lithuania",
          "Luxembourg",
          "Madagascar",
          "Malawi",
          "Malaysia",
          "Mali",
          "Malta",
          "Mauritania",
          "Mauritius",
          "Mexico",
          "Moldova",
          "Mongolia",
          "Montenegro",
          "Morocco",
          "Mozambique",
          "Myanmar",
          "Namibia",
          "Nepal",
          "Netherlands",
          "New Zealand",
          "Nicaragua",
          "Niger",
          "Nigeria",
          "North Korea",
          "North Macedonia",
          "Norway",
          "Oman",
          "Pakistan",
          "Palestine",
          "Panama",
          "Paraguay",
          "Peru",
          "Philippines",
          "Poland",
          "Portugal",
          "Puerto Rico",
          "Qatar",
          "Romania",
          "Russia",
          "Rwanda",
          "Saint Lucia",
          "Sao Tome and Principe",
          "Saudi Arabia",
          "Senegal",
          "Serbia",
          "Seychelles",
          "Sierra Leone",
          "Singapore",
          "Slovakia",
          "Slovenia",
          "South Africa",
          "South Korea",
          "Spain",
          "Sri Lanka",
          "Sudan",
          "Sweden",
          "Switzerland",
          "Syria",
          "Taiwan",
          "Tajikistan",
          "Tanzania",
          "Thailand",
          "Togo",
          "Trinidad and Tobago",
          "Tunisia",
          "Turkey",
          "Turkmenistan",
          "Uganda",
          "Ukraine",
          "United Arab Emirates",
          "United Kingdom",
          "United States",
          "Uruguay",
          "Uzbekistan",
          "Venezuela",
          "Vietnam",
          "World",
          "Yemen",
          "Zambia",
          "Zimbabwe"
         ],
         "locations": [
          "AFG",
          "ALB",
          "DZA",
          "AGO",
          "ARG",
          "ARM",
          "AUS",
          "AUT",
          "AZE",
          "BHR",
          "BGD",
          "BRB",
          "BLR",
          "BEL",
          "BEN",
          "BOL",
          "BIH",
          "BWA",
          "BRA",
          "BGR",
          "BFA",
          "BDI",
          "KHM",
          "CMR",
          "CAN",
          "CPV",
          "CAF",
          "TCD",
          "CHL",
          "CHN",
          "COL",
          "COM",
          "COG",
          "CRI",
          "CIV",
          "HRV",
          "CUB",
          "CYP",
          "CZE",
          "COD",
          "DNK",
          "DJI",
          "DMA",
          "DOM",
          "ECU",
          "EGY",
          "SLV",
          "GNQ",
          "EST",
          "SWZ",
          "ETH",
          "FIN",
          "FRA",
          "GAB",
          "GMB",
          "GEO",
          "DEU",
          "GHA",
          "GRC",
          "GTM",
          "GIN",
          "GNB",
          "HTI",
          "HND",
          "HKG",
          "HUN",
          "ISL",
          "IND",
          "IDN",
          "IRN",
          "IRQ",
          "IRL",
          "ISR",
          "ITA",
          "JAM",
          "JPN",
          "JOR",
          "KAZ",
          "KEN",
          "KWT",
          "KGZ",
          "LAO",
          "LVA",
          "LBN",
          "LSO",
          "LBR",
          "LBY",
          "LTU",
          "LUX",
          "MDG",
          "MWI",
          "MYS",
          "MLI",
          "MLT",
          "MRT",
          "MUS",
          "MEX",
          "MDA",
          "MNG",
          "MNE",
          "MAR",
          "MOZ",
          "MMR",
          "NAM",
          "NPL",
          "NLD",
          "NZL",
          "NIC",
          "NER",
          "NGA",
          "PRK",
          "MKD",
          "NOR",
          "OMN",
          "PAK",
          "PSE",
          "PAN",
          "PRY",
          "PER",
          "PHL",
          "POL",
          "PRT",
          "PRI",
          "QAT",
          "ROU",
          "RUS",
          "RWA",
          "LCA",
          "STP",
          "SAU",
          "SEN",
          "SRB",
          "SYC",
          "SLE",
          "SGP",
          "SVK",
          "SVN",
          "ZAF",
          "KOR",
          "ESP",
          "LKA",
          "SDN",
          "SWE",
          "CHE",
          "SYR",
          "TWN",
          "TJK",
          "TZA",
          "THA",
          "TGO",
          "TTO",
          "TUN",
          "TUR",
          "TKM",
          "UGA",
          "UKR",
          "ARE",
          "GBR",
          "USA",
          "URY",
          "UZB",
          "VEN",
          "VNM",
          "OWID_WRL",
          "YEM",
          "ZMB",
          "ZWE"
         ],
         "name": "",
         "type": "choropleth",
         "z": [
          7.505735173294168,
          9.375644302129064,
          9.54532331805186,
          8.650009068388238,
          9.836061186209069,
          9.330812866593718,
          10.814666348425934,
          10.668797222765663,
          9.6880620386172,
          10.593151404973948,
          8.355652086152359,
          9.414653283422274,
          9.845688245423867,
          10.5859016661676,
          7.75070083298816,
          8.805101310844547,
          9.427139052498788,
          9.674204851116997,
          9.557945203841909,
          9.838686645543762,
          7.3686255778800405,
          6.4838474586423684,
          8.206354439263073,
          8.013210859207778,
          10.715043872226017,
          8.87352053903405,
          6.643289126529199,
          7.6091853133291325,
          10.000718866130196,
          9.450485802940976,
          9.48242694443585,
          7.439149850002602,
          8.635452366011775,
          9.593493873086473,
          8.316776719591608,
          9.92550477971449,
          9.007342486508799,
          10.059104169031546,
          10.32792834568286,
          6.880972285170356,
          10.750357728396262,
          8.019033767753784,
          9.140301481536897,
          9.65183324945707,
          9.237373395312922,
          9.426579659812655,
          9.051115139172893,
          9.763109868506248,
          10.19489716225039,
          8.951538246049388,
          7.491137953850652,
          10.567386787662212,
          10.589705744309423,
          9.75927441393538,
          7.454471901279276,
          9.59800447043855,
          10.752542178208813,
          8.292415362082417,
          10.075868693929937,
          8.908575935650507,
          7.335728386100755,
          7.292013664366848,
          7.424767172566796,
          8.462424677503217,
          10.83351098064097,
          10.1580197580336,
          10.72513234461639,
          8.784502476354168,
          9.349208111998578,
          9.746988516154495,
          9.500254220901583,
          11.085670280163423,
          10.412243747178831,
          10.441791066879281,
          8.798012011230725,
          10.552212475728329,
          9.26159432917923,
          10.13906595892813,
          8.124473850420454,
          11.112148293652597,
          8.45438011026261,
          8.79613451936667,
          10.098250376335189,
          9.554783169380924,
          7.840898332859096,
          6.705464388988089,
          9.61817369198063,
          10.216508189432773,
          10.96731064741319,
          7.241468371333288,
          7.126286472298297,
          10.108009400436794,
          7.274204212329059,
          10.478111224519182,
          8.011532495998898,
          9.984224175146283,
          9.674157400823514,
          8.656985265560401,
          9.480414536598866,
          9.856556954039107,
          9.027144444794159,
          6.906193243530676,
          8.68497697263698,
          9.151998549346605,
          7.967234838246124,
          10.777975322493136,
          10.492803237314511,
          8.447024246685892,
          6.816400924554459,
          8.597068232710548,
          7.368858432934145,
          9.495528780252473,
          11.340689335471703,
          10.482591014875792,
          8.650194174785247,
          8.505582649475155,
          9.932956404150252,
          9.16222303693466,
          9.39901058861574,
          9.054315381110044,
          10.23208905267176,
          10.201520124676184,
          10.545845844951218,
          11.87778523054571,
          9.893476110758101,
          10.11837920730378,
          7.533008213358952,
          9.162411468762915,
          8.192551567376066,
          10.81514011914813,
          7.900980718976674,
          9.337582863009326,
          10.267524581609498,
          7.236598984106595,
          11.173749970037706,
          10.198311287541813,
          10.278077905546208,
          9.363045331912302,
          10.552446620221453,
          10.372237785476338,
          9.387592596282811,
          8.12484379495982,
          10.746616935524454,
          11.041269211523366,
          8.115740198778232,
          10.689821668220583,
          8.34239473389071,
          7.96474542237897,
          9.692134215985325,
          7.316033469595914,
          10.125229278980155,
          9.329762741505844,
          9.909045427189659,
          10.099736236323276,
          7.613992539102455,
          9.184837010170323,
          11.24251434655409,
          10.54095232895005,
          10.923408568340943,
          9.897306539871467,
          9.246958721933801,
          9.279036515862265,
          8.842639743984806,
          9.608471997218357,
          7.792622945386033,
          8.16458732604856,
          7.360876483669002
         ]
        }
       ],
       "layout": {
        "coloraxis": {
         "colorbar": {
          "title": {
           "text": "gdp_capita"
          }
         },
         "colorscale": [
          [
           0,
           "rgb(247,252,245)"
          ],
          [
           0.125,
           "rgb(229,245,224)"
          ],
          [
           0.25,
           "rgb(199,233,192)"
          ],
          [
           0.375,
           "rgb(161,217,155)"
          ],
          [
           0.5,
           "rgb(116,196,118)"
          ],
          [
           0.625,
           "rgb(65,171,93)"
          ],
          [
           0.75,
           "rgb(35,139,69)"
          ],
          [
           0.875,
           "rgb(0,109,44)"
          ],
          [
           1,
           "rgb(0,68,27)"
          ]
         ]
        },
        "geo": {
         "center": {},
         "domain": {
          "x": [
           0,
           1
          ],
          "y": [
           0,
           1
          ]
         }
        },
        "legend": {
         "tracegroupgap": 0
        },
        "template": {
         "data": {
          "bar": [
           {
            "error_x": {
             "color": "#2a3f5f"
            },
            "error_y": {
             "color": "#2a3f5f"
            },
            "marker": {
             "line": {
              "color": "#E5ECF6",
              "width": 0.5
             },
             "pattern": {
              "fillmode": "overlay",
              "size": 10,
              "solidity": 0.2
             }
            },
            "type": "bar"
           }
          ],
          "barpolar": [
           {
            "marker": {
             "line": {
              "color": "#E5ECF6",
              "width": 0.5
             },
             "pattern": {
              "fillmode": "overlay",
              "size": 10,
              "solidity": 0.2
             }
            },
            "type": "barpolar"
           }
          ],
          "carpet": [
           {
            "aaxis": {
             "endlinecolor": "#2a3f5f",
             "gridcolor": "white",
             "linecolor": "white",
             "minorgridcolor": "white",
             "startlinecolor": "#2a3f5f"
            },
            "baxis": {
             "endlinecolor": "#2a3f5f",
             "gridcolor": "white",
             "linecolor": "white",
             "minorgridcolor": "white",
             "startlinecolor": "#2a3f5f"
            },
            "type": "carpet"
           }
          ],
          "choropleth": [
           {
            "colorbar": {
             "outlinewidth": 0,
             "ticks": ""
            },
            "type": "choropleth"
           }
          ],
          "contour": [
           {
            "colorbar": {
             "outlinewidth": 0,
             "ticks": ""
            },
            "colorscale": [
             [
              0,
              "#0d0887"
             ],
             [
              0.1111111111111111,
              "#46039f"
             ],
             [
              0.2222222222222222,
              "#7201a8"
             ],
             [
              0.3333333333333333,
              "#9c179e"
             ],
             [
              0.4444444444444444,
              "#bd3786"
             ],
             [
              0.5555555555555556,
              "#d8576b"
             ],
             [
              0.6666666666666666,
              "#ed7953"
             ],
             [
              0.7777777777777778,
              "#fb9f3a"
             ],
             [
              0.8888888888888888,
              "#fdca26"
             ],
             [
              1,
              "#f0f921"
             ]
            ],
            "type": "contour"
           }
          ],
          "contourcarpet": [
           {
            "colorbar": {
             "outlinewidth": 0,
             "ticks": ""
            },
            "type": "contourcarpet"
           }
          ],
          "heatmap": [
           {
            "colorbar": {
             "outlinewidth": 0,
             "ticks": ""
            },
            "colorscale": [
             [
              0,
              "#0d0887"
             ],
             [
              0.1111111111111111,
              "#46039f"
             ],
             [
              0.2222222222222222,
              "#7201a8"
             ],
             [
              0.3333333333333333,
              "#9c179e"
             ],
             [
              0.4444444444444444,
              "#bd3786"
             ],
             [
              0.5555555555555556,
              "#d8576b"
             ],
             [
              0.6666666666666666,
              "#ed7953"
             ],
             [
              0.7777777777777778,
              "#fb9f3a"
             ],
             [
              0.8888888888888888,
              "#fdca26"
             ],
             [
              1,
              "#f0f921"
             ]
            ],
            "type": "heatmap"
           }
          ],
          "heatmapgl": [
           {
            "colorbar": {
             "outlinewidth": 0,
             "ticks": ""
            },
            "colorscale": [
             [
              0,
              "#0d0887"
             ],
             [
              0.1111111111111111,
              "#46039f"
             ],
             [
              0.2222222222222222,
              "#7201a8"
             ],
             [
              0.3333333333333333,
              "#9c179e"
             ],
             [
              0.4444444444444444,
              "#bd3786"
             ],
             [
              0.5555555555555556,
              "#d8576b"
             ],
             [
              0.6666666666666666,
              "#ed7953"
             ],
             [
              0.7777777777777778,
              "#fb9f3a"
             ],
             [
              0.8888888888888888,
              "#fdca26"
             ],
             [
              1,
              "#f0f921"
             ]
            ],
            "type": "heatmapgl"
           }
          ],
          "histogram": [
           {
            "marker": {
             "pattern": {
              "fillmode": "overlay",
              "size": 10,
              "solidity": 0.2
             }
            },
            "type": "histogram"
           }
          ],
          "histogram2d": [
           {
            "colorbar": {
             "outlinewidth": 0,
             "ticks": ""
            },
            "colorscale": [
             [
              0,
              "#0d0887"
             ],
             [
              0.1111111111111111,
              "#46039f"
             ],
             [
              0.2222222222222222,
              "#7201a8"
             ],
             [
              0.3333333333333333,
              "#9c179e"
             ],
             [
              0.4444444444444444,
              "#bd3786"
             ],
             [
              0.5555555555555556,
              "#d8576b"
             ],
             [
              0.6666666666666666,
              "#ed7953"
             ],
             [
              0.7777777777777778,
              "#fb9f3a"
             ],
             [
              0.8888888888888888,
              "#fdca26"
             ],
             [
              1,
              "#f0f921"
             ]
            ],
            "type": "histogram2d"
           }
          ],
          "histogram2dcontour": [
           {
            "colorbar": {
             "outlinewidth": 0,
             "ticks": ""
            },
            "colorscale": [
             [
              0,
              "#0d0887"
             ],
             [
              0.1111111111111111,
              "#46039f"
             ],
             [
              0.2222222222222222,
              "#7201a8"
             ],
             [
              0.3333333333333333,
              "#9c179e"
             ],
             [
              0.4444444444444444,
              "#bd3786"
             ],
             [
              0.5555555555555556,
              "#d8576b"
             ],
             [
              0.6666666666666666,
              "#ed7953"
             ],
             [
              0.7777777777777778,
              "#fb9f3a"
             ],
             [
              0.8888888888888888,
              "#fdca26"
             ],
             [
              1,
              "#f0f921"
             ]
            ],
            "type": "histogram2dcontour"
           }
          ],
          "mesh3d": [
           {
            "colorbar": {
             "outlinewidth": 0,
             "ticks": ""
            },
            "type": "mesh3d"
           }
          ],
          "parcoords": [
           {
            "line": {
             "colorbar": {
              "outlinewidth": 0,
              "ticks": ""
             }
            },
            "type": "parcoords"
           }
          ],
          "pie": [
           {
            "automargin": true,
            "type": "pie"
           }
          ],
          "scatter": [
           {
            "fillpattern": {
             "fillmode": "overlay",
             "size": 10,
             "solidity": 0.2
            },
            "type": "scatter"
           }
          ],
          "scatter3d": [
           {
            "line": {
             "colorbar": {
              "outlinewidth": 0,
              "ticks": ""
             }
            },
            "marker": {
             "colorbar": {
              "outlinewidth": 0,
              "ticks": ""
             }
            },
            "type": "scatter3d"
           }
          ],
          "scattercarpet": [
           {
            "marker": {
             "colorbar": {
              "outlinewidth": 0,
              "ticks": ""
             }
            },
            "type": "scattercarpet"
           }
          ],
          "scattergeo": [
           {
            "marker": {
             "colorbar": {
              "outlinewidth": 0,
              "ticks": ""
             }
            },
            "type": "scattergeo"
           }
          ],
          "scattergl": [
           {
            "marker": {
             "colorbar": {
              "outlinewidth": 0,
              "ticks": ""
             }
            },
            "type": "scattergl"
           }
          ],
          "scattermapbox": [
           {
            "marker": {
             "colorbar": {
              "outlinewidth": 0,
              "ticks": ""
             }
            },
            "type": "scattermapbox"
           }
          ],
          "scatterpolar": [
           {
            "marker": {
             "colorbar": {
              "outlinewidth": 0,
              "ticks": ""
             }
            },
            "type": "scatterpolar"
           }
          ],
          "scatterpolargl": [
           {
            "marker": {
             "colorbar": {
              "outlinewidth": 0,
              "ticks": ""
             }
            },
            "type": "scatterpolargl"
           }
          ],
          "scatterternary": [
           {
            "marker": {
             "colorbar": {
              "outlinewidth": 0,
              "ticks": ""
             }
            },
            "type": "scatterternary"
           }
          ],
          "surface": [
           {
            "colorbar": {
             "outlinewidth": 0,
             "ticks": ""
            },
            "colorscale": [
             [
              0,
              "#0d0887"
             ],
             [
              0.1111111111111111,
              "#46039f"
             ],
             [
              0.2222222222222222,
              "#7201a8"
             ],
             [
              0.3333333333333333,
              "#9c179e"
             ],
             [
              0.4444444444444444,
              "#bd3786"
             ],
             [
              0.5555555555555556,
              "#d8576b"
             ],
             [
              0.6666666666666666,
              "#ed7953"
             ],
             [
              0.7777777777777778,
              "#fb9f3a"
             ],
             [
              0.8888888888888888,
              "#fdca26"
             ],
             [
              1,
              "#f0f921"
             ]
            ],
            "type": "surface"
           }
          ],
          "table": [
           {
            "cells": {
             "fill": {
              "color": "#EBF0F8"
             },
             "line": {
              "color": "white"
             }
            },
            "header": {
             "fill": {
              "color": "#C8D4E3"
             },
             "line": {
              "color": "white"
             }
            },
            "type": "table"
           }
          ]
         },
         "layout": {
          "annotationdefaults": {
           "arrowcolor": "#2a3f5f",
           "arrowhead": 0,
           "arrowwidth": 1
          },
          "autotypenumbers": "strict",
          "coloraxis": {
           "colorbar": {
            "outlinewidth": 0,
            "ticks": ""
           }
          },
          "colorscale": {
           "diverging": [
            [
             0,
             "#8e0152"
            ],
            [
             0.1,
             "#c51b7d"
            ],
            [
             0.2,
             "#de77ae"
            ],
            [
             0.3,
             "#f1b6da"
            ],
            [
             0.4,
             "#fde0ef"
            ],
            [
             0.5,
             "#f7f7f7"
            ],
            [
             0.6,
             "#e6f5d0"
            ],
            [
             0.7,
             "#b8e186"
            ],
            [
             0.8,
             "#7fbc41"
            ],
            [
             0.9,
             "#4d9221"
            ],
            [
             1,
             "#276419"
            ]
           ],
           "sequential": [
            [
             0,
             "#0d0887"
            ],
            [
             0.1111111111111111,
             "#46039f"
            ],
            [
             0.2222222222222222,
             "#7201a8"
            ],
            [
             0.3333333333333333,
             "#9c179e"
            ],
            [
             0.4444444444444444,
             "#bd3786"
            ],
            [
             0.5555555555555556,
             "#d8576b"
            ],
            [
             0.6666666666666666,
             "#ed7953"
            ],
            [
             0.7777777777777778,
             "#fb9f3a"
            ],
            [
             0.8888888888888888,
             "#fdca26"
            ],
            [
             1,
             "#f0f921"
            ]
           ],
           "sequentialminus": [
            [
             0,
             "#0d0887"
            ],
            [
             0.1111111111111111,
             "#46039f"
            ],
            [
             0.2222222222222222,
             "#7201a8"
            ],
            [
             0.3333333333333333,
             "#9c179e"
            ],
            [
             0.4444444444444444,
             "#bd3786"
            ],
            [
             0.5555555555555556,
             "#d8576b"
            ],
            [
             0.6666666666666666,
             "#ed7953"
            ],
            [
             0.7777777777777778,
             "#fb9f3a"
            ],
            [
             0.8888888888888888,
             "#fdca26"
            ],
            [
             1,
             "#f0f921"
            ]
           ]
          },
          "colorway": [
           "#636efa",
           "#EF553B",
           "#00cc96",
           "#ab63fa",
           "#FFA15A",
           "#19d3f3",
           "#FF6692",
           "#B6E880",
           "#FF97FF",
           "#FECB52"
          ],
          "font": {
           "color": "#2a3f5f"
          },
          "geo": {
           "bgcolor": "white",
           "lakecolor": "white",
           "landcolor": "#E5ECF6",
           "showlakes": true,
           "showland": true,
           "subunitcolor": "white"
          },
          "hoverlabel": {
           "align": "left"
          },
          "hovermode": "closest",
          "mapbox": {
           "style": "light"
          },
          "paper_bgcolor": "white",
          "plot_bgcolor": "#E5ECF6",
          "polar": {
           "angularaxis": {
            "gridcolor": "white",
            "linecolor": "white",
            "ticks": ""
           },
           "bgcolor": "#E5ECF6",
           "radialaxis": {
            "gridcolor": "white",
            "linecolor": "white",
            "ticks": ""
           }
          },
          "scene": {
           "xaxis": {
            "backgroundcolor": "#E5ECF6",
            "gridcolor": "white",
            "gridwidth": 2,
            "linecolor": "white",
            "showbackground": true,
            "ticks": "",
            "zerolinecolor": "white"
           },
           "yaxis": {
            "backgroundcolor": "#E5ECF6",
            "gridcolor": "white",
            "gridwidth": 2,
            "linecolor": "white",
            "showbackground": true,
            "ticks": "",
            "zerolinecolor": "white"
           },
           "zaxis": {
            "backgroundcolor": "#E5ECF6",
            "gridcolor": "white",
            "gridwidth": 2,
            "linecolor": "white",
            "showbackground": true,
            "ticks": "",
            "zerolinecolor": "white"
           }
          },
          "shapedefaults": {
           "line": {
            "color": "#2a3f5f"
           }
          },
          "ternary": {
           "aaxis": {
            "gridcolor": "white",
            "linecolor": "white",
            "ticks": ""
           },
           "baxis": {
            "gridcolor": "white",
            "linecolor": "white",
            "ticks": ""
           },
           "bgcolor": "#E5ECF6",
           "caxis": {
            "gridcolor": "white",
            "linecolor": "white",
            "ticks": ""
           }
          },
          "title": {
           "x": 0.05
          },
          "xaxis": {
           "automargin": true,
           "gridcolor": "white",
           "linecolor": "white",
           "ticks": "",
           "title": {
            "standoff": 15
           },
           "zerolinecolor": "white",
           "zerolinewidth": 2
          },
          "yaxis": {
           "automargin": true,
           "gridcolor": "white",
           "linecolor": "white",
           "ticks": "",
           "title": {
            "standoff": 15
           },
           "zerolinecolor": "white",
           "zerolinewidth": 2
          }
         }
        },
        "title": {
         "text": " Per capita GDP of 2018"
        }
       }
      }
     },
     "metadata": {},
     "output_type": "display_data"
    }
   ],
   "source": [
    "import plotly.express as px\n",
    "df_energy=df_new[df_new['year']==2018].dropna(subset='gdp_capita')\n",
    "df_energy['gdp_capita']=np.log(df_energy['gdp_capita'])\n",
    "df_energy= df_energy.groupby(['country', 'iso_code'])['gdp_capita'].mean().reset_index()\n",
    "fig = px.choropleth(df_energy, \n",
    "                    locations='iso_code',\n",
    "                    color='gdp_capita',\n",
    "                    hover_name='country',\n",
    "                    color_continuous_scale='Greens',\n",
    "                    title=' Per capita GDP of 2018',\n",
    "                    labels={'energy_per_gdp': 'gdp'},\n",
    "                    category_orders={'status': [1, 0]}\n",
    "                    #展示国家名字的参数是hover_name\n",
    "                    ,hover_data=['gdp_capita']\n",
    "                    \n",
    "                    )\n",
    "fig.show()"
   ]
  },
  {
   "cell_type": "code",
   "execution_count": 152,
   "id": "7ae16157",
   "metadata": {},
   "outputs": [
    {
     "name": "stderr",
     "output_type": "stream",
     "text": [
      "d:\\anaconda\\Lib\\site-packages\\seaborn\\_oldcore.py:1498: FutureWarning:\n",
      "\n",
      "is_categorical_dtype is deprecated and will be removed in a future version. Use isinstance(dtype, CategoricalDtype) instead\n",
      "\n",
      "d:\\anaconda\\Lib\\site-packages\\seaborn\\_oldcore.py:1498: FutureWarning:\n",
      "\n",
      "is_categorical_dtype is deprecated and will be removed in a future version. Use isinstance(dtype, CategoricalDtype) instead\n",
      "\n",
      "d:\\anaconda\\Lib\\site-packages\\seaborn\\_oldcore.py:1498: FutureWarning:\n",
      "\n",
      "is_categorical_dtype is deprecated and will be removed in a future version. Use isinstance(dtype, CategoricalDtype) instead\n",
      "\n"
     ]
    },
    {
     "data": {
      "text/plain": [
       "<Axes: xlabel='status', ylabel='co2_per_unit_energy'>"
      ]
     },
     "execution_count": 152,
     "metadata": {},
     "output_type": "execute_result"
    },
    {
     "data": {
      "image/png": "[encoded data removed]",
      "text/plain": [
       "<Figure size 640x480 with 1 Axes>"
      ]
     },
     "metadata": {},
     "output_type": "display_data"
    }
   ],
   "source": [
    "\n",
    "df_2020=df_new[df_new['year']==2018].dropna(subset='co2_per_unit_energy')\n",
    "df_2020=df_2020.groupby(by='status')['co2_per_unit_energy'].agg('mean')\n",
    "df_2020=df_2020.to_frame()\n",
    "df_2020.reset_index(drop=True)\n",
    "sns.barplot(df_2020,x=df_2020.index,y='co2_per_unit_energy')\n"
   ]
  },
  {
   "cell_type": "markdown",
   "id": "3a69712f",
   "metadata": {},
   "source": [
    "## 观点二：影响越大，责任越大\n",
    "谁应该负责？对环境影响较大的国家应该承担更多的责任。  \n",
    "根据IPAT环境影响方程，`I=P*A*T`  \n",
    "式中：I为环境压力；P为人口数量；A为富裕程度，此处用人均国民生产总值表示；T为技术进步程度，此处用单位能源co2排放表示。\n",
    "根据该公式计算IPAT值并取log用于分析。  \n",
    "图一是由以上公式得到的IPAT（log）值，由图一可知，除中、印两个人口大国外，欧洲、北美等发达国家较多的地方颜色显著较深，对环境影响较大。  \n",
    "图二是发达国家和发展中国家分别的人均温室气体排放量，其中0代表发展中国家，1代表发达国家，可见发达国家人均温室气体排放量高于发展中国家，对环境的影响较大。  \n",
    "图三是由gdp和人均温室气体排放得到的散点图，用来印证图二的结果，由图可见，除一个国家外，发达国家排量均在上半部分，从而印证了图二发达国家对环境影响较大的结论。\n",
    "图四是发达国家和发展中国家人人均碳排放均值的占比，可见发达国家远高于发展中国家。\n"
   ]
  },
  {
   "cell_type": "code",
   "execution_count": 153,
   "id": "462a7115",
   "metadata": {},
   "outputs": [
    {
     "data": {
      "application/vnd.plotly.v1+json": {
       "config": {
        "plotlyServerURL": "https://plot.ly"
       },
       "data": [
        {
         "coloraxis": "coloraxis",
         "geo": "geo",
         "hovertemplate": "<b>%{hovertext}</b><br><br>iso_code=%{location}<br>IPAT(log)=%{z}<extra></extra>",
         "hovertext": [
          "Afghanistan",
          "Albania",
          "Algeria",
          "Angola",
          "Argentina",
          "Armenia",
          "Australia",
          "Austria",
          "Azerbaijan",
          "Bahrain",
          "Bangladesh",
          "Barbados",
          "Belarus",
          "Belgium",
          "Benin",
          "Bolivia",
          "Bosnia and Herzegovina",
          "Botswana",
          "Brazil",
          "Bulgaria",
          "Burkina Faso",
          "Burundi",
          "Cambodia",
          "Cameroon",
          "Canada",
          "Cape Verde",
          "Central African Republic",
          "Chad",
          "Chile",
          "China",
          "Colombia",
          "Comoros",
          "Congo",
          "Costa Rica",
          "Croatia",
          "Cuba",
          "Cyprus",
          "Czechia",
          "Democratic Republic of Congo",
          "Denmark",
          "Djibouti",
          "Dominica",
          "Dominican Republic",
          "Ecuador",
          "Egypt",
          "El Salvador",
          "Equatorial Guinea",
          "Estonia",
          "Eswatini",
          "Ethiopia",
          "Finland",
          "France",
          "Gabon",
          "Gambia",
          "Georgia",
          "Germany",
          "Ghana",
          "Greece",
          "Guatemala",
          "Guinea",
          "Guinea-Bissau",
          "Haiti",
          "Honduras",
          "Hong Kong",
          "Hungary",
          "Iceland",
          "India",
          "Indonesia",
          "Iran",
          "Iraq",
          "Ireland",
          "Israel",
          "Italy",
          "Jamaica",
          "Japan",
          "Jordan",
          "Kazakhstan",
          "Kenya",
          "Kuwait",
          "Kyrgyzstan",
          "Laos",
          "Latvia",
          "Lebanon",
          "Lesotho",
          "Liberia",
          "Libya",
          "Lithuania",
          "Luxembourg",
          "Madagascar",
          "Malawi",
          "Malaysia",
          "Mali",
          "Malta",
          "Mauritania",
          "Mauritius",
          "Mexico",
          "Moldova",
          "Mongolia",
          "Montenegro",
          "Morocco",
          "Mozambique",
          "Namibia",
          "Nepal",
          "Netherlands",
          "New Zealand",
          "Nicaragua",
          "Niger",
          "Nigeria",
          "North Korea",
          "North Macedonia",
          "Norway",
          "Oman",
          "Pakistan",
          "Palestine",
          "Panama",
          "Paraguay",
          "Peru",
          "Philippines",
          "Poland",
          "Portugal",
          "Qatar",
          "Romania",
          "Russia",
          "Rwanda",
          "Saint Lucia",
          "Sao Tome and Principe",
          "Saudi Arabia",
          "Senegal",
          "Serbia",
          "Seychelles",
          "Sierra Leone",
          "Singapore",
          "Slovakia",
          "Slovenia",
          "South Africa",
          "South Korea",
          "Spain",
          "Sri Lanka",
          "Sudan",
          "Sweden",
          "Switzerland",
          "Syria",
          "Taiwan",
          "Tajikistan",
          "Tanzania",
          "Thailand",
          "Togo",
          "Trinidad and Tobago",
          "Tunisia",
          "Turkey",
          "Turkmenistan",
          "Uganda",
          "Ukraine",
          "United Arab Emirates",
          "United Kingdom",
          "United States",
          "Uruguay",
          "Uzbekistan",
          "Venezuela",
          "Vietnam",
          "Yemen",
          "Zambia",
          "Zimbabwe"
         ],
         "locations": [
          "AFG",
          "ALB",
          "DZA",
          "AGO",
          "ARG",
          "ARM",
          "AUS",
          "AUT",
          "AZE",
          "BHR",
          "BGD",
          "BRB",
          "BLR",
          "BEL",
          "BEN",
          "BOL",
          "BIH",
          "BWA",
          "BRA",
          "BGR",
          "BFA",
          "BDI",
          "KHM",
          "CMR",
          "CAN",
          "CPV",
          "CAF",
          "TCD",
          "CHL",
          "CHN",
          "COL",
          "COM",
          "COG",
          "CRI",
          "HRV",
          "CUB",
          "CYP",
          "CZE",
          "COD",
          "DNK",
          "DJI",
          "DMA",
          "DOM",
          "ECU",
          "EGY",
          "SLV",
          "GNQ",
          "EST",
          "SWZ",
          "ETH",
          "FIN",
          "FRA",
          "GAB",
          "GMB",
          "GEO",
          "DEU",
          "GHA",
          "GRC",
          "GTM",
          "GIN",
          "GNB",
          "HTI",
          "HND",
          "HKG",
          "HUN",
          "ISL",
          "IND",
          "IDN",
          "IRN",
          "IRQ",
          "IRL",
          "ISR",
          "ITA",
          "JAM",
          "JPN",
          "JOR",
          "KAZ",
          "KEN",
          "KWT",
          "KGZ",
          "LAO",
          "LVA",
          "LBN",
          "LSO",
          "LBR",
          "LBY",
          "LTU",
          "LUX",
          "MDG",
          "MWI",
          "MYS",
          "MLI",
          "MLT",
          "MRT",
          "MUS",
          "MEX",
          "MDA",
          "MNG",
          "MNE",
          "MAR",
          "MOZ",
          "NAM",
          "NPL",
          "NLD",
          "NZL",
          "NIC",
          "NER",
          "NGA",
          "PRK",
          "MKD",
          "NOR",
          "OMN",
          "PAK",
          "PSE",
          "PAN",
          "PRY",
          "PER",
          "PHL",
          "POL",
          "PRT",
          "QAT",
          "ROU",
          "RUS",
          "RWA",
          "LCA",
          "STP",
          "SAU",
          "SEN",
          "SRB",
          "SYC",
          "SLE",
          "SGP",
          "SVK",
          "SVN",
          "ZAF",
          "KOR",
          "ESP",
          "LKA",
          "SDN",
          "SWE",
          "CHE",
          "SYR",
          "TWN",
          "TJK",
          "TZA",
          "THA",
          "TGO",
          "TTO",
          "TUN",
          "TUR",
          "TKM",
          "UGA",
          "UKR",
          "ARE",
          "GBR",
          "USA",
          "URY",
          "UZB",
          "VEN",
          "VNM",
          "YEM",
          "ZMB",
          "ZWE"
         ],
         "name": "",
         "type": "choropleth",
         "z": [
          23.43584006120635,
          22.12925676402494,
          25.617124573717,
          24.684538957893004,
          25.820910377474473,
          22.100599294043658,
          26.376463923776154,
          24.846293996523496,
          24.290637100622398,
          22.910580657256553,
          25.42307875277092,
          20.268257779597217,
          24.34943038612353,
          24.89461667076321,
          22.408124588007915,
          23.560951192636047,
          22.898968527199358,
          22.825429655265822,
          26.95812893091907,
          23.982015930584655,
          22.51636543567566,
          21.365737133534395,
          23.101323385284438,
          23.13860176577425,
          26.161692868015948,
          19.935861575478796,
          19.39143056977835,
          23.523286195584674,
          25.055662437984218,
          29.18477393571065,
          25.500375707441343,
          19.564663107326666,
          22.00156977164332,
          22.808095597135637,
          23.46835908847548,
          23.714243341983128,
          22.509495102427305,
          24.919709602523966,
          22.38388207370083,
          24.55009304531269,
          19.45910828404562,
          18.80046197366184,
          24.22782814440081,
          24.36268978059715,
          26.182928284301347,
          22.88140221100649,
          23.648433888839158,
          22.68556988398923,
          21.164099694579125,
          23.965799436706078,
          24.050259364935282,
          26.408097881083588,
          22.91312672826904,
          20.49304183832093,
          22.661671192292854,
          27.39012809564536,
          23.70808078920907,
          24.781950060353772,
          23.85269176495976,
          21.81524784580747,
          19.809437687759996,
          22.064188324777945,
          22.821475159280748,
          24.520533443796015,
          24.437789426419066,
          20.485270673439683,
          28.354564806007726,
          27.33269054896406,
          26.37481689310368,
          25.86547909613603,
          24.767608060612474,
          24.7404645249518,
          26.740569753501852,
          22.142569630781338,
          27.714460902375254,
          23.86069743504477,
          25.829780966744075,
          23.99893525578255,
          24.762720117054347,
          22.10994193385592,
          22.308374911895953,
          22.74680058564267,
          23.98337603826335,
          21.68986247510088,
          20.675021888573966,
          23.476449958880007,
          23.40162644383048,
          22.664960763214044,
          22.56621307018388,
          21.95748104987201,
          25.665323994554516,
          22.315220473036874,
          20.4953914980519,
          21.867683726115683,
          22.20911043359801,
          26.78543890963151,
          21.667983643278383,
          23.45034530546409,
          21.366563990443524,
          25.019864803537786,
          21.39660874174016,
          22.199036752100607,
          23.638112101264703,
          25.572894281305285,
          23.83421741816838,
          22.436780355899625,
          22.046568487935524,
          26.358065797204883,
          23.113877628527025,
          22.560028812532018,
          24.34338595480192,
          24.12181939344743,
          26.099841920803044,
          22.235329043427917,
          22.74856807767496,
          21.381426403321314,
          24.82389986229759,
          25.977560571561163,
          26.297490666508285,
          24.572152665492485,
          24.80499428293141,
          25.056805630193868,
          27.302962283158386,
          21.982178681738862,
          19.88921938750063,
          18.682898613089197,
          26.61840536947941,
          23.076110150299392,
          23.79690217891872,
          19.33908476126504,
          21.31161894805425,
          23.940671061011127,
          23.95391369868995,
          23.02515168085579,
          26.0775177854242,
          26.573325937257074,
          26.286138220356722,
          24.737808065380637,
          24.165868403040523,
          24.152894395027754,
          24.800927273164767,
          23.176324413832447,
          26.028153650752884,
          21.620150321933195,
          23.871742802389683,
          26.005989856733827,
          21.399157798807995,
          22.75367962061991,
          24.1925404710443,
          26.697283060850587,
          23.943192629354705,
          23.261838621891354,
          25.22724418403512,
          25.51348395977448,
          26.8417300161001,
          28.897840823913647,
          22.59245127312016,
          24.72654450462922,
          25.424727793548172,
          25.594971881882266,
          23.355392265531652,
          22.407450802196678,
          22.25496709132317
         ]
        }
       ],
       "layout": {
        "coloraxis": {
         "colorbar": {
          "title": {
           "text": "IPAT(log)"
          }
         },
         "colorscale": [
          [
           0,
           "rgb(255,245,240)"
          ],
          [
           0.125,
           "rgb(254,224,210)"
          ],
          [
           0.25,
           "rgb(252,187,161)"
          ],
          [
           0.375,
           "rgb(252,146,114)"
          ],
          [
           0.5,
           "rgb(251,106,74)"
          ],
          [
           0.625,
           "rgb(239,59,44)"
          ],
          [
           0.75,
           "rgb(203,24,29)"
          ],
          [
           0.875,
           "rgb(165,15,21)"
          ],
          [
           1,
           "rgb(103,0,13)"
          ]
         ]
        },
        "geo": {
         "center": {},
         "domain": {
          "x": [
           0,
           1
          ],
          "y": [
           0,
           1
          ]
         }
        },
        "legend": {
         "tracegroupgap": 0
        },
        "template": {
         "data": {
          "bar": [
           {
            "error_x": {
             "color": "#2a3f5f"
            },
            "error_y": {
             "color": "#2a3f5f"
            },
            "marker": {
             "line": {
              "color": "#E5ECF6",
              "width": 0.5
             },
             "pattern": {
              "fillmode": "overlay",
              "size": 10,
              "solidity": 0.2
             }
            },
            "type": "bar"
           }
          ],
          "barpolar": [
           {
            "marker": {
             "line": {
              "color": "#E5ECF6",
              "width": 0.5
             },
             "pattern": {
              "fillmode": "overlay",
              "size": 10,
              "solidity": 0.2
             }
            },
            "type": "barpolar"
           }
          ],
          "carpet": [
           {
            "aaxis": {
             "endlinecolor": "#2a3f5f",
             "gridcolor": "white",
             "linecolor": "white",
             "minorgridcolor": "white",
             "startlinecolor": "#2a3f5f"
            },
            "baxis": {
             "endlinecolor": "#2a3f5f",
             "gridcolor": "white",
             "linecolor": "white",
             "minorgridcolor": "white",
             "startlinecolor": "#2a3f5f"
            },
            "type": "carpet"
           }
          ],
          "choropleth": [
           {
            "colorbar": {
             "outlinewidth": 0,
             "ticks": ""
            },
            "type": "choropleth"
           }
          ],
          "contour": [
           {
            "colorbar": {
             "outlinewidth": 0,
             "ticks": ""
            },
            "colorscale": [
             [
              0,
              "#0d0887"
             ],
             [
              0.1111111111111111,
              "#46039f"
             ],
             [
              0.2222222222222222,
              "#7201a8"
             ],
             [
              0.3333333333333333,
              "#9c179e"
             ],
             [
              0.4444444444444444,
              "#bd3786"
             ],
             [
              0.5555555555555556,
              "#d8576b"
             ],
             [
              0.6666666666666666,
              "#ed7953"
             ],
             [
              0.7777777777777778,
              "#fb9f3a"
             ],
             [
              0.8888888888888888,
              "#fdca26"
             ],
             [
              1,
              "#f0f921"
             ]
            ],
            "type": "contour"
           }
          ],
          "contourcarpet": [
           {
            "colorbar": {
             "outlinewidth": 0,
             "ticks": ""
            },
            "type": "contourcarpet"
           }
          ],
          "heatmap": [
           {
            "colorbar": {
             "outlinewidth": 0,
             "ticks": ""
            },
            "colorscale": [
             [
              0,
              "#0d0887"
             ],
             [
              0.1111111111111111,
              "#46039f"
             ],
             [
              0.2222222222222222,
              "#7201a8"
             ],
             [
              0.3333333333333333,
              "#9c179e"
             ],
             [
              0.4444444444444444,
              "#bd3786"
             ],
             [
              0.5555555555555556,
              "#d8576b"
             ],
             [
              0.6666666666666666,
              "#ed7953"
             ],
             [
              0.7777777777777778,
              "#fb9f3a"
             ],
             [
              0.8888888888888888,
              "#fdca26"
             ],
             [
              1,
              "#f0f921"
             ]
            ],
            "type": "heatmap"
           }
          ],
          "heatmapgl": [
           {
            "colorbar": {
             "outlinewidth": 0,
             "ticks": ""
            },
            "colorscale": [
             [
              0,
              "#0d0887"
             ],
             [
              0.1111111111111111,
              "#46039f"
             ],
             [
              0.2222222222222222,
              "#7201a8"
             ],
             [
              0.3333333333333333,
              "#9c179e"
             ],
             [
              0.4444444444444444,
              "#bd3786"
             ],
             [
              0.5555555555555556,
              "#d8576b"
             ],
             [
              0.6666666666666666,
              "#ed7953"
             ],
             [
              0.7777777777777778,
              "#fb9f3a"
             ],
             [
              0.8888888888888888,
              "#fdca26"
             ],
             [
              1,
              "#f0f921"
             ]
            ],
            "type": "heatmapgl"
           }
          ],
          "histogram": [
           {
            "marker": {
             "pattern": {
              "fillmode": "overlay",
              "size": 10,
              "solidity": 0.2
             }
            },
            "type": "histogram"
           }
          ],
          "histogram2d": [
           {
            "colorbar": {
             "outlinewidth": 0,
             "ticks": ""
            },
            "colorscale": [
             [
              0,
              "#0d0887"
             ],
             [
              0.1111111111111111,
              "#46039f"
             ],
             [
              0.2222222222222222,
              "#7201a8"
             ],
             [
              0.3333333333333333,
              "#9c179e"
             ],
             [
              0.4444444444444444,
              "#bd3786"
             ],
             [
              0.5555555555555556,
              "#d8576b"
             ],
             [
              0.6666666666666666,
              "#ed7953"
             ],
             [
              0.7777777777777778,
              "#fb9f3a"
             ],
             [
              0.8888888888888888,
              "#fdca26"
             ],
             [
              1,
              "#f0f921"
             ]
            ],
            "type": "histogram2d"
           }
          ],
          "histogram2dcontour": [
           {
            "colorbar": {
             "outlinewidth": 0,
             "ticks": ""
            },
            "colorscale": [
             [
              0,
              "#0d0887"
             ],
             [
              0.1111111111111111,
              "#46039f"
             ],
             [
              0.2222222222222222,
              "#7201a8"
             ],
             [
              0.3333333333333333,
              "#9c179e"
             ],
             [
              0.4444444444444444,
              "#bd3786"
             ],
             [
              0.5555555555555556,
              "#d8576b"
             ],
             [
              0.6666666666666666,
              "#ed7953"
             ],
             [
              0.7777777777777778,
              "#fb9f3a"
             ],
             [
              0.8888888888888888,
              "#fdca26"
             ],
             [
              1,
              "#f0f921"
             ]
            ],
            "type": "histogram2dcontour"
           }
          ],
          "mesh3d": [
           {
            "colorbar": {
             "outlinewidth": 0,
             "ticks": ""
            },
            "type": "mesh3d"
           }
          ],
          "parcoords": [
           {
            "line": {
             "colorbar": {
              "outlinewidth": 0,
              "ticks": ""
             }
            },
            "type": "parcoords"
           }
          ],
          "pie": [
           {
            "automargin": true,
            "type": "pie"
           }
          ],
          "scatter": [
           {
            "fillpattern": {
             "fillmode": "overlay",
             "size": 10,
             "solidity": 0.2
            },
            "type": "scatter"
           }
          ],
          "scatter3d": [
           {
            "line": {
             "colorbar": {
              "outlinewidth": 0,
              "ticks": ""
             }
            },
            "marker": {
             "colorbar": {
              "outlinewidth": 0,
              "ticks": ""
             }
            },
            "type": "scatter3d"
           }
          ],
          "scattercarpet": [
           {
            "marker": {
             "colorbar": {
              "outlinewidth": 0,
              "ticks": ""
             }
            },
            "type": "scattercarpet"
           }
          ],
          "scattergeo": [
           {
            "marker": {
             "colorbar": {
              "outlinewidth": 0,
              "ticks": ""
             }
            },
            "type": "scattergeo"
           }
          ],
          "scattergl": [
           {
            "marker": {
             "colorbar": {
              "outlinewidth": 0,
              "ticks": ""
             }
            },
            "type": "scattergl"
           }
          ],
          "scattermapbox": [
           {
            "marker": {
             "colorbar": {
              "outlinewidth": 0,
              "ticks": ""
             }
            },
            "type": "scattermapbox"
           }
          ],
          "scatterpolar": [
           {
            "marker": {
             "colorbar": {
              "outlinewidth": 0,
              "ticks": ""
             }
            },
            "type": "scatterpolar"
           }
          ],
          "scatterpolargl": [
           {
            "marker": {
             "colorbar": {
              "outlinewidth": 0,
              "ticks": ""
             }
            },
            "type": "scatterpolargl"
           }
          ],
          "scatterternary": [
           {
            "marker": {
             "colorbar": {
              "outlinewidth": 0,
              "ticks": ""
             }
            },
            "type": "scatterternary"
           }
          ],
          "surface": [
           {
            "colorbar": {
             "outlinewidth": 0,
             "ticks": ""
            },
            "colorscale": [
             [
              0,
              "#0d0887"
             ],
             [
              0.1111111111111111,
              "#46039f"
             ],
             [
              0.2222222222222222,
              "#7201a8"
             ],
             [
              0.3333333333333333,
              "#9c179e"
             ],
             [
              0.4444444444444444,
              "#bd3786"
             ],
             [
              0.5555555555555556,
              "#d8576b"
             ],
             [
              0.6666666666666666,
              "#ed7953"
             ],
             [
              0.7777777777777778,
              "#fb9f3a"
             ],
             [
              0.8888888888888888,
              "#fdca26"
             ],
             [
              1,
              "#f0f921"
             ]
            ],
            "type": "surface"
           }
          ],
          "table": [
           {
            "cells": {
             "fill": {
              "color": "#EBF0F8"
             },
             "line": {
              "color": "white"
             }
            },
            "header": {
             "fill": {
              "color": "#C8D4E3"
             },
             "line": {
              "color": "white"
             }
            },
            "type": "table"
           }
          ]
         },
         "layout": {
          "annotationdefaults": {
           "arrowcolor": "#2a3f5f",
           "arrowhead": 0,
           "arrowwidth": 1
          },
          "autotypenumbers": "strict",
          "coloraxis": {
           "colorbar": {
            "outlinewidth": 0,
            "ticks": ""
           }
          },
          "colorscale": {
           "diverging": [
            [
             0,
             "#8e0152"
            ],
            [
             0.1,
             "#c51b7d"
            ],
            [
             0.2,
             "#de77ae"
            ],
            [
             0.3,
             "#f1b6da"
            ],
            [
             0.4,
             "#fde0ef"
            ],
            [
             0.5,
             "#f7f7f7"
            ],
            [
             0.6,
             "#e6f5d0"
            ],
            [
             0.7,
             "#b8e186"
            ],
            [
             0.8,
             "#7fbc41"
            ],
            [
             0.9,
             "#4d9221"
            ],
            [
             1,
             "#276419"
            ]
           ],
           "sequential": [
            [
             0,
             "#0d0887"
            ],
            [
             0.1111111111111111,
             "#46039f"
            ],
            [
             0.2222222222222222,
             "#7201a8"
            ],
            [
             0.3333333333333333,
             "#9c179e"
            ],
            [
             0.4444444444444444,
             "#bd3786"
            ],
            [
             0.5555555555555556,
             "#d8576b"
            ],
            [
             0.6666666666666666,
             "#ed7953"
            ],
            [
             0.7777777777777778,
             "#fb9f3a"
            ],
            [
             0.8888888888888888,
             "#fdca26"
            ],
            [
             1,
             "#f0f921"
            ]
           ],
           "sequentialminus": [
            [
             0,
             "#0d0887"
            ],
            [
             0.1111111111111111,
             "#46039f"
            ],
            [
             0.2222222222222222,
             "#7201a8"
            ],
            [
             0.3333333333333333,
             "#9c179e"
            ],
            [
             0.4444444444444444,
             "#bd3786"
            ],
            [
             0.5555555555555556,
             "#d8576b"
            ],
            [
             0.6666666666666666,
             "#ed7953"
            ],
            [
             0.7777777777777778,
             "#fb9f3a"
            ],
            [
             0.8888888888888888,
             "#fdca26"
            ],
            [
             1,
             "#f0f921"
            ]
           ]
          },
          "colorway": [
           "#636efa",
           "#EF553B",
           "#00cc96",
           "#ab63fa",
           "#FFA15A",
           "#19d3f3",
           "#FF6692",
           "#B6E880",
           "#FF97FF",
           "#FECB52"
          ],
          "font": {
           "color": "#2a3f5f"
          },
          "geo": {
           "bgcolor": "white",
           "lakecolor": "white",
           "landcolor": "#E5ECF6",
           "showlakes": true,
           "showland": true,
           "subunitcolor": "white"
          },
          "hoverlabel": {
           "align": "left"
          },
          "hovermode": "closest",
          "mapbox": {
           "style": "light"
          },
          "paper_bgcolor": "white",
          "plot_bgcolor": "#E5ECF6",
          "polar": {
           "angularaxis": {
            "gridcolor": "white",
            "linecolor": "white",
            "ticks": ""
           },
           "bgcolor": "#E5ECF6",
           "radialaxis": {
            "gridcolor": "white",
            "linecolor": "white",
            "ticks": ""
           }
          },
          "scene": {
           "xaxis": {
            "backgroundcolor": "#E5ECF6",
            "gridcolor": "white",
            "gridwidth": 2,
            "linecolor": "white",
            "showbackground": true,
            "ticks": "",
            "zerolinecolor": "white"
           },
           "yaxis": {
            "backgroundcolor": "#E5ECF6",
            "gridcolor": "white",
            "gridwidth": 2,
            "linecolor": "white",
            "showbackground": true,
            "ticks": "",
            "zerolinecolor": "white"
           },
           "zaxis": {
            "backgroundcolor": "#E5ECF6",
            "gridcolor": "white",
            "gridwidth": 2,
            "linecolor": "white",
            "showbackground": true,
            "ticks": "",
            "zerolinecolor": "white"
           }
          },
          "shapedefaults": {
           "line": {
            "color": "#2a3f5f"
           }
          },
          "ternary": {
           "aaxis": {
            "gridcolor": "white",
            "linecolor": "white",
            "ticks": ""
           },
           "baxis": {
            "gridcolor": "white",
            "linecolor": "white",
            "ticks": ""
           },
           "bgcolor": "#E5ECF6",
           "caxis": {
            "gridcolor": "white",
            "linecolor": "white",
            "ticks": ""
           }
          },
          "title": {
           "x": 0.05
          },
          "xaxis": {
           "automargin": true,
           "gridcolor": "white",
           "linecolor": "white",
           "ticks": "",
           "title": {
            "standoff": 15
           },
           "zerolinecolor": "white",
           "zerolinewidth": 2
          },
          "yaxis": {
           "automargin": true,
           "gridcolor": "white",
           "linecolor": "white",
           "ticks": "",
           "title": {
            "standoff": 15
           },
           "zerolinecolor": "white",
           "zerolinewidth": 2
          }
         }
        },
        "title": {
         "text": "Average IPAT(log) of the World"
        }
       }
      }
     },
     "metadata": {},
     "output_type": "display_data"
    }
   ],
   "source": [
    "import plotly.express as px\n",
    "df_ipat=df_new.copy()\n",
    "df_ipat['IPAT(log)']=np.log((df_ipat['gdp']*df_ipat['co2_per_unit_energy']))\n",
    "df_ipat['gdp(log)']=np.log(df_ipat['gdp_capita'])\n",
    "df_ipat=df_ipat.dropna(subset='IPAT(log)')\n",
    "df_ipat=df_ipat[df_ipat['year']==2015].dropna(subset='IPAT(log)')\n",
    "df_ipat= df_ipat.groupby(['country', 'iso_code'])['IPAT(log)'].mean().reset_index()\n",
    "fig = px.choropleth(df_ipat, \n",
    "                    locations='iso_code',\n",
    "                    color='IPAT(log)',\n",
    "                    hover_name='country',\n",
    "                    color_continuous_scale='Reds',\n",
    "                    title='Average IPAT(log) of the World',\n",
    "                    labels={'co2_per_unit_energy': 'co2 per unit energy'},\n",
    "                    category_orders={'status': [1, 0]})\n",
    "fig.show()"
   ]
  },
  {
   "cell_type": "code",
   "execution_count": 154,
   "id": "c17719da",
   "metadata": {},
   "outputs": [
    {
     "name": "stderr",
     "output_type": "stream",
     "text": [
      "d:\\anaconda\\Lib\\site-packages\\seaborn\\_oldcore.py:1498: FutureWarning:\n",
      "\n",
      "is_categorical_dtype is deprecated and will be removed in a future version. Use isinstance(dtype, CategoricalDtype) instead\n",
      "\n",
      "d:\\anaconda\\Lib\\site-packages\\seaborn\\_oldcore.py:1498: FutureWarning:\n",
      "\n",
      "is_categorical_dtype is deprecated and will be removed in a future version. Use isinstance(dtype, CategoricalDtype) instead\n",
      "\n",
      "d:\\anaconda\\Lib\\site-packages\\seaborn\\_oldcore.py:1498: FutureWarning:\n",
      "\n",
      "is_categorical_dtype is deprecated and will be removed in a future version. Use isinstance(dtype, CategoricalDtype) instead\n",
      "\n"
     ]
    },
    {
     "data": {
      "text/plain": [
       "<Axes: xlabel='status', ylabel='ghg_per_capita'>"
      ]
     },
     "execution_count": 154,
     "metadata": {},
     "output_type": "execute_result"
    },
    {
     "data": {
      "image/png": "[encoded data removed]",
      "text/plain": [
       "<Figure size 640x480 with 1 Axes>"
      ]
     },
     "metadata": {},
     "output_type": "display_data"
    }
   ],
   "source": [
    "df_2015=df_new[df_new['year']==2015]\n",
    "df_2015.dropna(subset='ghg_per_capita')\n",
    "df_2015=df_2015.groupby(by='status')['ghg_per_capita'].agg('mean')\n",
    "df_2015=df_2015.to_frame()\n",
    "df_2015.reset_index(drop=True)\n",
    "sns.barplot(df_2015,x=df_2015.index,y='ghg_per_capita')\n"
   ]
  },
  {
   "cell_type": "code",
   "execution_count": 155,
   "id": "785ef94c",
   "metadata": {},
   "outputs": [
    {
     "name": "stderr",
     "output_type": "stream",
     "text": [
      "d:\\anaconda\\Lib\\site-packages\\pandas\\core\\arraylike.py:396: RuntimeWarning:\n",
      "\n",
      "invalid value encountered in log\n",
      "\n",
      "d:\\anaconda\\Lib\\site-packages\\seaborn\\_oldcore.py:1498: FutureWarning:\n",
      "\n",
      "is_categorical_dtype is deprecated and will be removed in a future version. Use isinstance(dtype, CategoricalDtype) instead\n",
      "\n",
      "d:\\anaconda\\Lib\\site-packages\\seaborn\\_oldcore.py:1498: FutureWarning:\n",
      "\n",
      "is_categorical_dtype is deprecated and will be removed in a future version. Use isinstance(dtype, CategoricalDtype) instead\n",
      "\n",
      "d:\\anaconda\\Lib\\site-packages\\seaborn\\_oldcore.py:1498: FutureWarning:\n",
      "\n",
      "is_categorical_dtype is deprecated and will be removed in a future version. Use isinstance(dtype, CategoricalDtype) instead\n",
      "\n",
      "d:\\anaconda\\Lib\\site-packages\\seaborn\\_oldcore.py:1498: FutureWarning:\n",
      "\n",
      "is_categorical_dtype is deprecated and will be removed in a future version. Use isinstance(dtype, CategoricalDtype) instead\n",
      "\n",
      "d:\\anaconda\\Lib\\site-packages\\seaborn\\_oldcore.py:1498: FutureWarning:\n",
      "\n",
      "is_categorical_dtype is deprecated and will be removed in a future version. Use isinstance(dtype, CategoricalDtype) instead\n",
      "\n"
     ]
    },
    {
     "data": {
      "text/plain": [
       "<Axes: xlabel='gdp_capita', ylabel='ghg_per_capita'>"
      ]
     },
     "execution_count": 155,
     "metadata": {},
     "output_type": "execute_result"
    },
    {
     "data": {
      "image/png": "[encoded data removed]",
      "text/plain": [
       "<Figure size 640x480 with 1 Axes>"
      ]
     },
     "metadata": {},
     "output_type": "display_data"
    }
   ],
   "source": [
    "data_20=df_new[df_new['year']==2015].copy()\n",
    "data_20['gdp_capita']=np.log(data_20['gdp_capita'])\n",
    "data_20['ghg_per_capita']=np.log(data_20['ghg_per_capita'])\n",
    "plt.axvline(10).set_color('gray')\n",
    "plt.axhline(1).set_color('gray')\n",
    "sns.scatterplot(data_20,x='gdp_capita',y='ghg_per_capita',hue='status')\n"
   ]
  },
  {
   "cell_type": "code",
   "execution_count": 156,
   "id": "5fc58b7a",
   "metadata": {},
   "outputs": [
    {
     "data": {
      "text/plain": [
       "<Axes: title={'center': 'co2_per_capita counts'}, ylabel='co2_per_capita'>"
      ]
     },
     "execution_count": 156,
     "metadata": {},
     "output_type": "execute_result"
    },
    {
     "data": {
      "image/png": "[encoded data removed]",
      "text/plain": [
       "<Figure size 640x480 with 1 Axes>"
      ]
     },
     "metadata": {},
     "output_type": "display_data"
    }
   ],
   "source": [
    "data_pie=df_new[df_new['year']==2020].copy()\n",
    "data_pie=data_pie.groupby(by=['status'])['co2_per_capita'].agg('mean').reset_index(drop=True)\n",
    "data_pie.plot(kind='pie',autopct='%1.1f%%',title='co2_per_capita counts')"
   ]
  }
 ],
 "metadata": {
  "kernelspec": {
   "display_name": "Python 3",
   "language": "python",
   "name": "python3"
  },
  "language_info": {
   "codemirror_mode": {
    "name": "ipython",
    "version": 3
   },
   "file_extension": ".py",
   "mimetype": "text/x-python",
   "name": "python",
   "nbconvert_exporter": "python",
   "pygments_lexer": "ipython3",
   "version": "3.11.4"
  }
 },
 "nbformat": 4,
 "nbformat_minor": 5
}
