{
 "cells": [
  {
   "cell_type": "code",
   "execution_count": 1,
   "metadata": {
    "deletable": false,
    "editable": false
   },
   "outputs": [],
   "source": [
    "# Initialize Otter\n",
    "import otter\n",
    "grader = otter.Notebook(\"0000000000.ipynb\")"
   ]
  },
  {
   "attachments": {},
   "cell_type": "markdown",
   "metadata": {},
   "source": [
    "# 1 用户存款行为预测"
   ]
  },
  {
   "cell_type": "markdown",
   "metadata": {},
   "source": [
    "### 数据集\n",
    "\n",
    "银行营销数据集"
   ]
  },
  {
   "cell_type": "markdown",
   "metadata": {},
   "source": [
    "#### 背景介绍\n",
    "\n",
    "金融机构为了在下一次营销活动寻找最佳的改进策略，探寻如何在未来的营销活动中发挥更大的效力。为了解决这个问题，数据分析师必须分析该银行最近开展的营销活动，通过之前活动的情况预测用户是否会参加之后的营销活动。\n",
    "\n",
    "#### 特征介绍\n",
    "\n",
    "##### 个人信息相关\n",
    "1 - age : 年龄 (数值列)\n",
    "\n",
    "2 - job : 职业的种类(类别列: 'admin.','blue-collar','entrepreneur','housemaid','management','retired','self-employed','services','student','technician','unemployed','unknown')\n",
    "\n",
    "3 - marital : 婚姻状况 (类别列: 'divorced','married','single','unknown')\n",
    "\n",
    "4 - education : 受教育情况(类别列: \n",
    "'basic.4y','basic.6y','basic.9y','high.school','illiterate','professional.course','university.degree','unknown')\n",
    "\n",
    "5 - default: 是否信用违约 (类别列: 'no','yes','unknown')\n",
    "\n",
    "6 - balance: 余额 (数值列)\n",
    "\n",
    "7 - housing: 是否有住房贷款(类别列: 'no','yes','unknown')\n",
    "\n",
    "8 - loan: 是否有个人贷款? (类别列: 'no','yes','unknown')\n",
    "\n",
    "\n",
    "\n",
    "##### 与当前营销活动的最后一次联系：\n",
    "9 - contact: 联系人通信类型 (类别列: 'cellular','telephone')\n",
    "\n",
    "10 - month: 最后一次联系的月份 (类别列: 'jan', 'feb', 'mar', ..., 'nov', 'dec')\n",
    "\n",
    "11 - day: 最后一次联系在星期几？ (类别列: 'mon','tue','wed','thu','fri')\n",
    "\n",
    "12 - duration: 最后一次联系的时长, 单位秒 (数值列). \n",
    "\n",
    "##### 其他的一些特征：\n",
    "13 - campaign: 此活动期间和此客户的联系人数 (数值列)\n",
    "\n",
    "14 - pdays: 上次活动中联系客户后经过的天数 (数值列; 999 表示近期无联系)\n",
    "\n",
    "15 - previous: 此活动之前和此客户端执行的联系人数 (数值列)\n",
    "\n",
    "16 - poutcome: 上一次营销活动的结果 (类别列: 'failure','nonexistent','success')"
   ]
  },
  {
   "cell_type": "markdown",
   "metadata": {},
   "source": [
    "\n",
    "\n",
    "\n",
    "### 目标\n",
    "\n",
    "##### 预测定期存款额度\n",
    "\n",
    "17 - deposit: 是否会存款 (类别列: 'yes','no')\n",
    "\n",
    "\n",
    "- 数据来源：https://www.kaggle.com/datasets/janiobachmann/bank-marketing-dataset"
   ]
  },
  {
   "cell_type": "markdown",
   "metadata": {},
   "source": [
    "## 1.1 环境导入和数据准备"
   ]
  },
  {
   "cell_type": "code",
   "execution_count": 2,
   "metadata": {},
   "outputs": [],
   "source": [
    "import numpy as np\n",
    "import pandas as pd\n",
    "from sklearn.preprocessing import LabelEncoder\n",
    "from sklearn.metrics import accuracy_score\n",
    "from sklearn.model_selection import train_test_split\n",
    "from sklearn.svm import SVC \n",
    "from sklearn.linear_model import LogisticRegression\n",
    "rng_seed = 44"
   ]
  },
  {
   "cell_type": "code",
   "execution_count": 3,
   "metadata": {},
   "outputs": [
    {
     "name": "stdout",
     "output_type": "stream",
     "text": [
      "<class 'pandas.core.frame.DataFrame'>\n",
      "RangeIndex: 11162 entries, 0 to 11161\n",
      "Data columns (total 17 columns):\n",
      " #   Column     Non-Null Count  Dtype \n",
      "---  ------     --------------  ----- \n",
      " 0   age        11162 non-null  int64 \n",
      " 1   job        11162 non-null  object\n",
      " 2   marital    11162 non-null  object\n",
      " 3   education  11162 non-null  object\n",
      " 4   default    11162 non-null  object\n",
      " 5   balance    11162 non-null  int64 \n",
      " 6   housing    11162 non-null  object\n",
      " 7   loan       11162 non-null  object\n",
      " 8   contact    11162 non-null  object\n",
      " 9   day        11162 non-null  int64 \n",
      " 10  month      11162 non-null  object\n",
      " 11  duration   11162 non-null  int64 \n",
      " 12  campaign   11162 non-null  int64 \n",
      " 13  pdays      11162 non-null  int64 \n",
      " 14  previous   11162 non-null  int64 \n",
      " 15  poutcome   11162 non-null  object\n",
      " 16  deposit    11162 non-null  object\n",
      "dtypes: int64(7), object(10)\n",
      "memory usage: 1.4+ MB\n"
     ]
    }
   ],
   "source": [
    "df=pd.read_csv(\"bank.csv\")\n",
    "df.info()"
   ]
  },
  {
   "cell_type": "code",
   "execution_count": 4,
   "metadata": {},
   "outputs": [
    {
     "name": "stdout",
     "output_type": "stream",
     "text": [
      "11162\n"
     ]
    },
    {
     "data": {
      "text/html": [
       "<div>\n",
       "<style scoped>\n",
       "    .dataframe tbody tr th:only-of-type {\n",
       "        vertical-align: middle;\n",
       "    }\n",
       "\n",
       "    .dataframe tbody tr th {\n",
       "        vertical-align: top;\n",
       "    }\n",
       "\n",
       "    .dataframe thead th {\n",
       "        text-align: right;\n",
       "    }\n",
       "</style>\n",
       "<table border=\"1\" class=\"dataframe\">\n",
       "  <thead>\n",
       "    <tr style=\"text-align: right;\">\n",
       "      <th></th>\n",
       "      <th>age</th>\n",
       "      <th>balance</th>\n",
       "      <th>day</th>\n",
       "      <th>duration</th>\n",
       "      <th>campaign</th>\n",
       "      <th>pdays</th>\n",
       "      <th>previous</th>\n",
       "      <th>job_admin.</th>\n",
       "      <th>job_blue-collar</th>\n",
       "      <th>job_entrepreneur</th>\n",
       "      <th>...</th>\n",
       "      <th>month_jun</th>\n",
       "      <th>month_mar</th>\n",
       "      <th>month_may</th>\n",
       "      <th>month_nov</th>\n",
       "      <th>month_oct</th>\n",
       "      <th>month_sep</th>\n",
       "      <th>poutcome_failure</th>\n",
       "      <th>poutcome_other</th>\n",
       "      <th>poutcome_success</th>\n",
       "      <th>poutcome_unknown</th>\n",
       "    </tr>\n",
       "  </thead>\n",
       "  <tbody>\n",
       "    <tr>\n",
       "      <th>0</th>\n",
       "      <td>59</td>\n",
       "      <td>2343</td>\n",
       "      <td>5</td>\n",
       "      <td>1042</td>\n",
       "      <td>1</td>\n",
       "      <td>-1</td>\n",
       "      <td>0</td>\n",
       "      <td>1</td>\n",
       "      <td>0</td>\n",
       "      <td>0</td>\n",
       "      <td>...</td>\n",
       "      <td>0</td>\n",
       "      <td>0</td>\n",
       "      <td>1</td>\n",
       "      <td>0</td>\n",
       "      <td>0</td>\n",
       "      <td>0</td>\n",
       "      <td>0</td>\n",
       "      <td>0</td>\n",
       "      <td>0</td>\n",
       "      <td>1</td>\n",
       "    </tr>\n",
       "    <tr>\n",
       "      <th>1</th>\n",
       "      <td>56</td>\n",
       "      <td>45</td>\n",
       "      <td>5</td>\n",
       "      <td>1467</td>\n",
       "      <td>1</td>\n",
       "      <td>-1</td>\n",
       "      <td>0</td>\n",
       "      <td>1</td>\n",
       "      <td>0</td>\n",
       "      <td>0</td>\n",
       "      <td>...</td>\n",
       "      <td>0</td>\n",
       "      <td>0</td>\n",
       "      <td>1</td>\n",
       "      <td>0</td>\n",
       "      <td>0</td>\n",
       "      <td>0</td>\n",
       "      <td>0</td>\n",
       "      <td>0</td>\n",
       "      <td>0</td>\n",
       "      <td>1</td>\n",
       "    </tr>\n",
       "    <tr>\n",
       "      <th>2</th>\n",
       "      <td>41</td>\n",
       "      <td>1270</td>\n",
       "      <td>5</td>\n",
       "      <td>1389</td>\n",
       "      <td>1</td>\n",
       "      <td>-1</td>\n",
       "      <td>0</td>\n",
       "      <td>0</td>\n",
       "      <td>0</td>\n",
       "      <td>0</td>\n",
       "      <td>...</td>\n",
       "      <td>0</td>\n",
       "      <td>0</td>\n",
       "      <td>1</td>\n",
       "      <td>0</td>\n",
       "      <td>0</td>\n",
       "      <td>0</td>\n",
       "      <td>0</td>\n",
       "      <td>0</td>\n",
       "      <td>0</td>\n",
       "      <td>1</td>\n",
       "    </tr>\n",
       "    <tr>\n",
       "      <th>3</th>\n",
       "      <td>55</td>\n",
       "      <td>2476</td>\n",
       "      <td>5</td>\n",
       "      <td>579</td>\n",
       "      <td>1</td>\n",
       "      <td>-1</td>\n",
       "      <td>0</td>\n",
       "      <td>0</td>\n",
       "      <td>0</td>\n",
       "      <td>0</td>\n",
       "      <td>...</td>\n",
       "      <td>0</td>\n",
       "      <td>0</td>\n",
       "      <td>1</td>\n",
       "      <td>0</td>\n",
       "      <td>0</td>\n",
       "      <td>0</td>\n",
       "      <td>0</td>\n",
       "      <td>0</td>\n",
       "      <td>0</td>\n",
       "      <td>1</td>\n",
       "    </tr>\n",
       "    <tr>\n",
       "      <th>4</th>\n",
       "      <td>54</td>\n",
       "      <td>184</td>\n",
       "      <td>5</td>\n",
       "      <td>673</td>\n",
       "      <td>2</td>\n",
       "      <td>-1</td>\n",
       "      <td>0</td>\n",
       "      <td>1</td>\n",
       "      <td>0</td>\n",
       "      <td>0</td>\n",
       "      <td>...</td>\n",
       "      <td>0</td>\n",
       "      <td>0</td>\n",
       "      <td>1</td>\n",
       "      <td>0</td>\n",
       "      <td>0</td>\n",
       "      <td>0</td>\n",
       "      <td>0</td>\n",
       "      <td>0</td>\n",
       "      <td>0</td>\n",
       "      <td>1</td>\n",
       "    </tr>\n",
       "    <tr>\n",
       "      <th>...</th>\n",
       "      <td>...</td>\n",
       "      <td>...</td>\n",
       "      <td>...</td>\n",
       "      <td>...</td>\n",
       "      <td>...</td>\n",
       "      <td>...</td>\n",
       "      <td>...</td>\n",
       "      <td>...</td>\n",
       "      <td>...</td>\n",
       "      <td>...</td>\n",
       "      <td>...</td>\n",
       "      <td>...</td>\n",
       "      <td>...</td>\n",
       "      <td>...</td>\n",
       "      <td>...</td>\n",
       "      <td>...</td>\n",
       "      <td>...</td>\n",
       "      <td>...</td>\n",
       "      <td>...</td>\n",
       "      <td>...</td>\n",
       "      <td>...</td>\n",
       "    </tr>\n",
       "    <tr>\n",
       "      <th>11157</th>\n",
       "      <td>33</td>\n",
       "      <td>1</td>\n",
       "      <td>20</td>\n",
       "      <td>257</td>\n",
       "      <td>1</td>\n",
       "      <td>-1</td>\n",
       "      <td>0</td>\n",
       "      <td>0</td>\n",
       "      <td>1</td>\n",
       "      <td>0</td>\n",
       "      <td>...</td>\n",
       "      <td>0</td>\n",
       "      <td>0</td>\n",
       "      <td>0</td>\n",
       "      <td>0</td>\n",
       "      <td>0</td>\n",
       "      <td>0</td>\n",
       "      <td>0</td>\n",
       "      <td>0</td>\n",
       "      <td>0</td>\n",
       "      <td>1</td>\n",
       "    </tr>\n",
       "    <tr>\n",
       "      <th>11158</th>\n",
       "      <td>39</td>\n",
       "      <td>733</td>\n",
       "      <td>16</td>\n",
       "      <td>83</td>\n",
       "      <td>4</td>\n",
       "      <td>-1</td>\n",
       "      <td>0</td>\n",
       "      <td>0</td>\n",
       "      <td>0</td>\n",
       "      <td>0</td>\n",
       "      <td>...</td>\n",
       "      <td>1</td>\n",
       "      <td>0</td>\n",
       "      <td>0</td>\n",
       "      <td>0</td>\n",
       "      <td>0</td>\n",
       "      <td>0</td>\n",
       "      <td>0</td>\n",
       "      <td>0</td>\n",
       "      <td>0</td>\n",
       "      <td>1</td>\n",
       "    </tr>\n",
       "    <tr>\n",
       "      <th>11159</th>\n",
       "      <td>32</td>\n",
       "      <td>29</td>\n",
       "      <td>19</td>\n",
       "      <td>156</td>\n",
       "      <td>2</td>\n",
       "      <td>-1</td>\n",
       "      <td>0</td>\n",
       "      <td>0</td>\n",
       "      <td>0</td>\n",
       "      <td>0</td>\n",
       "      <td>...</td>\n",
       "      <td>0</td>\n",
       "      <td>0</td>\n",
       "      <td>0</td>\n",
       "      <td>0</td>\n",
       "      <td>0</td>\n",
       "      <td>0</td>\n",
       "      <td>0</td>\n",
       "      <td>0</td>\n",
       "      <td>0</td>\n",
       "      <td>1</td>\n",
       "    </tr>\n",
       "    <tr>\n",
       "      <th>11160</th>\n",
       "      <td>43</td>\n",
       "      <td>0</td>\n",
       "      <td>8</td>\n",
       "      <td>9</td>\n",
       "      <td>2</td>\n",
       "      <td>172</td>\n",
       "      <td>5</td>\n",
       "      <td>0</td>\n",
       "      <td>0</td>\n",
       "      <td>0</td>\n",
       "      <td>...</td>\n",
       "      <td>0</td>\n",
       "      <td>0</td>\n",
       "      <td>1</td>\n",
       "      <td>0</td>\n",
       "      <td>0</td>\n",
       "      <td>0</td>\n",
       "      <td>1</td>\n",
       "      <td>0</td>\n",
       "      <td>0</td>\n",
       "      <td>0</td>\n",
       "    </tr>\n",
       "    <tr>\n",
       "      <th>11161</th>\n",
       "      <td>34</td>\n",
       "      <td>0</td>\n",
       "      <td>9</td>\n",
       "      <td>628</td>\n",
       "      <td>1</td>\n",
       "      <td>-1</td>\n",
       "      <td>0</td>\n",
       "      <td>0</td>\n",
       "      <td>0</td>\n",
       "      <td>0</td>\n",
       "      <td>...</td>\n",
       "      <td>0</td>\n",
       "      <td>0</td>\n",
       "      <td>0</td>\n",
       "      <td>0</td>\n",
       "      <td>0</td>\n",
       "      <td>0</td>\n",
       "      <td>0</td>\n",
       "      <td>0</td>\n",
       "      <td>0</td>\n",
       "      <td>1</td>\n",
       "    </tr>\n",
       "  </tbody>\n",
       "</table>\n",
       "<p>11162 rows × 51 columns</p>\n",
       "</div>"
      ],
      "text/plain": [
       "       age  balance  day  duration  campaign  pdays  previous  job_admin.  \\\n",
       "0       59     2343    5      1042         1     -1         0           1   \n",
       "1       56       45    5      1467         1     -1         0           1   \n",
       "2       41     1270    5      1389         1     -1         0           0   \n",
       "3       55     2476    5       579         1     -1         0           0   \n",
       "4       54      184    5       673         2     -1         0           1   \n",
       "...    ...      ...  ...       ...       ...    ...       ...         ...   \n",
       "11157   33        1   20       257         1     -1         0           0   \n",
       "11158   39      733   16        83         4     -1         0           0   \n",
       "11159   32       29   19       156         2     -1         0           0   \n",
       "11160   43        0    8         9         2    172         5           0   \n",
       "11161   34        0    9       628         1     -1         0           0   \n",
       "\n",
       "       job_blue-collar  job_entrepreneur  ...  month_jun  month_mar  \\\n",
       "0                    0                 0  ...          0          0   \n",
       "1                    0                 0  ...          0          0   \n",
       "2                    0                 0  ...          0          0   \n",
       "3                    0                 0  ...          0          0   \n",
       "4                    0                 0  ...          0          0   \n",
       "...                ...               ...  ...        ...        ...   \n",
       "11157                1                 0  ...          0          0   \n",
       "11158                0                 0  ...          1          0   \n",
       "11159                0                 0  ...          0          0   \n",
       "11160                0                 0  ...          0          0   \n",
       "11161                0                 0  ...          0          0   \n",
       "\n",
       "       month_may  month_nov  month_oct  month_sep  poutcome_failure  \\\n",
       "0              1          0          0          0                 0   \n",
       "1              1          0          0          0                 0   \n",
       "2              1          0          0          0                 0   \n",
       "3              1          0          0          0                 0   \n",
       "4              1          0          0          0                 0   \n",
       "...          ...        ...        ...        ...               ...   \n",
       "11157          0          0          0          0                 0   \n",
       "11158          0          0          0          0                 0   \n",
       "11159          0          0          0          0                 0   \n",
       "11160          1          0          0          0                 1   \n",
       "11161          0          0          0          0                 0   \n",
       "\n",
       "       poutcome_other  poutcome_success  poutcome_unknown  \n",
       "0                   0                 0                 1  \n",
       "1                   0                 0                 1  \n",
       "2                   0                 0                 1  \n",
       "3                   0                 0                 1  \n",
       "4                   0                 0                 1  \n",
       "...               ...               ...               ...  \n",
       "11157               0                 0                 1  \n",
       "11158               0                 0                 1  \n",
       "11159               0                 0                 1  \n",
       "11160               0                 0                 0  \n",
       "11161               0                 0                 1  \n",
       "\n",
       "[11162 rows x 51 columns]"
      ]
     },
     "execution_count": 4,
     "metadata": {},
     "output_type": "execute_result"
    }
   ],
   "source": [
    "from sklearn.preprocessing import LabelEncoder\n",
    "x = df.iloc[:,:-1]\n",
    "y = df.iloc[:,-1]\n",
    "\n",
    "print(len(x))\n",
    "x_simple_prepared = pd.get_dummies(x.copy())\n",
    "\n",
    "lbe =  LabelEncoder()\n",
    "lbe.fit(y)\n",
    "y = lbe.transform(y)\n",
    "x_simple_prepared"
   ]
  },
  {
   "cell_type": "markdown",
   "metadata": {
    "deletable": false,
    "editable": false
   },
   "source": [
    "## 1.2 模型的训练和评估(20分)"
   ]
  },
  {
   "cell_type": "markdown",
   "metadata": {},
   "source": [
    "_Type your answer here, replacing this text._"
   ]
  },
  {
   "cell_type": "code",
   "execution_count": 5,
   "metadata": {
    "tags": []
   },
   "outputs": [
    {
     "name": "stdout",
     "output_type": "stream",
     "text": [
      "svc accuracy: 0.7357814599193909\n",
      "lr accuracy: 0.8248992386923422\n"
     ]
    }
   ],
   "source": [
    "np.random.seed(rng_seed)\n",
    "# 利用get_dummies()方法对x进行编码\n",
    "x = df.iloc[:,:-1]\n",
    "y = df.iloc[:,-1]\n",
    "x_simple_prepared = pd.get_dummies(x.copy())\n",
    "# 利用LabelEncoder()方法对y进行编码\n",
    "lbe =  LabelEncoder()\n",
    "lbe.fit(y)\n",
    "y = lbe.transform(y)\n",
    "\n",
    "np.random.seed(rng_seed)\n",
    "# 划分train, test数据集\n",
    "x_train, x_test, y_train, y_test = train_test_split(x_simple_prepared, y, train_size=0.8, test_size=1-0.8, random_state=0)\n",
    "#训练SVC模型\n",
    "svc_model = SVC(random_state=0, probability=True)\n",
    "# 进行预测\n",
    "svc_simple_score = accuracy_score(y_test, svc_model.fit(x_train, y_train).predict(x_test))\n",
    "# 训练 LR 模型\n",
    "lr_model = LogisticRegression(random_state=0, max_iter=10000)\n",
    "# 进行预测\n",
    "lr_simple_score = accuracy_score(y_test, lr_model.fit(x_train, y_train).predict(x_test))\n",
    "\n",
    "print('svc accuracy:', svc_simple_score)\n",
    "print('lr accuracy:', lr_simple_score)"
   ]
  },
  {
   "cell_type": "code",
   "execution_count": 6,
   "metadata": {
    "deletable": false,
    "editable": false
   },
   "outputs": [
    {
     "data": {
      "text/html": [
       "<p><strong><pre style='display: inline;'>p1_1</pre></strong> passed! 🚀</p>"
      ],
      "text/plain": [
       "p1_1 results: All test cases passed!"
      ]
     },
     "execution_count": 6,
     "metadata": {},
     "output_type": "execute_result"
    }
   ],
   "source": [
    "grader.check(\"p1_1\")"
   ]
  },
  {
   "cell_type": "markdown",
   "metadata": {
    "deletable": false,
    "editable": false
   },
   "source": [
    "## 1.3 数据预处理和再训练(20分)"
   ]
  },
  {
   "cell_type": "markdown",
   "metadata": {},
   "source": []
  },
  {
   "cell_type": "markdown",
   "metadata": {
    "deletable": false,
    "editable": false
   },
   "source": [
    "**数据预处理**可以参考的数据准备操作：https://scikit-learn.org/stable/modules/preprocessing.html#preprocessing\n",
    "* 针对`x_train`, `y_train`, `x_test`, `y_test`使用数据准备操作，但要保证\n",
    "  * 不能增加或删减`x_test`和`y_test`的行，但可以对它们进行变换\n",
    "  * 可以对`x_train`和`y_train`做任何操作"
   ]
  },
  {
   "cell_type": "code",
   "execution_count": 15,
   "metadata": {
    "tags": []
   },
   "outputs": [
    {
     "name": "stdout",
     "output_type": "stream",
     "text": [
      "      age  balance  day  duration  campaign  pdays  previous  job_admin.  \\\n",
      "6111   49      104    8       285         1     -1         0           0   \n",
      "1149   59      514    3       261         1     -1         0           0   \n",
      "2954   33      195   16       984         5     -1         0           0   \n",
      "2458   58      687    7       221         1     99         2           0   \n",
      "7504   33     1077   18       432         3    374         3           1   \n",
      "\n",
      "      job_blue-collar  job_entrepreneur  ...  month_jun  month_mar  month_may  \\\n",
      "6111                0                 0  ...          0          0          1   \n",
      "1149                0                 0  ...          0          0          0   \n",
      "2954                1                 0  ...          0          0          0   \n",
      "2458                0                 0  ...          0          0          0   \n",
      "7504                0                 0  ...          0          0          1   \n",
      "\n",
      "      month_nov  month_oct  month_sep  poutcome_failure  poutcome_other  \\\n",
      "6111          0          0          0                 0               0   \n",
      "1149          0          0          0                 0               0   \n",
      "2954          1          0          0                 0               0   \n",
      "2458          0          0          0                 0               0   \n",
      "7504          0          0          0                 0               1   \n",
      "\n",
      "      poutcome_success  poutcome_unknown  \n",
      "6111                 0                 1  \n",
      "1149                 0                 1  \n",
      "2954                 0                 1  \n",
      "2458                 1                 0  \n",
      "7504                 0                 0  \n",
      "\n",
      "[5 rows x 51 columns]\n",
      "svc accuracy: 0.5584415584415584\n",
      "lr accuracy: 0.5624720107478728\n"
     ]
    }
   ],
   "source": [
    "\n",
    "# 数据预处理\n",
    "from sklearn.preprocessing import StandardScaler\n",
    "from sklearn.impute import SimpleImputer\n",
    "from sklearn.decomposition import PCA\n",
    "# 处理异常值\n",
    "\n",
    "threshold=3\n",
    "q1 = np.percentile(x_train, 25, axis=0)\n",
    "q3 = np.percentile(x_test, 75, axis=0)\n",
    "print(x_train.head())\n",
    "# 计算IQR（四分位数范围）\n",
    "iqr = q3 - q1\n",
    "# 计算上下界\n",
    "lower_bound = q1 - threshold * iqr\n",
    "upper_bound = q3 + threshold * iqr\n",
    "# 将异常值替换为缺失值，并进行插补\n",
    "is_outlier = (x_train < lower_bound) | (x_train > upper_bound)\n",
    "x_train_no_outlier = x_train.copy()\n",
    "x_train_no_outlier[is_outlier] = np.nan\n",
    "x_train_no_outlier = SimpleImputer(strategy='mean').fit_transform(x_train_no_outlier)\n",
    "x_test_no_outlier = x_test.copy()\n",
    "x_test_no_outlier[is_outlier] = np.nan\n",
    "x_test_no_outlier = SimpleImputer(strategy='mean').fit_transform(x_test_no_outlier)\n",
    "\n",
    "# 分离特征和标签，对标签做编码\n",
    "x_train_no_outlier = pd.DataFrame(x_train_no_outlier )\n",
    "x_test_no_outlier = pd.DataFrame(x_test_no_outlier)\n",
    "\n",
    "# 对特征做编码\n",
    "x_train_no_outlier = pd.get_dummies(x_train_no_outlier)\n",
    "x_test_no_outlier = pd.get_dummies(x_test_no_outlier)\n",
    "# 对特征做降维\n",
    "pca = PCA(n_components=20)\n",
    "pca.fit(x_train_no_outlier)\n",
    "x_train_no_outlier = pca.transform(x_train_no_outlier)\n",
    "x_test_no_outlier = pca.transform(x_test_no_outlier)\n",
    "# 对特征做归一化\n",
    "scaler = StandardScaler()\n",
    "scaler.fit(x_train_no_outlier)\n",
    "x_train_no_outlier = scaler.transform(x_train_no_outlier)\n",
    "x_test_no_outlier = scaler.transform(x_test_no_outlier)\n",
    "#对特征做特征工程\n",
    "# 特征工程\n",
    "# from sklearn.preprocessing import PolynomialFeatures\n",
    "# poly = PolynomialFeatures(degree=2)\n",
    "# x_train_no_outlier = poly.fit_transform(x_train_no_outlier)\n",
    "# x_test_no_outlier = poly.transform(x_test_no_outlier)\n",
    "np.random.seed(rng_seed)\n",
    "# 训练SVC模型，处理完数据后，再次训练，你需要得到一个svc_score的指标\n",
    "svc_new_model=SVC(random_state=0, probability=True)\n",
    "svc_score=accuracy_score(y_test, svc_new_model.fit(x_train_no_outlier, y_train).predict(x_test_no_outlier))\n",
    "#y_prob = svc_new_model.predict_proba(x_test)\n",
    "#训练LR模型\n",
    "lr_new_model=LogisticRegression(random_state=0, max_iter=1000)\n",
    "lr_score=accuracy_score(y_test, lr_new_model.fit(x_train_no_outlier, y_train).predict(x_test_no_outlier))\n",
    "#y_prob1=lr_new_model.predict_proba(x_test)\n",
    "print('svc accuracy:', svc_score)\n",
    "print('lr accuracy:', lr_score)"
   ]
  },
  {
   "cell_type": "code",
   "execution_count": 8,
   "metadata": {
    "deletable": false,
    "editable": false
   },
   "outputs": [
    {
     "data": {
      "text/html": [
       "<p><strong><pre style='display: inline;'>p1_2</pre></strong> passed! 🌈</p>"
      ],
      "text/plain": [
       "p1_2 results: All test cases passed!"
      ]
     },
     "execution_count": 8,
     "metadata": {},
     "output_type": "execute_result"
    }
   ],
   "source": [
    "grader.check(\"p1_2\")"
   ]
  },
  {
   "cell_type": "markdown",
   "metadata": {},
   "source": [
    "# 2 逻辑回归分类器的实现"
   ]
  },
  {
   "cell_type": "markdown",
   "metadata": {
    "deletable": false,
    "editable": false
   },
   "source": [
    "## 2.1 确定优化目标(10分)"
   ]
  },
  {
   "attachments": {},
   "cell_type": "markdown",
   "metadata": {
    "deletable": false,
    "editable": false
   },
   "source": [
    "我们采用二元交叉熵作为损失函数，具体的推理过程可参考主课[Lec09](../../Lectures/Lec09/)\n",
    "\n",
    "$J(\\theta) = -\\frac{1}{m} \\sum_{i=1}^{m} \\left[ y^{(i)} \\log(\\hat{y}^{(i)}) + (1 - y^{(i)}) \\log(1 - \\hat{y}^{(i)}) \\right]$\n",
    "\n",
    "* $J(\\theta)$是损失函数\n",
    "* $m$是样本数量\n",
    "* $y^{(i)}$是第$i$个样本的真实标签\n",
    "* $\\hat{y}^{(i)}$是预测概率\n",
    "* $\\theta$是权重向量"
   ]
  },
  {
   "cell_type": "code",
   "execution_count": 9,
   "metadata": {
    "tags": []
   },
   "outputs": [],
   "source": [
    "np.random.seed(rng_seed)\n",
    "# 实现损失函数\n",
    "def sigmoid(z):\n",
    "    return 1 / (1 + np.exp(-z))\n",
    "\n",
    "def logistic_loss(y, y_hat):\n",
    "    epsilon = 1e-15  # 一个很小的 epsilon 值，用于避免取零的对数\n",
    "    #print(y_hat)\n",
    "    logistic_loss = -np.sum(y * np.log(y_hat) + (1 - y) * np.log(1 - y_hat))\n",
    "    logistic_loss = logistic_loss / len(y)\n",
    "    \n",
    "    return logistic_loss\n",
    "\n",
    "def loss_function(X, y, weights):\n",
    "    \n",
    "\n",
    "    z = np.dot(X, weights)\n",
    "    y_hat = sigmoid(z)\n",
    "    loss = logistic_loss(y, y_hat)\n",
    "    return loss"
   ]
  },
  {
   "cell_type": "code",
   "execution_count": 10,
   "metadata": {
    "deletable": false,
    "editable": false
   },
   "outputs": [
    {
     "data": {
      "text/html": [
       "<p><strong><pre style='display: inline;'>p2_1</pre></strong> passed! 🍀</p>"
      ],
      "text/plain": [
       "p2_1 results: All test cases passed!"
      ]
     },
     "execution_count": 10,
     "metadata": {},
     "output_type": "execute_result"
    }
   ],
   "source": [
    "grader.check(\"p2_1\")"
   ]
  },
  {
   "cell_type": "markdown",
   "metadata": {
    "deletable": false,
    "editable": false
   },
   "source": [
    "## 2.2 计算优化目标的梯度(10分)\n",
    "请根据上述目标计算梯度"
   ]
  },
  {
   "cell_type": "markdown",
   "metadata": {
    "deletable": false,
    "editable": false
   },
   "source": [
    "$\\nabla_{\\theta} J(\\theta) = \\frac{1}{m} X^T (\\hat{y} - y)$\n",
    "\n",
    "请根据给出的公式，编写梯度函数。注意 $\\hat{y}$ 要通过sigmoid函数后与 $y$ 相减"
   ]
  },
  {
   "cell_type": "code",
   "execution_count": 11,
   "metadata": {
    "tags": []
   },
   "outputs": [],
   "source": [
    "np.random.seed(rng_seed)\n",
    "# 实现梯度函数\n",
    "def gradient(X, y, weights):\n",
    "    z = np.dot(X, weights)\n",
    "    y_hat = sigmoid(z)\n",
    "    gradient = np.dot(X.T, y_hat - y) / X.shape[0]\n",
    "    return gradient"
   ]
  },
  {
   "cell_type": "code",
   "execution_count": 12,
   "metadata": {
    "deletable": false,
    "editable": false
   },
   "outputs": [
    {
     "data": {
      "text/html": [
       "<p><strong><pre style='display: inline;'>p2_2</pre></strong> passed! 💯</p>"
      ],
      "text/plain": [
       "p2_2 results: All test cases passed!"
      ]
     },
     "execution_count": 12,
     "metadata": {},
     "output_type": "execute_result"
    }
   ],
   "source": [
    "grader.check(\"p2_2\")"
   ]
  },
  {
   "cell_type": "markdown",
   "metadata": {
    "deletable": false,
    "editable": false
   },
   "source": [
    "## 2.3 使用随机梯度下降（SGD）进行优化(10分)\n",
    "\n",
    "权重更新的数学表示为：\n",
    "\n",
    "$\\theta = \\theta - \\alpha \\nabla_{\\theta} J(\\theta)$"
   ]
  },
  {
   "cell_type": "code",
   "execution_count": 13,
   "metadata": {
    "tags": []
   },
   "outputs": [
    {
     "name": "stdout",
     "output_type": "stream",
     "text": [
      "Iteration 1/100, Loss: 0.6920\n",
      "Iteration 2/100, Loss: 0.6907\n",
      "Iteration 3/100, Loss: 0.6898\n",
      "Iteration 4/100, Loss: 0.6904\n",
      "Iteration 5/100, Loss: 0.6894\n",
      "Iteration 6/100, Loss: 0.6887\n",
      "Iteration 7/100, Loss: 0.6879\n",
      "Iteration 8/100, Loss: 0.6870\n",
      "Iteration 9/100, Loss: 0.6860\n",
      "Iteration 10/100, Loss: 0.6853\n",
      "Iteration 11/100, Loss: 0.6849\n",
      "Iteration 12/100, Loss: 0.6847\n",
      "Iteration 13/100, Loss: 0.6847\n",
      "Iteration 14/100, Loss: 0.6844\n",
      "Iteration 15/100, Loss: 0.6845\n",
      "Iteration 16/100, Loss: 0.6841\n",
      "Iteration 17/100, Loss: 0.6839\n",
      "Iteration 18/100, Loss: 0.6835\n",
      "Iteration 19/100, Loss: 0.6832\n",
      "Iteration 20/100, Loss: 0.6831\n",
      "Iteration 21/100, Loss: 0.6836\n",
      "Iteration 22/100, Loss: 0.6823\n",
      "Iteration 23/100, Loss: 0.6846\n",
      "Iteration 24/100, Loss: 0.6823\n",
      "Iteration 25/100, Loss: 0.6828\n",
      "Iteration 26/100, Loss: 0.6811\n",
      "Iteration 27/100, Loss: 0.6814\n",
      "Iteration 28/100, Loss: 0.6816\n"
     ]
    },
    {
     "name": "stdout",
     "output_type": "stream",
     "text": [
      "Iteration 29/100, Loss: 0.6813\n",
      "Iteration 30/100, Loss: 0.6817\n",
      "Iteration 31/100, Loss: 0.6817\n",
      "Iteration 32/100, Loss: 0.6806\n",
      "Iteration 33/100, Loss: 0.6802\n",
      "Iteration 34/100, Loss: 0.6820\n",
      "Iteration 35/100, Loss: 0.6813\n",
      "Iteration 36/100, Loss: 0.6842\n",
      "Iteration 37/100, Loss: 0.6796\n",
      "Iteration 38/100, Loss: 0.6810\n",
      "Iteration 39/100, Loss: 0.6793\n",
      "Iteration 40/100, Loss: 0.6791\n",
      "Iteration 41/100, Loss: 0.6792\n",
      "Iteration 42/100, Loss: 0.6803\n",
      "Iteration 43/100, Loss: 0.6791\n",
      "Iteration 44/100, Loss: 0.6799\n",
      "Iteration 45/100, Loss: 0.6798\n",
      "Iteration 46/100, Loss: 0.6789\n",
      "Iteration 47/100, Loss: 0.6791\n",
      "Iteration 48/100, Loss: 0.6788\n",
      "Iteration 49/100, Loss: 0.6790\n",
      "Iteration 50/100, Loss: 0.6814\n",
      "Iteration 51/100, Loss: 0.6792\n",
      "Iteration 52/100, Loss: 0.6781\n",
      "Iteration 53/100, Loss: 0.6780\n",
      "Iteration 54/100, Loss: 0.6778\n",
      "Iteration 55/100, Loss: 0.6778\n",
      "Iteration 56/100, Loss: 0.6778\n",
      "Iteration 57/100, Loss: 0.6792\n",
      "Iteration 58/100, Loss: 0.6809\n",
      "Iteration 59/100, Loss: 0.6851\n",
      "Iteration 60/100, Loss: 0.6781\n",
      "Iteration 61/100, Loss: 0.6777\n",
      "Iteration 62/100, Loss: 0.6776\n",
      "Iteration 63/100, Loss: 0.6778\n",
      "Iteration 64/100, Loss: 0.6778\n",
      "Iteration 65/100, Loss: 0.6807\n",
      "Iteration 66/100, Loss: 0.6798\n",
      "Iteration 67/100, Loss: 0.6775\n",
      "Iteration 68/100, Loss: 0.6779\n",
      "Iteration 69/100, Loss: 0.6775\n",
      "Iteration 70/100, Loss: 0.6775\n",
      "Iteration 71/100, Loss: 0.6791\n",
      "Iteration 72/100, Loss: 0.6814\n",
      "Iteration 73/100, Loss: 0.6780\n",
      "Iteration 74/100, Loss: 0.6774\n",
      "Iteration 75/100, Loss: 0.6776\n",
      "Iteration 76/100, Loss: 0.6777\n",
      "Iteration 77/100, Loss: 0.6793\n",
      "Iteration 78/100, Loss: 0.6777\n",
      "Iteration 79/100, Loss: 0.6809\n",
      "Iteration 80/100, Loss: 0.6792\n",
      "Iteration 81/100, Loss: 0.6774\n",
      "Iteration 82/100, Loss: 0.6775\n",
      "Iteration 83/100, Loss: 0.6774\n",
      "Iteration 84/100, Loss: 0.6774\n",
      "Iteration 85/100, Loss: 0.6775\n",
      "Iteration 86/100, Loss: 0.6779\n",
      "Iteration 87/100, Loss: 0.6802\n",
      "Iteration 88/100, Loss: 0.6774\n",
      "Iteration 89/100, Loss: 0.6774\n",
      "Iteration 90/100, Loss: 0.6775\n",
      "Iteration 91/100, Loss: 0.6775\n",
      "Iteration 92/100, Loss: 0.6780\n",
      "Iteration 93/100, Loss: 0.6790\n",
      "Iteration 94/100, Loss: 0.6775\n",
      "Iteration 95/100, Loss: 0.6775\n",
      "Iteration 96/100, Loss: 0.6788\n",
      "Iteration 97/100, Loss: 0.6804\n",
      "Iteration 98/100, Loss: 0.6803\n",
      "Iteration 99/100, Loss: 0.6789\n",
      "Iteration 100/100, Loss: 0.6775\n"
     ]
    }
   ],
   "source": [
    "def stochastic_gradient_descent(X, y, weights, learning_rate=0.01, num_iterations=100):\n",
    "    m = y.size\n",
    "    loss_history = []\n",
    "    \n",
    "    for i in range(num_iterations):\n",
    "        for j in range(m):\n",
    "            # 随机选择一个数据点\n",
    "            idx = np.random.randint(m)\n",
    "            X_i = X[idx, :].reshape(1, -1)\n",
    "            y_i = y[idx]\n",
    "            # 计算梯度并更新权重\n",
    "            grad =gradient(X_i, y_i, weights)\n",
    "            weights -= learning_rate * grad\n",
    "            \n",
    "            # 计算并记录损失，用于监控\n",
    "            loss = loss_function(X, y, weights)\n",
    "            if(loss==np.nan):\n",
    "                print(i,j)\n",
    "            loss_history.append(loss)\n",
    "        \n",
    "        # 每10次迭代打印一次损失值\n",
    "        if (i+1) % 1 == 0:\n",
    "            print(f\"Iteration {i+1}/{num_iterations}, Loss: {loss:.4f}\")\n",
    "    \n",
    "    return weights, loss_history\n",
    "\n",
    "np.random.seed(rng_seed)\n",
    "num_features = 6\n",
    "num_samples = 138\n",
    "dummy_weights = np.random.rand(num_features)\n",
    "dummy_X = np.random.rand(num_samples, num_features)\n",
    "dummy_y = np.random.randint(0, 2, num_samples)\n",
    "\n",
    "initial_weights = np.zeros(num_features)\n",
    "\n",
    "final_weights, loss_history = stochastic_gradient_descent(dummy_X, dummy_y, initial_weights)"
   ]
  },
  {
   "cell_type": "code",
   "execution_count": 14,
   "metadata": {
    "deletable": false,
    "editable": false
   },
   "outputs": [
    {
     "data": {
      "text/html": [
       "<p><strong><pre style='display: inline;'>p2_3</pre></strong> passed! 🙌</p>"
      ],
      "text/plain": [
       "p2_3 results: All test cases passed!"
      ]
     },
     "execution_count": 14,
     "metadata": {},
     "output_type": "execute_result"
    }
   ],
   "source": [
    "grader.check(\"p2_3\")"
   ]
  },
  {
   "cell_type": "markdown",
   "metadata": {
    "deletable": false,
    "editable": false
   },
   "source": [
    "## 2.4 训练与评测(10分)\n",
    "\n",
    "* 使用上面实现的函数训练一个LR分类器\n",
    "* 为了保证结果方便测试..."
   ]
  },
  {
   "cell_type": "code",
   "execution_count": 15,
   "metadata": {
    "deletable": false,
    "editable": false
   },
   "outputs": [],
   "source": [
    "x_train, x_test, y_train, y_test = train_test_split(x_simple_prepared, y, train_size=0.8, test_size=1-0.8, random_state=0)\n",
    "x_train = x_train.values\n",
    "x_test = x_test.values"
   ]
  },
  {
   "cell_type": "code",
   "execution_count": 16,
   "metadata": {
    "tags": []
   },
   "outputs": [
    {
     "name": "stdout",
     "output_type": "stream",
     "text": [
      "Iteration 1/10, Loss: 0.4242\n",
      "Iteration 2/10, Loss: 0.4219\n",
      "Iteration 3/10, Loss: 0.4258\n"
     ]
    }
   ],
   "source": [
    "from sklearn.metrics import classification_report\n",
    "def predict(X, weights):\n",
    "    # 根据给定的权重，预测数据集X的标签\n",
    "    z = np.dot(X, weights)\n",
    "    z=sigmoid(z)\n",
    "    predictions = (z >= 0.5).astype(int)\n",
    "    return predictions  # 预测概率大于等于0.5视为类别1，否则为类别0\n",
    "    \n",
    "num_features = x_train.shape[1]\n",
    "np.random.seed(rng_seed)\n",
    "# 标准化x_train和x_test，公式如下\n",
    "# x = (x-mean(x))/std(x)\n",
    "x_train=(x_train-np.mean(x_train,axis=0))/(np.std(x_train,axis=0))\n",
    "x_test=(x_test-np.mean(x_test,axis=0))/np.std(x_test,axis=0)\n",
    "# weight初始化为0\n",
    "weights = np.zeros(num_features)\n",
    "learning_rate = 0.01\n",
    "num_iterations = 10\n",
    "final_weights, loss_history = stochastic_gradient_descent(x_train, y_train, weights, learning_rate, num_iterations)\n",
    "\n",
    "predictions = predict(x_test, final_weights)\n",
    "\n",
    "accuracy = accuracy_score(y_test, predictions)\n",
    "report = classification_report(y_test, predictions)"
   ]
  },
  {
   "cell_type": "code",
   "execution_count": null,
   "metadata": {},
   "outputs": [
    {
     "name": "stdout",
     "output_type": "stream",
     "text": [
      "              precision    recall  f1-score   support\n",
      "\n",
      "           0       0.82      0.84      0.83      1205\n",
      "           1       0.80      0.78      0.79      1028\n",
      "\n",
      "    accuracy                           0.81      2233\n",
      "   macro avg       0.81      0.81      0.81      2233\n",
      "weighted avg       0.81      0.81      0.81      2233\n",
      "\n",
      "0.8101209135691895\n"
     ]
    }
   ],
   "source": [
    "predictions = predict(x_test, final_weights)\n",
    "accuracy = accuracy_score(y_test, predictions)\n",
    "report = classification_report(y_test, predictions)\n",
    "loss_history\n",
    "print(report)\n",
    "print(accuracy)"
   ]
  },
  {
   "cell_type": "code",
   "execution_count": null,
   "metadata": {
    "deletable": false,
    "editable": false
   },
   "outputs": [
    {
     "data": {
      "text/plain": [
       "0.691986260605109"
      ]
     },
     "execution_count": 30,
     "metadata": {},
     "output_type": "execute_result"
    }
   ],
   "source": [
    "grader.check(\"p2_4\")"
   ]
  },
  {
   "cell_type": "markdown",
   "metadata": {},
   "source": [
    "# 3 基于实验结果的分析与研讨\n",
    "\n",
    "请对本次作业做出总结：\n",
    "\n",
    "- (1) 你采用的**数据预处理操作**是否提升了模型的accuracy(5分)?如果有提高，请给出提高的具体数值，并分析提升的原因(15分)。\n",
    "- (2) 针对复现的逻辑回归模型，它和直接使用sklearn的精度差距为多大(10分)？请分析其背后的原因(10分)。"
   ]
  },
  {
   "cell_type": "markdown",
   "metadata": {},
   "source": [
    "<font color='green'>**答:**</font>\n",
    "是的，对于SVM模型，提高了0.08,对于LR模型，提高了0.01  \n",
    "提升的可能原因：\n",
    "* 标准化之后去除了异常值，降低了异常值的影响。\n",
    "* 为了在"
   ]
  },
  {
   "cell_type": "markdown",
   "metadata": {
    "deletable": false,
    "editable": false
   },
   "source": [
    "## Submission\n",
    "\n",
    "Make sure you have run all cells in your notebook in order before running the cell below, so that all images/graphs appear in the output. The cell below will generate a zip file for you to submit. **Please save before exporting!**\n",
    "\n",
    "These are some submission instructions."
   ]
  },
  {
   "cell_type": "code",
   "execution_count": null,
   "metadata": {
    "deletable": false,
    "editable": false
   },
   "outputs": [
    {
     "ename": "AttributeError",
     "evalue": "module 'nbconvert' has no attribute 'pdf'",
     "output_type": "error",
     "traceback": [
      "\u001b[1;31m---------------------------------------------------------------------------\u001b[0m",
      "\u001b[1;31mLatexFailed\u001b[0m                               Traceback (most recent call last)",
      "File \u001b[1;32md:\\anaconda\\envs\\newfortry\\lib\\site-packages\\otter\\export\\exporters\\via_latex.py:66\u001b[0m, in \u001b[0;36mPDFViaLatexExporter.convert_notebook\u001b[1;34m(cls, nb_path, dest, xecjk, **kwargs)\u001b[0m\n\u001b[0;32m     64\u001b[0m         output_file\u001b[38;5;241m.\u001b[39mwrite(latex_output[\u001b[38;5;241m0\u001b[39m])\n\u001b[1;32m---> 66\u001b[0m pdf_output \u001b[38;5;241m=\u001b[39m \u001b[43mnbconvert\u001b[49m\u001b[38;5;241;43m.\u001b[39;49m\u001b[43mexport\u001b[49m\u001b[43m(\u001b[49m\u001b[43mpdf_exporter\u001b[49m\u001b[43m,\u001b[49m\u001b[43m \u001b[49m\u001b[43mnb\u001b[49m\u001b[43m)\u001b[49m\n\u001b[0;32m     67\u001b[0m \u001b[38;5;28;01mwith\u001b[39;00m \u001b[38;5;28mopen\u001b[39m(dest, \u001b[38;5;124m\"\u001b[39m\u001b[38;5;124mwb\u001b[39m\u001b[38;5;124m\"\u001b[39m) \u001b[38;5;28;01mas\u001b[39;00m output_file:\n",
      "File \u001b[1;32md:\\anaconda\\envs\\newfortry\\lib\\site-packages\\nbconvert\\exporters\\base.py:90\u001b[0m, in \u001b[0;36mexport\u001b[1;34m(exporter, nb, **kw)\u001b[0m\n\u001b[0;32m     89\u001b[0m \u001b[38;5;28;01mif\u001b[39;00m \u001b[38;5;28misinstance\u001b[39m(nb, NotebookNode):\n\u001b[1;32m---> 90\u001b[0m     output, resources \u001b[38;5;241m=\u001b[39m \u001b[43mexporter_instance\u001b[49m\u001b[38;5;241;43m.\u001b[39;49m\u001b[43mfrom_notebook_node\u001b[49m\u001b[43m(\u001b[49m\u001b[43mnb\u001b[49m\u001b[43m,\u001b[49m\u001b[43m \u001b[49m\u001b[43mresources\u001b[49m\u001b[43m)\u001b[49m\n\u001b[0;32m     91\u001b[0m \u001b[38;5;28;01melif\u001b[39;00m \u001b[38;5;28misinstance\u001b[39m(nb, (\u001b[38;5;28mstr\u001b[39m,)):\n",
      "File \u001b[1;32md:\\anaconda\\envs\\newfortry\\lib\\site-packages\\nbconvert\\exporters\\pdf.py:206\u001b[0m, in \u001b[0;36mPDFExporter.from_notebook_node\u001b[1;34m(self, nb, resources, **kw)\u001b[0m\n\u001b[0;32m    205\u001b[0m \u001b[38;5;28;01mif\u001b[39;00m \u001b[38;5;129;01mnot\u001b[39;00m os\u001b[38;5;241m.\u001b[39mpath\u001b[38;5;241m.\u001b[39misfile(pdf_file):\n\u001b[1;32m--> 206\u001b[0m     \u001b[38;5;28;01mraise\u001b[39;00m LatexFailed(\u001b[38;5;124m\"\u001b[39m\u001b[38;5;130;01m\\n\u001b[39;00m\u001b[38;5;124m\"\u001b[39m\u001b[38;5;241m.\u001b[39mjoin(\u001b[38;5;28mself\u001b[39m\u001b[38;5;241m.\u001b[39m_captured_output))\n\u001b[0;32m    207\u001b[0m \u001b[38;5;28mself\u001b[39m\u001b[38;5;241m.\u001b[39mlog\u001b[38;5;241m.\u001b[39minfo(\u001b[38;5;124m\"\u001b[39m\u001b[38;5;124mPDF successfully created\u001b[39m\u001b[38;5;124m\"\u001b[39m)\n",
      "\u001b[1;31mLatexFailed\u001b[0m: PDF creating failed, captured latex output:\nThis is BibTeX, Version 0.99d (TeX Live 2023)\r\nThe top-level auxiliary file: notebook.aux\r\nI found no \\citation commands---while reading file notebook.aux\r\nI found no \\bibdata command---while reading file notebook.aux\r\nI found no \\bibstyle command---while reading file notebook.aux\r\n(There were 3 error messages)\r\n",
      "\nDuring handling of the above exception, another exception occurred:\n",
      "\u001b[1;31mAttributeError\u001b[0m                            Traceback (most recent call last)",
      "Cell \u001b[1;32mIn[19], line 2\u001b[0m\n\u001b[0;32m      1\u001b[0m \u001b[38;5;66;03m# Save your notebook first, then run this cell to export your submission.\u001b[39;00m\n\u001b[1;32m----> 2\u001b[0m \u001b[43mgrader\u001b[49m\u001b[38;5;241;43m.\u001b[39;49m\u001b[43mexport\u001b[49m\u001b[43m(\u001b[49m\u001b[43mrun_tests\u001b[49m\u001b[38;5;241;43m=\u001b[39;49m\u001b[38;5;28;43;01mTrue\u001b[39;49;00m\u001b[43m)\u001b[49m\n",
      "File \u001b[1;32md:\\anaconda\\envs\\newfortry\\lib\\site-packages\\otter\\check\\utils.py:184\u001b[0m, in \u001b[0;36mgrading_mode_disabled\u001b[1;34m(wrapped, self, args, kwargs)\u001b[0m\n\u001b[0;32m    182\u001b[0m \u001b[38;5;28;01mif\u001b[39;00m \u001b[38;5;28mtype\u001b[39m(\u001b[38;5;28mself\u001b[39m)\u001b[38;5;241m.\u001b[39m_grading_mode:\n\u001b[0;32m    183\u001b[0m     \u001b[38;5;28;01mreturn\u001b[39;00m\n\u001b[1;32m--> 184\u001b[0m \u001b[38;5;28;01mreturn\u001b[39;00m wrapped(\u001b[38;5;241m*\u001b[39margs, \u001b[38;5;241m*\u001b[39m\u001b[38;5;241m*\u001b[39mkwargs)\n",
      "File \u001b[1;32md:\\anaconda\\envs\\newfortry\\lib\\site-packages\\otter\\check\\utils.py:166\u001b[0m, in \u001b[0;36mincompatible_with.<locals>.incompatible\u001b[1;34m(wrapped, self, args, kwargs)\u001b[0m\n\u001b[0;32m    164\u001b[0m     \u001b[38;5;28;01melse\u001b[39;00m:\n\u001b[0;32m    165\u001b[0m         \u001b[38;5;28;01mreturn\u001b[39;00m\n\u001b[1;32m--> 166\u001b[0m \u001b[38;5;28;01mreturn\u001b[39;00m wrapped(\u001b[38;5;241m*\u001b[39margs, \u001b[38;5;241m*\u001b[39m\u001b[38;5;241m*\u001b[39mkwargs)\n",
      "File \u001b[1;32md:\\anaconda\\envs\\newfortry\\lib\\site-packages\\otter\\check\\utils.py:217\u001b[0m, in \u001b[0;36mlogs_event.<locals>.event_logger\u001b[1;34m(wrapped, self, args, kwargs)\u001b[0m\n\u001b[0;32m    215\u001b[0m \u001b[38;5;28;01mexcept\u001b[39;00m \u001b[38;5;167;01mException\u001b[39;00m \u001b[38;5;28;01mas\u001b[39;00m e:\n\u001b[0;32m    216\u001b[0m     \u001b[38;5;28mself\u001b[39m\u001b[38;5;241m.\u001b[39m_log_event(event_type, success\u001b[38;5;241m=\u001b[39m\u001b[38;5;28;01mFalse\u001b[39;00m, error\u001b[38;5;241m=\u001b[39me)\n\u001b[1;32m--> 217\u001b[0m     \u001b[38;5;28;01mraise\u001b[39;00m e\n\u001b[0;32m    219\u001b[0m \u001b[38;5;28;01mif\u001b[39;00m ret \u001b[38;5;129;01mis\u001b[39;00m \u001b[38;5;28;01mNone\u001b[39;00m:\n\u001b[0;32m    220\u001b[0m     ret \u001b[38;5;241m=\u001b[39m LoggedEventReturnValue(\u001b[38;5;28;01mNone\u001b[39;00m)\n",
      "File \u001b[1;32md:\\anaconda\\envs\\newfortry\\lib\\site-packages\\otter\\check\\utils.py:213\u001b[0m, in \u001b[0;36mlogs_event.<locals>.event_logger\u001b[1;34m(wrapped, self, args, kwargs)\u001b[0m\n\u001b[0;32m    208\u001b[0m \u001b[38;5;250m\u001b[39m\u001b[38;5;124;03m\"\"\"\u001b[39;00m\n\u001b[0;32m    209\u001b[0m \u001b[38;5;124;03mRuns a method, catching any errors and logging the call. Returns the unwrapped return value\u001b[39;00m\n\u001b[0;32m    210\u001b[0m \u001b[38;5;124;03mof the wrapped function.\u001b[39;00m\n\u001b[0;32m    211\u001b[0m \u001b[38;5;124;03m\"\"\"\u001b[39;00m\n\u001b[0;32m    212\u001b[0m \u001b[38;5;28;01mtry\u001b[39;00m:\n\u001b[1;32m--> 213\u001b[0m     ret: Optional[LoggedEventReturnValue[T]] \u001b[38;5;241m=\u001b[39m wrapped(\u001b[38;5;241m*\u001b[39margs, \u001b[38;5;241m*\u001b[39m\u001b[38;5;241m*\u001b[39mkwargs)\n\u001b[0;32m    215\u001b[0m \u001b[38;5;28;01mexcept\u001b[39;00m \u001b[38;5;167;01mException\u001b[39;00m \u001b[38;5;28;01mas\u001b[39;00m e:\n\u001b[0;32m    216\u001b[0m     \u001b[38;5;28mself\u001b[39m\u001b[38;5;241m.\u001b[39m_log_event(event_type, success\u001b[38;5;241m=\u001b[39m\u001b[38;5;28;01mFalse\u001b[39;00m, error\u001b[38;5;241m=\u001b[39me)\n",
      "File \u001b[1;32md:\\anaconda\\envs\\newfortry\\lib\\site-packages\\otter\\check\\notebook.py:462\u001b[0m, in \u001b[0;36mNotebook.export\u001b[1;34m(self, nb_path, export_path, pdf, filtering, pagebreaks, files, display_link, force_save, run_tests)\u001b[0m\n\u001b[0;32m    460\u001b[0m pdf_created \u001b[38;5;241m=\u001b[39m \u001b[38;5;28;01mTrue\u001b[39;00m\n\u001b[0;32m    461\u001b[0m \u001b[38;5;28;01mif\u001b[39;00m pdf:\n\u001b[1;32m--> 462\u001b[0m     pdf_path \u001b[38;5;241m=\u001b[39m \u001b[43mexport_notebook\u001b[49m\u001b[43m(\u001b[49m\u001b[43mnb_path\u001b[49m\u001b[43m,\u001b[49m\u001b[43m \u001b[49m\u001b[43mfiltering\u001b[49m\u001b[38;5;241;43m=\u001b[39;49m\u001b[43mfiltering\u001b[49m\u001b[43m,\u001b[49m\u001b[43m \u001b[49m\u001b[43mpagebreaks\u001b[49m\u001b[38;5;241;43m=\u001b[39;49m\u001b[43mpagebreaks\u001b[49m\u001b[43m)\u001b[49m\n\u001b[0;32m    463\u001b[0m     \u001b[38;5;28;01mif\u001b[39;00m os\u001b[38;5;241m.\u001b[39mpath\u001b[38;5;241m.\u001b[39misfile(pdf_path):\n\u001b[0;32m    464\u001b[0m         pdf_created \u001b[38;5;241m=\u001b[39m \u001b[38;5;28;01mTrue\u001b[39;00m\n",
      "File \u001b[1;32md:\\anaconda\\envs\\newfortry\\lib\\site-packages\\otter\\export\\__init__.py:36\u001b[0m, in \u001b[0;36mexport_notebook\u001b[1;34m(nb_path, dest, exporter_type, **kwargs)\u001b[0m\n\u001b[0;32m     33\u001b[0m     pdf_name \u001b[38;5;241m=\u001b[39m os\u001b[38;5;241m.\u001b[39mpath\u001b[38;5;241m.\u001b[39msplitext(nb_path)[\u001b[38;5;241m0\u001b[39m] \u001b[38;5;241m+\u001b[39m \u001b[38;5;124m\"\u001b[39m\u001b[38;5;124m.pdf\u001b[39m\u001b[38;5;124m\"\u001b[39m\n\u001b[0;32m     35\u001b[0m Exporter \u001b[38;5;241m=\u001b[39m get_exporter(exporter_type\u001b[38;5;241m=\u001b[39mexporter_type)\n\u001b[1;32m---> 36\u001b[0m Exporter\u001b[38;5;241m.\u001b[39mconvert_notebook(nb_path, pdf_name, \u001b[38;5;241m*\u001b[39m\u001b[38;5;241m*\u001b[39mkwargs)\n\u001b[0;32m     38\u001b[0m \u001b[38;5;28;01mreturn\u001b[39;00m pdf_name\n",
      "File \u001b[1;32md:\\anaconda\\envs\\newfortry\\lib\\site-packages\\otter\\export\\exporters\\via_latex.py:70\u001b[0m, in \u001b[0;36mPDFViaLatexExporter.convert_notebook\u001b[1;34m(cls, nb_path, dest, xecjk, **kwargs)\u001b[0m\n\u001b[0;32m     67\u001b[0m     \u001b[38;5;28;01mwith\u001b[39;00m \u001b[38;5;28mopen\u001b[39m(dest, \u001b[38;5;124m\"\u001b[39m\u001b[38;5;124mwb\u001b[39m\u001b[38;5;124m\"\u001b[39m) \u001b[38;5;28;01mas\u001b[39;00m output_file:\n\u001b[0;32m     68\u001b[0m         output_file\u001b[38;5;241m.\u001b[39mwrite(pdf_output[\u001b[38;5;241m0\u001b[39m])\n\u001b[1;32m---> 70\u001b[0m \u001b[38;5;28;01mexcept\u001b[39;00m \u001b[43mnbconvert\u001b[49m\u001b[38;5;241;43m.\u001b[39;49m\u001b[43mpdf\u001b[49m\u001b[38;5;241m.\u001b[39mLatexFailed \u001b[38;5;28;01mas\u001b[39;00m error:\n\u001b[0;32m     71\u001b[0m     message \u001b[38;5;241m=\u001b[39m \u001b[38;5;124m\"\u001b[39m\u001b[38;5;124mThere was an error generating your LaTeX; showing full error message:\u001b[39m\u001b[38;5;130;01m\\n\u001b[39;00m\u001b[38;5;124m\"\u001b[39m\n\u001b[0;32m     72\u001b[0m     message \u001b[38;5;241m+\u001b[39m\u001b[38;5;241m=\u001b[39m indent(error\u001b[38;5;241m.\u001b[39moutput, \u001b[38;5;124m\"\u001b[39m\u001b[38;5;124m    \u001b[39m\u001b[38;5;124m\"\u001b[39m)\n",
      "\u001b[1;31mAttributeError\u001b[0m: module 'nbconvert' has no attribute 'pdf'"
     ]
    }
   ],
   "source": [
    "# Save your notebook first, then run this cell to export your submission.\n",
    "grader.export(run_tests=True)"
   ]
  },
  {
   "cell_type": "markdown",
   "metadata": {},
   "source": [
    " "
   ]
  }
 ],
 "metadata": {
  "kernelspec": {
   "display_name": "Python 3",
   "language": "python",
   "name": "python3"
  },
  "language_info": {
   "codemirror_mode": {
    "name": "ipython",
    "version": 3
   },
   "file_extension": ".py",
   "mimetype": "text/x-python",
   "name": "python",
   "nbconvert_exporter": "python",
   "pygments_lexer": "ipython3",
   "version": "3.9.18"
  },
  "otter": {
   "OK_FORMAT": true,
   "assignment_name": "labs01",
   "tests": {
    "p1_1": {
     "name": "p1_1",
     "points": 20,
     "suites": [
      {
       "cases": [
        {
         "code": ">>> df['age'][2] == 41 and df['balance'][48] == 1443\nTrue",
         "hidden": false,
         "locked": false
        },
        {
         "code": ">>> abs(svc_simple_score - 0.7357814599193909) < 0.01\nTrue",
         "hidden": false,
         "locked": false
        }
       ],
       "scored": true,
       "setup": "",
       "teardown": "",
       "type": "doctest"
      }
     ]
    },
    "p1_2": {
     "name": "p1_2",
     "points": 20,
     "suites": [
      {
       "cases": [
        {
         "code": ">>> svc_score - svc_simple_score>=0\nTrue",
         "hidden": false,
         "locked": false
        },
        {
         "code": ">>> lr_score - lr_simple_score>=0\nTrue",
         "hidden": false,
         "locked": false
        }
       ],
       "scored": true,
       "setup": "",
       "teardown": "",
       "type": "doctest"
      }
     ]
    },
    "p2_1": {
     "name": "p2_1",
     "points": 10,
     "suites": [
      {
       "cases": [
        {
         "code": ">>> num_features = 5\n>>> num_samples = 10\n>>> np.random.seed(rng_seed)\n>>> dummy_weights = np.random.rand(num_features)\n>>> dummy_X = np.random.rand(num_samples, num_features)\n>>> dummy_y = np.random.randint(0, 2, num_samples)\n>>> \n>>> initial_loss = loss_function(dummy_X, dummy_y, dummy_weights)\n>>> abs(initial_loss - 0.9160538386731103) < 0.0001\nTrue",
         "hidden": false,
         "locked": false
        }
       ],
       "scored": true,
       "setup": "",
       "teardown": "",
       "type": "doctest"
      }
     ]
    },
    "p2_2": {
     "name": "p2_2",
     "points": 10,
     "suites": [
      {
       "cases": [
        {
         "code": ">>> num_features = 5\n>>> num_samples = 10\n>>> np.random.seed(rng_seed)\n>>> dummy_weights = np.random.rand(num_features)\n>>> dummy_X = np.random.rand(num_samples, num_features)\n>>> dummy_y = np.random.randint(0, 2, num_samples)\n>>> \n>>> initial_gradient = gradient(dummy_X, dummy_y, dummy_weights)\n>>> abs(initial_gradient.sum() - 0.7627876529375204) < 0.0001\nTrue",
         "hidden": false,
         "locked": false
        }
       ],
       "scored": true,
       "setup": "",
       "teardown": "",
       "type": "doctest"
      }
     ]
    },
    "p2_3": {
     "name": "p2_3",
     "points": 10,
     "suites": [
      {
       "cases": [
        {
         "code": ">>> abs(loss_history[0]-0.6933603914753861) < 0.0001\nTrue",
         "hidden": false,
         "locked": false
        },
        {
         "code": ">>> abs(loss_history[1]-0.6931379470500929) < 0.0001\nTrue",
         "hidden": false,
         "locked": false
        },
        {
         "code": ">>> abs(len(loss_history)-13800) < 0.0001\nTrue",
         "hidden": false,
         "locked": false
        }
       ],
       "scored": true,
       "setup": "",
       "teardown": "",
       "type": "doctest"
      }
     ]
    },
    "p2_4": {
     "name": "p2_4",
     "points": 10,
     "suites": [
      {
       "cases": [
        {
         "code": ">>> x_train.shape == (8929, 51)\nTrue",
         "hidden": false,
         "locked": false
        },
        {
         "code": ">>> abs(float(final_weights[0]) - (-0.041616572346357336)) < 0.0001\nTrue",
         "hidden": false,
         "locked": false
        },
        {
         "code": ">>> abs(loss_history[0] - 0.6898603068851875) < 0.0001\nTrue",
         "hidden": false,
         "locked": false
        }
       ],
       "scored": true,
       "setup": "",
       "teardown": "",
       "type": "doctest"
      }
     ]
    }
   }
  }
 },
 "nbformat": 4,
 "nbformat_minor": 4
}
