{
 "cells": [
  {
   "cell_type": "code",
   "execution_count": 1,
   "metadata": {
    "deletable": false,
    "editable": false
   },
   "outputs": [],
   "source": [
    "# Initialize Otter\n",
    "import otter\n",
    "grader = otter.Notebook(\"2022201538.ipynb\")"
   ]
  },
  {
   "attachments": {},
   "cell_type": "markdown",
   "metadata": {},
   "source": [
    "# 1 用户存款行为预测"
   ]
  },
  {
   "cell_type": "markdown",
   "metadata": {},
   "source": [
    "### 数据集\n",
    "\n",
    "银行营销数据集"
   ]
  },
  {
   "cell_type": "markdown",
   "metadata": {},
   "source": [
    "#### 背景介绍\n",
    "\n",
    "金融机构为了在下一次营销活动寻找最佳的改进策略，探寻如何在未来的营销活动中发挥更大的效力。为了解决这个问题，数据分析师必须分析该银行最近开展的营销活动，通过之前活动的情况预测用户是否会参加之后的营销活动。\n",
    "\n",
    "#### 特征介绍\n",
    "\n",
    "##### 个人信息相关\n",
    "1 - age : 年龄 (数值列)\n",
    "\n",
    "2 - job : 职业的种类(类别列: 'admin.','blue-collar','entrepreneur','housemaid','management','retired','self-employed','services','student','technician','unemployed','unknown')\n",
    "\n",
    "3 - marital : 婚姻状况 (类别列: 'divorced','married','single','unknown')\n",
    "\n",
    "4 - education : 受教育情况(类别列: \n",
    "'basic.4y','basic.6y','basic.9y','high.school','illiterate','professional.course','university.degree','unknown')\n",
    "\n",
    "5 - default: 是否信用违约 (类别列: 'no','yes','unknown')\n",
    "\n",
    "6 - balance: 余额 (数值列)\n",
    "\n",
    "7 - housing: 是否有住房贷款(类别列: 'no','yes','unknown')\n",
    "\n",
    "8 - loan: 是否有个人贷款? (类别列: 'no','yes','unknown')\n",
    "\n",
    "\n",
    "\n",
    "##### 与当前营销活动的最后一次联系：\n",
    "9 - contact: 联系人通信类型 (类别列: 'cellular','telephone')\n",
    "\n",
    "10 - month: 最后一次联系的月份 (类别列: 'jan', 'feb', 'mar', ..., 'nov', 'dec')\n",
    "\n",
    "11 - day: 最后一次联系在星期几？ (类别列: 'mon','tue','wed','thu','fri')\n",
    "\n",
    "12 - duration: 最后一次联系的时长, 单位秒 (数值列). \n",
    "\n",
    "##### 其他的一些特征：\n",
    "13 - campaign: 此活动期间和此客户的联系人数 (数值列)\n",
    "\n",
    "14 - pdays: 上次活动中联系客户后经过的天数 (数值列; 999 表示近期无联系)\n",
    "\n",
    "15 - previous: 此活动之前和此客户端执行的联系人数 (数值列)\n",
    "\n",
    "16 - poutcome: 上一次营销活动的结果 (类别列: 'failure','nonexistent','success')"
   ]
  },
  {
   "cell_type": "markdown",
   "metadata": {},
   "source": [
    "\n",
    "\n",
    "\n",
    "### 目标\n",
    "\n",
    "##### 预测定期存款额度\n",
    "\n",
    "17 - deposit: 是否会存款 (类别列: 'yes','no')\n",
    "\n",
    "\n",
    "- 数据来源：https://www.kaggle.com/datasets/janiobachmann/bank-marketing-dataset"
   ]
  },
  {
   "cell_type": "markdown",
   "metadata": {},
   "source": [
    "## 1.1 环境导入和数据准备"
   ]
  },
  {
   "cell_type": "code",
   "execution_count": 2,
   "metadata": {},
   "outputs": [],
   "source": [
    "import numpy as np\n",
    "import pandas as pd\n",
    "from sklearn.preprocessing import LabelEncoder\n",
    "from sklearn.metrics import accuracy_score\n",
    "from sklearn.model_selection import train_test_split\n",
    "from sklearn.svm import SVC \n",
    "from sklearn.linear_model import LogisticRegression\n",
    "rng_seed = 44"
   ]
  },
  {
   "cell_type": "code",
   "execution_count": 3,
   "metadata": {},
   "outputs": [
    {
     "name": "stdout",
     "output_type": "stream",
     "text": [
      "<class 'pandas.core.frame.DataFrame'>\n",
      "RangeIndex: 11162 entries, 0 to 11161\n",
      "Data columns (total 17 columns):\n",
      " #   Column     Non-Null Count  Dtype \n",
      "---  ------     --------------  ----- \n",
      " 0   age        11162 non-null  int64 \n",
      " 1   job        11162 non-null  object\n",
      " 2   marital    11162 non-null  object\n",
      " 3   education  11162 non-null  object\n",
      " 4   default    11162 non-null  object\n",
      " 5   balance    11162 non-null  int64 \n",
      " 6   housing    11162 non-null  object\n",
      " 7   loan       11162 non-null  object\n",
      " 8   contact    11162 non-null  object\n",
      " 9   day        11162 non-null  int64 \n",
      " 10  month      11162 non-null  object\n",
      " 11  duration   11162 non-null  int64 \n",
      " 12  campaign   11162 non-null  int64 \n",
      " 13  pdays      11162 non-null  int64 \n",
      " 14  previous   11162 non-null  int64 \n",
      " 15  poutcome   11162 non-null  object\n",
      " 16  deposit    11162 non-null  object\n",
      "dtypes: int64(7), object(10)\n",
      "memory usage: 1.4+ MB\n"
     ]
    }
   ],
   "source": [
    "df=pd.read_csv(\"bank.csv\")\n",
    "df.info()"
   ]
  },
  {
   "cell_type": "code",
   "execution_count": 4,
   "metadata": {},
   "outputs": [
    {
     "name": "stdout",
     "output_type": "stream",
     "text": [
      "11162\n"
     ]
    }
   ],
   "source": [
    "from sklearn.preprocessing import LabelEncoder\n",
    "x = df.iloc[:,:-1]\n",
    "y = df.iloc[:,-1]\n",
    "\n",
    "print(len(x))\n",
    "x_simple_prepared = pd.get_dummies(x.copy())\n",
    "\n",
    "lbe =  LabelEncoder()\n",
    "lbe.fit(y)\n",
    "y = lbe.transform(y)"
   ]
  },
  {
   "cell_type": "markdown",
   "metadata": {
    "deletable": false,
    "editable": false
   },
   "source": [
    "## 1.2 模型的训练和评估(20分)"
   ]
  },
  {
   "cell_type": "code",
   "execution_count": 5,
   "metadata": {
    "tags": []
   },
   "outputs": [
    {
     "name": "stdout",
     "output_type": "stream",
     "text": [
      "svc accuracy: 0.7357814599193909\n",
      "lr accuracy: 0.8248992386923422\n"
     ]
    }
   ],
   "source": [
    "np.random.seed(rng_seed)\n",
    "# 利用get_dummies()方法对x进行编码\n",
    "x = df.iloc[:,:-1]\n",
    "y = df.iloc[:,-1]\n",
    "x_simple_prepared = pd.get_dummies(x.copy())\n",
    "# 利用LabelEncoder()方法对y进行编码\n",
    "lbe =  LabelEncoder()\n",
    "lbe.fit(y)\n",
    "y = lbe.transform(y)\n",
    "\n",
    "np.random.seed(rng_seed)\n",
    "# 划分train, test数据集\n",
    "x_train, x_test, y_train, y_test = train_test_split(x_simple_prepared, y, train_size=0.8, test_size=1-0.8, random_state=0)\n",
    "# 训练SVC模型\n",
    "svc_model = SVC(random_state=0, probability=True)\n",
    "# 进行预测\n",
    "svc_simple_score = accuracy_score(y_test, svc_model.fit(x_train, y_train).predict(x_test))\n",
    "# 训练 LR 模型\n",
    "lr_model = LogisticRegression(random_state=0, max_iter=10000)\n",
    "# 进行预测\n",
    "lr_simple_score = accuracy_score(y_test, lr_model.fit(x_train, y_train).predict(x_test))\n",
    "print('svc accuracy:', svc_simple_score)\n",
    "print('lr accuracy:', lr_simple_score)"
   ]
  },
  {
   "cell_type": "code",
   "execution_count": 6,
   "metadata": {
    "deletable": false,
    "editable": false
   },
   "outputs": [
    {
     "data": {
      "text/html": [
       "<p><strong><pre style='display: inline;'>p1_1</pre></strong> passed! 🌈</p>"
      ],
      "text/plain": [
       "p1_1 results: All test cases passed!"
      ]
     },
     "execution_count": 6,
     "metadata": {},
     "output_type": "execute_result"
    }
   ],
   "source": [
    "grader.check(\"p1_1\")"
   ]
  },
  {
   "cell_type": "markdown",
   "metadata": {
    "deletable": false,
    "editable": false
   },
   "source": [
    "## 1.3 数据预处理和再训练(20分)"
   ]
  },
  {
   "cell_type": "markdown",
   "metadata": {
    "deletable": false,
    "editable": false
   },
   "source": [
    "**数据预处理**可以参考的数据准备操作：https://scikit-learn.org/stable/modules/preprocessing.html#preprocessing\n",
    "* 针对`x_train`, `y_train`, `x_test`, `y_test`使用数据准备操作，但要保证\n",
    "  * 不能增加或删减`x_test`和`y_test`的行，但可以对它们进行变换\n",
    "  * 可以对`x_train`和`y_train`做任何操作"
   ]
  },
  {
   "cell_type": "code",
   "execution_count": 7,
   "metadata": {
    "tags": []
   },
   "outputs": [
    {
     "name": "stdout",
     "output_type": "stream",
     "text": [
      "svc accuracy: 0.8181818181818182\n",
      "lr accuracy: 0.8325123152709359\n"
     ]
    }
   ],
   "source": [
    "# 数据预处理\n",
    "np.random.seed(rng_seed) \n",
    "# 划分train, test数据集 \n",
    "x_train, x_test, y_train, y_test = train_test_split(x_simple_prepared, y, train_size=0.8, test_size=1-0.8, random_state=0)\n",
    "from sklearn.preprocessing import StandardScaler\n",
    "from sklearn.impute import SimpleImputer\n",
    "from sklearn.decomposition import PCA\n",
    "# 处理异常值\n",
    "x_train, x_test, y_train, y_test = train_test_split(x_simple_prepared, y, train_size=0.8, test_size=1-0.8, random_state=0)\n",
    "scaler = StandardScaler()\n",
    "scaler.fit(x_train)\n",
    "x_train1 = scaler.transform(x_train)\n",
    "scaler.fit(x_test)\n",
    "x_test1 = scaler.transform(x_test)\n",
    "threshold = 4\n",
    "is_outlier =(x_train1> threshold) | (x_train1 < -threshold)\n",
    "# 将异常值替换为缺失值，并进行插补\n",
    "imputer = SimpleImputer(strategy='mean')\n",
    "x_train_no_outlier= imputer.fit_transform(np.where(is_outlier, np.nan, x_train1))\n",
    "x_test_no_outlier = imputer.transform(np.where((x_test1> threshold) | (x_test1 < -threshold), np.nan, x_test1))\n",
    "pca = PCA(n_components=20)\n",
    "x_train_no_outlier = pca.fit_transform(x_train_no_outlier)\n",
    "x_test_no_outlier = pca.transform(x_test_no_outlier)\n",
    "# 分离特征和标签，对标签做编码\n",
    "x_train_no_outlier = pd.DataFrame(x_train_no_outlier )\n",
    "x_test_no_outlier = pd.DataFrame(x_test_no_outlier)\n",
    "\n",
    "# 对特征做编码\n",
    "x_train_no_outlier = pd.get_dummies(x_train_no_outlier)\n",
    "x_test_no_outlier = pd.get_dummies(x_test_no_outlier)\n",
    "# 对特征做归一化\n",
    "scaler = StandardScaler()\n",
    "scaler.fit(x_train_no_outlier)\n",
    "x_train_no_outlier = scaler.transform(x_train_no_outlier)\n",
    "x_test_no_outlier = scaler.transform(x_test_no_outlier)\n",
    "\n",
    "#对特征做特征工程\n",
    "# 特征工程\n",
    "from sklearn.preprocessing import PolynomialFeatures\n",
    "poly = PolynomialFeatures(degree=2)\n",
    "x_train_no_outlier = poly.fit_transform(x_train_no_outlier)\n",
    "x_test_no_outlier = poly.transform(x_test_no_outlier)\n",
    "np.random.seed(rng_seed)\n",
    "# 训练SVC模型，处理完数据后，再次训练，你需要得到一个svc_score的指标\n",
    "svc_new_model=SVC(random_state=0, probability=True)\n",
    "svc_score=accuracy_score(y_test, svc_new_model.fit(x_train_no_outlier, y_train).predict(x_test_no_outlier))\n",
    "#训练LR模型\n",
    "lr_new_model=LogisticRegression(random_state=0, max_iter=1000)\n",
    "lr_score=accuracy_score(y_test, lr_new_model.fit(x_train_no_outlier, y_train).predict(x_test_no_outlier))\n",
    "print('svc accuracy:', svc_score)\n",
    "print('lr accuracy:', lr_score)"
   ]
  },
  {
   "cell_type": "code",
   "execution_count": 8,
   "metadata": {
    "deletable": false,
    "editable": false
   },
   "outputs": [
    {
     "data": {
      "text/html": [
       "<p><strong><pre style='display: inline;'>p1_2</pre></strong> passed! 🌟</p>"
      ],
      "text/plain": [
       "p1_2 results: All test cases passed!"
      ]
     },
     "execution_count": 8,
     "metadata": {},
     "output_type": "execute_result"
    }
   ],
   "source": [
    "grader.check(\"p1_2\")"
   ]
  },
  {
   "cell_type": "markdown",
   "metadata": {},
   "source": [
    "# 2 逻辑回归分类器的实现"
   ]
  },
  {
   "cell_type": "markdown",
   "metadata": {
    "deletable": false,
    "editable": false
   },
   "source": [
    "## 2.1 确定优化目标(10分)"
   ]
  },
  {
   "attachments": {},
   "cell_type": "markdown",
   "metadata": {
    "deletable": false,
    "editable": false
   },
   "source": [
    "我们采用二元交叉熵作为损失函数，具体的推理过程可参考主课[Lec09](../../Lectures/Lec09/)\n",
    "\n",
    "$J(\\theta) = -\\frac{1}{m} \\sum_{i=1}^{m} \\left[ y^{(i)} \\log(\\hat{y}^{(i)}) + (1 - y^{(i)}) \\log(1 - \\hat{y}^{(i)}) \\right]$\n",
    "\n",
    "* $J(\\theta)$是损失函数\n",
    "* $m$是样本数量\n",
    "* $y^{(i)}$是第$i$个样本的真实标签\n",
    "* $\\hat{y}^{(i)}$是预测概率\n",
    "* $\\theta$是权重向量"
   ]
  },
  {
   "cell_type": "code",
   "execution_count": 9,
   "metadata": {
    "tags": []
   },
   "outputs": [],
   "source": [
    "np.random.seed(rng_seed)\n",
    "# 实现损失函数\n",
    "def sigmoid(z):\n",
    "    return 1 / (1 + np.exp(-z))\n",
    "\n",
    "def logistic_loss(y, y_hat):\n",
    "    logistic_loss = -np.sum(y * np.log(y_hat) + (1 - y) * np.log(1 - y_hat))\n",
    "    logistic_loss = logistic_loss / len(y)\n",
    "    \n",
    "    return logistic_loss\n",
    "\n",
    "def loss_function(X, y, weights):\n",
    "    \n",
    "\n",
    "    z = np.dot(X, weights)\n",
    "    y_hat = sigmoid(z)\n",
    "    loss = logistic_loss(y, y_hat)\n",
    "    return loss"
   ]
  },
  {
   "cell_type": "code",
   "execution_count": 10,
   "metadata": {
    "deletable": false,
    "editable": false
   },
   "outputs": [
    {
     "data": {
      "text/html": [
       "<p><strong><pre style='display: inline;'>p2_1</pre></strong> passed! 💯</p>"
      ],
      "text/plain": [
       "p2_1 results: All test cases passed!"
      ]
     },
     "execution_count": 10,
     "metadata": {},
     "output_type": "execute_result"
    }
   ],
   "source": [
    "grader.check(\"p2_1\")"
   ]
  },
  {
   "cell_type": "markdown",
   "metadata": {
    "deletable": false,
    "editable": false
   },
   "source": [
    "## 2.2 计算优化目标的梯度(10分)\n",
    "请根据上述目标计算梯度，并将梯度公式填写如下"
   ]
  },
  {
   "cell_type": "markdown",
   "metadata": {
    "deletable": false,
    "editable": false
   },
   "source": [
    "$\\nabla_{\\theta} J(\\theta) = \\frac{1}{m} X^T (\\hat{y} - y)$\n",
    "\n",
    "请根据给出的公式，填写梯度函数"
   ]
  },
  {
   "cell_type": "code",
   "execution_count": 11,
   "metadata": {
    "tags": []
   },
   "outputs": [],
   "source": [
    "np.random.seed(rng_seed)\n",
    "# 实现梯度函数\n",
    "def gradient(X, y, weights):\n",
    "    z = np.dot(X, weights)\n",
    "    y_hat = sigmoid(z)\n",
    "    gradient = np.dot(X.T, y_hat - y) / X.shape[0]\n",
    "    return gradient"
   ]
  },
  {
   "cell_type": "code",
   "execution_count": 12,
   "metadata": {
    "deletable": false,
    "editable": false
   },
   "outputs": [
    {
     "data": {
      "text/html": [
       "<p><strong><pre style='display: inline;'>p2_2</pre></strong> passed! ✨</p>"
      ],
      "text/plain": [
       "p2_2 results: All test cases passed!"
      ]
     },
     "execution_count": 12,
     "metadata": {},
     "output_type": "execute_result"
    }
   ],
   "source": [
    "grader.check(\"p2_2\")"
   ]
  },
  {
   "cell_type": "markdown",
   "metadata": {
    "deletable": false,
    "editable": false
   },
   "source": [
    "## 2.3 使用随机梯度下降（SGD）进行优化(10分)\n",
    "\n",
    "权重更新的数学表示为：\n",
    "\n",
    "$\\theta = \\theta - \\alpha \\nabla_{\\theta} J(\\theta)$"
   ]
  },
  {
   "cell_type": "code",
   "execution_count": 13,
   "metadata": {
    "tags": []
   },
   "outputs": [],
   "source": [
    "def stochastic_gradient_descent(X, y, weights, learning_rate=0.01, num_iterations=100):\n",
    "    m = y.size\n",
    "    loss_history = []\n",
    "    \n",
    "    for i in range(num_iterations):\n",
    "        for j in range(m):\n",
    "            # 随机选择一个数据点\n",
    "            idx = np.random.randint(m)\n",
    "            X_i = X[idx, :].reshape(1, -1)\n",
    "            y_i = y[idx]\n",
    "            # 计算梯度并更新权重\n",
    "            grad =gradient(X_i, y_i, weights)\n",
    "            weights -= learning_rate * grad\n",
    "            \n",
    "            # 计算并记录损失，用于监控\n",
    "            loss = loss_function(X, y, weights)\n",
    "            if(loss==np.nan):\n",
    "                print(i,j)\n",
    "            loss_history.append(loss)\n",
    "    return weights, loss_history"
   ]
  },
  {
   "cell_type": "code",
   "execution_count": 14,
   "metadata": {
    "deletable": false,
    "editable": false
   },
   "outputs": [
    {
     "data": {
      "text/html": [
       "<p><strong><pre style='display: inline;'>p2_3</pre></strong> passed! 🌟</p>"
      ],
      "text/plain": [
       "p2_3 results: All test cases passed!"
      ]
     },
     "execution_count": 14,
     "metadata": {},
     "output_type": "execute_result"
    }
   ],
   "source": [
    "grader.check(\"p2_3\")"
   ]
  },
  {
   "cell_type": "markdown",
   "metadata": {
    "deletable": false,
    "editable": false
   },
   "source": [
    "## 2.4 训练与评测(10分)\n",
    "\n",
    "* 使用上面实现的函数训练一个LR分类器\n",
    "* 为了保证结果方便测试..."
   ]
  },
  {
   "cell_type": "code",
   "execution_count": 15,
   "metadata": {
    "deletable": false,
    "editable": false
   },
   "outputs": [],
   "source": [
    "# 得到初始的x_train, x_test\n",
    "\n",
    "x_simple_prepared = pd.get_dummies(x.copy())\n",
    "\n",
    "lbe = LabelEncoder()\n",
    "lbe.fit(y)\n",
    "y = lbe.transform(y)\n",
    "np.random.seed(rng_seed)\n",
    "\n",
    "# 划分train，test数据集\n",
    "x_train, x_test, y_train, y_test = train_test_split(x_simple_prepared, y, train_size=0.8, test_size=1-0.8, random_state=0)\n",
    "x_train = x_train.values\n",
    "x_test = x_test.values\n",
    "x_train = np.where(x_train == True, 1, x_train)\n",
    "x_train = np.where(x_train == False, 0, x_train)\n",
    "x_test = np.where(x_test == True, 1, x_test)\n",
    "x_test = np.where(x_test == False, 0, x_test)\n",
    "x_train = x_train.astype(np.float64)\n",
    "x_test = x_test.astype(np.float64)\n"
   ]
  },
  {
   "cell_type": "code",
   "execution_count": 16,
   "metadata": {
    "tags": []
   },
   "outputs": [],
   "source": [
    "from sklearn.metrics import classification_report\n",
    "def predict(X, weights):\n",
    "    # 根据给定的权重，预测数据集X的标签\n",
    "    z = np.dot(X, weights)\n",
    "    z=sigmoid(z)\n",
    "    predictions = (z >= 0.5).astype(int)\n",
    "    return predictions  # 预测概率大于等于0.5视为类别1，否则为类别0\n",
    "    \n",
    "num_features = x_train.shape[1]\n",
    "np.random.seed(rng_seed)\n",
    "\n",
    "# 标准化x_train和x_test，公式如下\n",
    "# x = (x-mean(x))/std(x)\n",
    "x_train=(x_train-np.mean(x_train,axis=0))/(np.std(x_train,axis=0))\n",
    "x_test=(x_test-np.mean(x_test,axis=0))/np.std(x_test,axis=0)\n",
    "# x_train=(x_train-x_train.mean())/(x_train.std())\n",
    "# x_test=(x_test-x_test.mean())/(x_test.std())\n",
    "# weight初始化为0\n",
    "weights = np.zeros(num_features)\n",
    "learning_rate = 0.01\n",
    "num_iterations = 10\n",
    "final_weights, loss_history = stochastic_gradient_descent(x_train, y_train, weights, learning_rate, num_iterations)\n",
    "\n",
    "predictions = predict(x_test, final_weights)\n",
    "\n",
    "accuracy = accuracy_score(y_test, predictions)\n",
    "report = classification_report(y_test, predictions)"
   ]
  },
  {
   "cell_type": "code",
   "execution_count": 17,
   "metadata": {
    "deletable": false,
    "editable": false
   },
   "outputs": [
    {
     "data": {
      "text/html": [
       "<p><strong><pre style='display: inline;'>p2_4</pre></strong> passed! 🌟</p>"
      ],
      "text/plain": [
       "p2_4 results: All test cases passed!"
      ]
     },
     "execution_count": 17,
     "metadata": {},
     "output_type": "execute_result"
    }
   ],
   "source": [
    "grader.check(\"p2_4\")"
   ]
  },
  {
   "cell_type": "markdown",
   "metadata": {},
   "source": [
    "# 3 基于实验结果的分析与研讨\n",
    "\n",
    "请对本次作业做出总结：\n",
    "\n",
    "- (1) 你采用的**数据预处理操作**是否提升了模型的accuracy(5分)?如果有提高，请给出提高的具体数值，并分析提升的原因(15分)。\n",
    "- (2) 针对复现的逻辑回归模型，它和直接使用sklearn的精度差距为多大(10分)？请分析其背后的原因(10分)。"
   ]
  },
  {
   "cell_type": "markdown",
   "metadata": {},
   "source": [
    "<font color='green'>**答:**</font>\n",
    "(1)有提升。  \n",
    "对于SVC模型，提高了0.0824。  \n",
    "对于LR模型，提高了0.0076。  \n",
    "\n",
    "原因：\n",
    "1. 标准化之后去除了4倍 $\\sigma$ 之外的异常值，用训练集的`平均值`作为替代。  \n",
    "2. 原数据经过one hot编码之后是五十多维，比较稀疏，使用PCA降维到20维，减少了维度，从而降低了计算复杂性并尽量去除数据的噪声。\n",
    "3. 为了提高拟合效果，在特征工程阶段用了`PolynomialFeatures `，用二次多项式进行拟合。\n",
    "在此过程中对各个参数都进行了调整，包括：  \n",
    "* 去除异常值时选择几倍 $ \\sigma$ ；\n",
    "* 使用平均值，中位数或是众数进行替代 ； \n",
    "* PCA降维到10，20还是40；\n",
    "* 多项式拟合次数的选择等。 \n",
    "最终选择到了一组比较优的参数。  \n",
    "（2）精度差距为：0.0076。  \n",
    "原因分析：  \n",
    "1. 可能是由于sklearn默认预定义超参数与复现中不同。\n",
    "2. 可能是由于sklearn默认对数据进行了一些特征工程的预处理操作。\n",
    "3. 可能是由于sklearn中有用到正则化防止过拟合。\n",
    "4. 可能是由于迭代次数与收敛条件设置的差别。\n"
   ]
  },
  {
   "cell_type": "markdown",
   "metadata": {
    "deletable": false,
    "editable": false
   },
   "source": [
    "## Submission\n",
    "\n",
    "Make sure you have run all cells in your notebook in order before running the cell below, so that all images/graphs appear in the output. The cell below will generate a zip file for you to submit. **Please save before exporting!**\n",
    "\n",
    "These are some submission instructions."
   ]
  },
  {
   "cell_type": "code",
   "execution_count": 18,
   "metadata": {
    "deletable": false,
    "editable": false
   },
   "outputs": [],
   "source": [
    "# Save your notebook first, then run this cell to export your submission.\n",
    "grader.export(run_tests=True)"
   ]
  },
  {
   "cell_type": "markdown",
   "metadata": {},
   "source": [
    " "
   ]
  }
 ],
 "metadata": {
  "kernelspec": {
   "display_name": "Python 3",
   "language": "python",
   "name": "python3"
  },
  "language_info": {
   "codemirror_mode": {
    "name": "ipython",
    "version": 3
   },
   "file_extension": ".py",
   "mimetype": "text/x-python",
   "name": "python",
   "nbconvert_exporter": "python",
   "pygments_lexer": "ipython3",
   "version": "3.9.18"
  },
  "otter": {
   "OK_FORMAT": true,
   "assignment_name": "labs01",
   "tests": {
    "p1_1": {
     "name": "p1_1",
     "points": 20,
     "suites": [
      {
       "cases": [
        {
         "code": ">>> assert df['age'][2] == 41 and df['balance'][48] == 1443\n",
         "hidden": false,
         "locked": false
        },
        {
         "code": ">>> assert abs(svc_simple_score - 0.7357814599193909) < 0.01\n",
         "hidden": false,
         "locked": false
        }
       ],
       "scored": true,
       "setup": "",
       "teardown": "",
       "type": "doctest"
      }
     ]
    },
    "p1_2": {
     "name": "p1_2",
     "points": 20,
     "suites": [
      {
       "cases": [
        {
         "code": ">>> assert svc_score - svc_simple_score >= 0\n",
         "hidden": false,
         "locked": false
        },
        {
         "code": ">>> assert lr_score - lr_simple_score >= 0\n",
         "hidden": false,
         "locked": false
        }
       ],
       "scored": true,
       "setup": "",
       "teardown": "",
       "type": "doctest"
      }
     ]
    },
    "p2_1": {
     "name": "p2_1",
     "points": 10,
     "suites": [
      {
       "cases": [
        {
         "code": ">>> num_features = 5\n>>> num_samples = 10\n>>> np.random.seed(rng_seed)\n>>> dummy_weights = np.random.rand(num_features)\n>>> dummy_X = np.random.rand(num_samples, num_features)\n>>> dummy_y = np.random.randint(0, 2, num_samples)\n>>> initial_loss = loss_function(dummy_X, dummy_y, dummy_weights)\n>>> assert abs(initial_loss - 0.9160538386731103) < 0.0001\n",
         "hidden": false,
         "locked": false
        }
       ],
       "scored": true,
       "setup": "",
       "teardown": "",
       "type": "doctest"
      }
     ]
    },
    "p2_2": {
     "name": "p2_2",
     "points": 10,
     "suites": [
      {
       "cases": [
        {
         "code": ">>> num_features = 5\n>>> num_samples = 10\n>>> np.random.seed(rng_seed)\n>>> dummy_weights = np.random.rand(num_features)\n>>> dummy_X = np.random.rand(num_samples, num_features)\n>>> dummy_y = np.random.randint(0, 2, num_samples)\n>>> initial_gradient = gradient(dummy_X, dummy_y, dummy_weights)\n>>> assert abs(initial_gradient.sum() - 0.7627876529375204) < 0.0001\n",
         "hidden": false,
         "locked": false
        }
       ],
       "scored": true,
       "setup": "",
       "teardown": "",
       "type": "doctest"
      }
     ]
    },
    "p2_3": {
     "name": "p2_3",
     "points": 10,
     "suites": [
      {
       "cases": [
        {
         "code": ">>> np.random.seed(rng_seed)\n>>> num_features = 6\n>>> num_samples = 138\n>>> dummy_weights = np.random.rand(num_features)\n>>> dummy_X = np.random.rand(num_samples, num_features)\n>>> dummy_y = np.random.randint(0, 2, num_samples)\n>>> initial_weights = np.zeros(num_features)\n>>> (final_weights, loss_history) = stochastic_gradient_descent(dummy_X, dummy_y, initial_weights)\n>>> assert abs(loss_history[1] - 0.6931151309283121) < 0.0001\n",
         "hidden": false,
         "locked": false
        },
        {
         "code": ">>> np.random.seed(rng_seed)\n>>> num_features = 6\n>>> num_samples = 138\n>>> dummy_weights = np.random.rand(num_features)\n>>> dummy_X = np.random.rand(num_samples, num_features)\n>>> dummy_y = np.random.randint(0, 2, num_samples)\n>>> initial_weights = np.zeros(num_features)\n>>> (final_weights, loss_history) = stochastic_gradient_descent(dummy_X, dummy_y, initial_weights)\n>>> assert abs(len(loss_history) - 13800) < 0.0001\n",
         "hidden": false,
         "locked": false
        }
       ],
       "scored": true,
       "setup": "",
       "teardown": "",
       "type": "doctest"
      }
     ]
    },
    "p2_4": {
     "name": "p2_4",
     "points": 10,
     "suites": [
      {
       "cases": [
        {
         "code": ">>> assert x_train.shape == (8929, 51)\n",
         "hidden": false,
         "locked": false
        },
        {
         "code": ">>> assert abs(float(final_weights[0]) - -0.041616572346357336) < 1e-05\n",
         "hidden": false,
         "locked": false
        },
        {
         "code": ">>> assert abs(loss_history[0] - 0.6898603068851875) < 1e-05\n",
         "hidden": false,
         "locked": false
        }
       ],
       "scored": true,
       "setup": "",
       "teardown": "",
       "type": "doctest"
      }
     ]
    }
   }
  }
 },
 "nbformat": 4,
 "nbformat_minor": 4
}
